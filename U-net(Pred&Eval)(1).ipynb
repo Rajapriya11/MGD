{
 "cells": [
  {
   "cell_type": "code",
   "execution_count": 1,
   "id": "9c791c6b",
   "metadata": {},
   "outputs": [],
   "source": [
    "import os\n",
    "import time\n",
    "from glob import glob\n",
    "from tqdm import tqdm\n",
    "import tensorflow as tf\n",
    "import cv2\n",
    "import numpy as np\n",
    "from sklearn.metrics import precision_score, recall_score, accuracy_score, f1_score, average_precision_score, precision_recall_curve\n"
   ]
  },
  {
   "cell_type": "code",
   "execution_count": 2,
   "id": "b379d81f",
   "metadata": {},
   "outputs": [],
   "source": [
    "# Seed the environment\n",
    "np.random.seed(45)\n",
    "tf.random.set_seed(45)\n",
    " # Hyperparameters\n",
    "batch_size = 4\n",
    "lr = 1e-6\n",
    "epochs = 5\n",
    "height=640\n",
    "weight=1280"
   ]
  },
  {
   "cell_type": "code",
   "execution_count": 3,
   "id": "ca34c586",
   "metadata": {},
   "outputs": [],
   "source": [
    "import os\n",
    "\n",
    "data_path = \"C:/Users/Rajap/U-Net/test\"\n",
    "save_path = os.path.join(\"C:/Users/Rajap/U-Net\", \"predU-Net\")\n",
    "model_path = 'C:/Users/Rajap/model-U-Net.h5'\n"
   ]
  },
  {
   "cell_type": "code",
   "execution_count": 4,
   "id": "9194eedc",
   "metadata": {},
   "outputs": [],
   "source": [
    "def create_dir(path):\n",
    "  if not os.path.exists(path):\n",
    "    os.makedirs(path)\n"
   ]
  },
  {
   "cell_type": "code",
   "execution_count": 5,
   "id": "12410e00",
   "metadata": {},
   "outputs": [],
   "source": [
    "create_dir(save_path)"
   ]
  },
  {
   "cell_type": "code",
   "execution_count": 6,
   "id": "73f8f6c3",
   "metadata": {},
   "outputs": [
    {
     "name": "stdout",
     "output_type": "stream",
     "text": [
      "Model: \"U-net\"\n",
      "__________________________________________________________________________________________________\n",
      " Layer (type)                Output Shape                 Param #   Connected to                  \n",
      "==================================================================================================\n",
      " input_1 (InputLayer)        [(None, 640, 1280, 3)]       0         []                            \n",
      "                                                                                                  \n",
      " conv2d (Conv2D)             (None, 640, 1280, 64)        1792      ['input_1[0][0]']             \n",
      "                                                                                                  \n",
      " batch_normalization (Batch  (None, 640, 1280, 64)        256       ['conv2d[0][0]']              \n",
      " Normalization)                                                                                   \n",
      "                                                                                                  \n",
      " activation (Activation)     (None, 640, 1280, 64)        0         ['batch_normalization[0][0]'] \n",
      "                                                                                                  \n",
      " conv2d_1 (Conv2D)           (None, 640, 1280, 64)        36928     ['activation[0][0]']          \n",
      "                                                                                                  \n",
      " batch_normalization_1 (Bat  (None, 640, 1280, 64)        256       ['conv2d_1[0][0]']            \n",
      " chNormalization)                                                                                 \n",
      "                                                                                                  \n",
      " max_pooling2d (MaxPooling2  (None, 320, 640, 64)         0         ['batch_normalization_1[0][0]'\n",
      " D)                                                                 ]                             \n",
      "                                                                                                  \n",
      " conv2d_2 (Conv2D)           (None, 320, 640, 128)        73856     ['max_pooling2d[0][0]']       \n",
      "                                                                                                  \n",
      " batch_normalization_2 (Bat  (None, 320, 640, 128)        512       ['conv2d_2[0][0]']            \n",
      " chNormalization)                                                                                 \n",
      "                                                                                                  \n",
      " activation_2 (Activation)   (None, 320, 640, 128)        0         ['batch_normalization_2[0][0]'\n",
      "                                                                    ]                             \n",
      "                                                                                                  \n",
      " conv2d_3 (Conv2D)           (None, 320, 640, 128)        147584    ['activation_2[0][0]']        \n",
      "                                                                                                  \n",
      " batch_normalization_3 (Bat  (None, 320, 640, 128)        512       ['conv2d_3[0][0]']            \n",
      " chNormalization)                                                                                 \n",
      "                                                                                                  \n",
      " max_pooling2d_1 (MaxPoolin  (None, 160, 320, 128)        0         ['batch_normalization_3[0][0]'\n",
      " g2D)                                                               ]                             \n",
      "                                                                                                  \n",
      " conv2d_4 (Conv2D)           (None, 160, 320, 256)        295168    ['max_pooling2d_1[0][0]']     \n",
      "                                                                                                  \n",
      " batch_normalization_4 (Bat  (None, 160, 320, 256)        1024      ['conv2d_4[0][0]']            \n",
      " chNormalization)                                                                                 \n",
      "                                                                                                  \n",
      " activation_4 (Activation)   (None, 160, 320, 256)        0         ['batch_normalization_4[0][0]'\n",
      "                                                                    ]                             \n",
      "                                                                                                  \n",
      " conv2d_5 (Conv2D)           (None, 160, 320, 256)        590080    ['activation_4[0][0]']        \n",
      "                                                                                                  \n",
      " batch_normalization_5 (Bat  (None, 160, 320, 256)        1024      ['conv2d_5[0][0]']            \n",
      " chNormalization)                                                                                 \n",
      "                                                                                                  \n",
      " max_pooling2d_2 (MaxPoolin  (None, 80, 160, 256)         0         ['batch_normalization_5[0][0]'\n",
      " g2D)                                                               ]                             \n",
      "                                                                                                  \n",
      " conv2d_6 (Conv2D)           (None, 80, 160, 512)         1180160   ['max_pooling2d_2[0][0]']     \n",
      "                                                                                                  \n",
      " batch_normalization_6 (Bat  (None, 80, 160, 512)         2048      ['conv2d_6[0][0]']            \n",
      " chNormalization)                                                                                 \n",
      "                                                                                                  \n",
      " activation_6 (Activation)   (None, 80, 160, 512)         0         ['batch_normalization_6[0][0]'\n",
      "                                                                    ]                             \n",
      "                                                                                                  \n",
      " conv2d_7 (Conv2D)           (None, 80, 160, 512)         2359808   ['activation_6[0][0]']        \n",
      "                                                                                                  \n",
      " batch_normalization_7 (Bat  (None, 80, 160, 512)         2048      ['conv2d_7[0][0]']            \n",
      " chNormalization)                                                                                 \n",
      "                                                                                                  \n",
      " max_pooling2d_3 (MaxPoolin  (None, 40, 80, 512)          0         ['batch_normalization_7[0][0]'\n",
      " g2D)                                                               ]                             \n",
      "                                                                                                  \n",
      " conv2d_8 (Conv2D)           (None, 40, 80, 1024)         4719616   ['max_pooling2d_3[0][0]']     \n",
      "                                                                                                  \n",
      " batch_normalization_8 (Bat  (None, 40, 80, 1024)         4096      ['conv2d_8[0][0]']            \n",
      " chNormalization)                                                                                 \n",
      "                                                                                                  \n",
      " activation_8 (Activation)   (None, 40, 80, 1024)         0         ['batch_normalization_8[0][0]'\n",
      "                                                                    ]                             \n",
      "                                                                                                  \n",
      " conv2d_9 (Conv2D)           (None, 40, 80, 1024)         9438208   ['activation_8[0][0]']        \n",
      "                                                                                                  \n",
      " batch_normalization_9 (Bat  (None, 40, 80, 1024)         4096      ['conv2d_9[0][0]']            \n",
      " chNormalization)                                                                                 \n",
      "                                                                                                  \n",
      " conv2d_transpose (Conv2DTr  (None, 80, 160, 512)         2097664   ['batch_normalization_9[0][0]'\n",
      " anspose)                                                           ]                             \n",
      "                                                                                                  \n",
      " concatenate (Concatenate)   (None, 80, 160, 1024)        0         ['conv2d_transpose[0][0]',    \n",
      "                                                                     'batch_normalization_7[0][0]'\n",
      "                                                                    ]                             \n",
      "                                                                                                  \n",
      " conv2d_10 (Conv2D)          (None, 80, 160, 512)         4719104   ['concatenate[0][0]']         \n",
      "                                                                                                  \n",
      " batch_normalization_10 (Ba  (None, 80, 160, 512)         2048      ['conv2d_10[0][0]']           \n",
      " tchNormalization)                                                                                \n",
      "                                                                                                  \n",
      " activation_10 (Activation)  (None, 80, 160, 512)         0         ['batch_normalization_10[0][0]\n",
      "                                                                    ']                            \n",
      "                                                                                                  \n",
      " conv2d_11 (Conv2D)          (None, 80, 160, 512)         2359808   ['activation_10[0][0]']       \n",
      "                                                                                                  \n",
      " batch_normalization_11 (Ba  (None, 80, 160, 512)         2048      ['conv2d_11[0][0]']           \n",
      " tchNormalization)                                                                                \n",
      "                                                                                                  \n",
      " conv2d_transpose_1 (Conv2D  (None, 160, 320, 256)        524544    ['batch_normalization_11[0][0]\n",
      " Transpose)                                                         ']                            \n",
      "                                                                                                  \n",
      " concatenate_1 (Concatenate  (None, 160, 320, 512)        0         ['conv2d_transpose_1[0][0]',  \n",
      " )                                                                   'batch_normalization_5[0][0]'\n",
      "                                                                    ]                             \n",
      "                                                                                                  \n",
      " conv2d_12 (Conv2D)          (None, 160, 320, 256)        1179904   ['concatenate_1[0][0]']       \n",
      "                                                                                                  \n",
      " batch_normalization_12 (Ba  (None, 160, 320, 256)        1024      ['conv2d_12[0][0]']           \n",
      " tchNormalization)                                                                                \n",
      "                                                                                                  \n",
      " activation_12 (Activation)  (None, 160, 320, 256)        0         ['batch_normalization_12[0][0]\n",
      "                                                                    ']                            \n",
      "                                                                                                  \n",
      " conv2d_13 (Conv2D)          (None, 160, 320, 256)        590080    ['activation_12[0][0]']       \n",
      "                                                                                                  \n",
      " batch_normalization_13 (Ba  (None, 160, 320, 256)        1024      ['conv2d_13[0][0]']           \n",
      " tchNormalization)                                                                                \n",
      "                                                                                                  \n",
      " conv2d_transpose_2 (Conv2D  (None, 320, 640, 128)        131200    ['batch_normalization_13[0][0]\n",
      " Transpose)                                                         ']                            \n",
      "                                                                                                  \n",
      " concatenate_2 (Concatenate  (None, 320, 640, 256)        0         ['conv2d_transpose_2[0][0]',  \n",
      " )                                                                   'batch_normalization_3[0][0]'\n",
      "                                                                    ]                             \n",
      "                                                                                                  \n",
      " conv2d_14 (Conv2D)          (None, 320, 640, 128)        295040    ['concatenate_2[0][0]']       \n",
      "                                                                                                  \n",
      " batch_normalization_14 (Ba  (None, 320, 640, 128)        512       ['conv2d_14[0][0]']           \n",
      " tchNormalization)                                                                                \n",
      "                                                                                                  \n",
      " activation_14 (Activation)  (None, 320, 640, 128)        0         ['batch_normalization_14[0][0]\n",
      "                                                                    ']                            \n",
      "                                                                                                  \n",
      " conv2d_15 (Conv2D)          (None, 320, 640, 128)        147584    ['activation_14[0][0]']       \n",
      "                                                                                                  \n",
      " batch_normalization_15 (Ba  (None, 320, 640, 128)        512       ['conv2d_15[0][0]']           \n",
      " tchNormalization)                                                                                \n",
      "                                                                                                  \n",
      " conv2d_transpose_3 (Conv2D  (None, 640, 1280, 64)        32832     ['batch_normalization_15[0][0]\n",
      " Transpose)                                                         ']                            \n",
      "                                                                                                  \n",
      " concatenate_3 (Concatenate  (None, 640, 1280, 128)       0         ['conv2d_transpose_3[0][0]',  \n",
      " )                                                                   'batch_normalization_1[0][0]'\n",
      "                                                                    ]                             \n",
      "                                                                                                  \n",
      " conv2d_16 (Conv2D)          (None, 640, 1280, 64)        73792     ['concatenate_3[0][0]']       \n",
      "                                                                                                  \n",
      " batch_normalization_16 (Ba  (None, 640, 1280, 64)        256       ['conv2d_16[0][0]']           \n",
      " tchNormalization)                                                                                \n",
      "                                                                                                  \n",
      " activation_16 (Activation)  (None, 640, 1280, 64)        0         ['batch_normalization_16[0][0]\n",
      "                                                                    ']                            \n",
      "                                                                                                  \n",
      " conv2d_17 (Conv2D)          (None, 640, 1280, 64)        36928     ['activation_16[0][0]']       \n",
      "                                                                                                  \n",
      " batch_normalization_17 (Ba  (None, 640, 1280, 64)        256       ['conv2d_17[0][0]']           \n",
      " tchNormalization)                                                                                \n",
      "                                                                                                  \n",
      " conv2d_18 (Conv2D)          (None, 640, 1280, 1)         65        ['batch_normalization_17[0][0]\n",
      "                                                                    ']                            \n",
      "                                                                                                  \n",
      "==================================================================================================\n",
      "Total params: 31055297 (118.47 MB)\n",
      "Trainable params: 31043521 (118.42 MB)\n",
      "Non-trainable params: 11776 (46.00 KB)\n",
      "__________________________________________________________________________________________________\n"
     ]
    }
   ],
   "source": [
    "#Load the model\n",
    "model = tf.keras.models.load_model(model_path)\n",
    "\n",
    "model.summary()"
   ]
  },
  {
   "cell_type": "code",
   "execution_count": 18,
   "id": "0b63d312",
   "metadata": {},
   "outputs": [
    {
     "name": "stderr",
     "output_type": "stream",
     "text": [
      "  0%|                                                                                           | 0/50 [00:00<?, ?it/s]"
     ]
    },
    {
     "name": "stdout",
     "output_type": "stream",
     "text": [
      "1/1 [==============================] - 30s 30s/step\n"
     ]
    },
    {
     "name": "stderr",
     "output_type": "stream",
     "text": [
      "  2%|█▋                                                                                 | 1/50 [00:30<24:44, 30.30s/it]"
     ]
    },
    {
     "name": "stdout",
     "output_type": "stream",
     "text": [
      "Average time taken per image: 30.1574 seconds\n",
      "1/1 [==============================] - 26s 26s/step\n"
     ]
    },
    {
     "name": "stderr",
     "output_type": "stream",
     "text": [
      "  4%|███▎                                                                               | 2/50 [01:12<29:46, 37.22s/it]"
     ]
    },
    {
     "name": "stdout",
     "output_type": "stream",
     "text": [
      "Average time taken per image: 36.0663 seconds\n",
      "1/1 [==============================] - 27s 27s/step\n"
     ]
    },
    {
     "name": "stderr",
     "output_type": "stream",
     "text": [
      "  6%|████▉                                                                              | 3/50 [01:54<30:54, 39.46s/it]"
     ]
    },
    {
     "name": "stdout",
     "output_type": "stream",
     "text": [
      "Average time taken per image: 38.0369 seconds\n",
      "1/1 [==============================] - 28s 28s/step\n",
      "Average time taken per image: 35.5878 seconds\n"
     ]
    },
    {
     "name": "stderr",
     "output_type": "stream",
     "text": [
      "  8%|██████▋                                                                            | 4/50 [02:22<26:52, 35.06s/it]"
     ]
    },
    {
     "name": "stdout",
     "output_type": "stream",
     "text": [
      "1/1 [==============================] - 27s 27s/step\n"
     ]
    },
    {
     "name": "stderr",
     "output_type": "stream",
     "text": [
      " 10%|████████▎                                                                          | 5/50 [02:50<24:14, 32.31s/it]"
     ]
    },
    {
     "name": "stdout",
     "output_type": "stream",
     "text": [
      "Average time taken per image: 33.9364 seconds\n",
      "1/1 [==============================] - 25s 25s/step\n"
     ]
    },
    {
     "name": "stderr",
     "output_type": "stream",
     "text": [
      " 12%|█████████▉                                                                         | 6/50 [03:15<22:01, 30.04s/it]"
     ]
    },
    {
     "name": "stdout",
     "output_type": "stream",
     "text": [
      "Average time taken per image: 32.5309 seconds\n",
      "1/1 [==============================] - 28s 28s/step\n"
     ]
    },
    {
     "name": "stderr",
     "output_type": "stream",
     "text": [
      " 14%|███████████▌                                                                       | 7/50 [03:57<24:14, 33.81s/it]"
     ]
    },
    {
     "name": "stdout",
     "output_type": "stream",
     "text": [
      "Average time taken per image: 33.8048 seconds\n",
      "1/1 [==============================] - 13s 13s/step\n"
     ]
    },
    {
     "name": "stderr",
     "output_type": "stream",
     "text": [
      " 16%|█████████████▎                                                                     | 8/50 [04:10<19:00, 27.15s/it]"
     ]
    },
    {
     "name": "stdout",
     "output_type": "stream",
     "text": [
      "Average time taken per image: 31.1812 seconds\n",
      "1/1 [==============================] - 7s 7s/step\n"
     ]
    },
    {
     "name": "stderr",
     "output_type": "stream",
     "text": [
      " 18%|██████████████▉                                                                    | 9/50 [04:17<14:19, 20.97s/it]"
     ]
    },
    {
     "name": "stdout",
     "output_type": "stream",
     "text": [
      "Average time taken per image: 28.5331 seconds\n",
      "1/1 [==============================] - 9s 9s/step\n"
     ]
    },
    {
     "name": "stderr",
     "output_type": "stream",
     "text": [
      " 20%|████████████████▍                                                                 | 10/50 [04:27<11:35, 17.38s/it]"
     ]
    },
    {
     "name": "stdout",
     "output_type": "stream",
     "text": [
      "Average time taken per image: 26.6084 seconds\n",
      "1/1 [==============================] - 8s 8s/step\n"
     ]
    },
    {
     "name": "stderr",
     "output_type": "stream",
     "text": [
      " 22%|██████████████████                                                                | 11/50 [04:35<09:30, 14.63s/it]"
     ]
    },
    {
     "name": "stdout",
     "output_type": "stream",
     "text": [
      "Average time taken per image: 24.9457 seconds\n",
      "1/1 [==============================] - 8s 8s/step\n"
     ]
    },
    {
     "name": "stderr",
     "output_type": "stream",
     "text": [
      " 24%|███████████████████▋                                                              | 12/50 [04:44<08:06, 12.79s/it]"
     ]
    },
    {
     "name": "stdout",
     "output_type": "stream",
     "text": [
      "Average time taken per image: 23.5791 seconds\n",
      "1/1 [==============================] - 9s 9s/step\n"
     ]
    },
    {
     "name": "stderr",
     "output_type": "stream",
     "text": [
      " 26%|█████████████████████▎                                                            | 13/50 [04:52<07:09, 11.60s/it]"
     ]
    },
    {
     "name": "stdout",
     "output_type": "stream",
     "text": [
      "Average time taken per image: 22.4418 seconds\n",
      "1/1 [==============================] - 8s 8s/step\n"
     ]
    },
    {
     "name": "stderr",
     "output_type": "stream",
     "text": [
      " 28%|██████████████████████▉                                                           | 14/50 [05:01<06:22, 10.63s/it]"
     ]
    },
    {
     "name": "stdout",
     "output_type": "stream",
     "text": [
      "Average time taken per image: 21.4337 seconds\n",
      "1/1 [==============================] - 9s 9s/step\n"
     ]
    },
    {
     "name": "stderr",
     "output_type": "stream",
     "text": [
      " 30%|████████████████████████▌                                                         | 15/50 [05:10<05:51, 10.05s/it]"
     ]
    },
    {
     "name": "stdout",
     "output_type": "stream",
     "text": [
      "Average time taken per image: 20.5834 seconds\n",
      "1/1 [==============================] - 8s 8s/step\n"
     ]
    },
    {
     "name": "stderr",
     "output_type": "stream",
     "text": [
      " 32%|██████████████████████████▏                                                       | 16/50 [05:18<05:24,  9.55s/it]"
     ]
    },
    {
     "name": "stdout",
     "output_type": "stream",
     "text": [
      "Average time taken per image: 19.8177 seconds\n",
      "1/1 [==============================] - 8s 8s/step\n"
     ]
    },
    {
     "name": "stderr",
     "output_type": "stream",
     "text": [
      " 34%|███████████████████████████▉                                                      | 17/50 [05:26<05:03,  9.18s/it]"
     ]
    },
    {
     "name": "stdout",
     "output_type": "stream",
     "text": [
      "Average time taken per image: 19.1384 seconds\n",
      "1/1 [==============================] - 8s 8s/step\n"
     ]
    },
    {
     "name": "stderr",
     "output_type": "stream",
     "text": [
      " 36%|█████████████████████████████▌                                                    | 18/50 [05:35<04:48,  9.00s/it]"
     ]
    },
    {
     "name": "stdout",
     "output_type": "stream",
     "text": [
      "Average time taken per image: 18.5492 seconds\n",
      "1/1 [==============================] - 9s 9s/step\n"
     ]
    },
    {
     "name": "stderr",
     "output_type": "stream",
     "text": [
      " 38%|███████████████████████████████▏                                                  | 19/50 [05:44<04:36,  8.93s/it]"
     ]
    },
    {
     "name": "stdout",
     "output_type": "stream",
     "text": [
      "Average time taken per image: 18.0322 seconds\n",
      "1/1 [==============================] - 9s 9s/step\n"
     ]
    },
    {
     "name": "stderr",
     "output_type": "stream",
     "text": [
      " 40%|████████████████████████████████▊                                                 | 20/50 [05:52<04:26,  8.87s/it]"
     ]
    },
    {
     "name": "stdout",
     "output_type": "stream",
     "text": [
      "Average time taken per image: 17.5637 seconds\n",
      "1/1 [==============================] - 9s 9s/step\n"
     ]
    },
    {
     "name": "stderr",
     "output_type": "stream",
     "text": [
      " 42%|██████████████████████████████████▍                                               | 21/50 [06:01<04:17,  8.88s/it]"
     ]
    },
    {
     "name": "stdout",
     "output_type": "stream",
     "text": [
      "Average time taken per image: 17.1482 seconds\n",
      "1/1 [==============================] - 9s 9s/step\n"
     ]
    },
    {
     "name": "stderr",
     "output_type": "stream",
     "text": [
      " 44%|████████████████████████████████████                                              | 22/50 [06:10<04:10,  8.95s/it]"
     ]
    },
    {
     "name": "stdout",
     "output_type": "stream",
     "text": [
      "Average time taken per image: 16.7807 seconds\n",
      "1/1 [==============================] - 10s 10s/step\n"
     ]
    },
    {
     "name": "stderr",
     "output_type": "stream",
     "text": [
      " 46%|█████████████████████████████████████▋                                            | 23/50 [06:21<04:13,  9.38s/it]"
     ]
    },
    {
     "name": "stdout",
     "output_type": "stream",
     "text": [
      "Average time taken per image: 16.5010 seconds\n",
      "1/1 [==============================] - 9s 9s/step\n"
     ]
    },
    {
     "name": "stderr",
     "output_type": "stream",
     "text": [
      " 48%|███████████████████████████████████████▎                                          | 24/50 [06:30<04:03,  9.37s/it]"
     ]
    },
    {
     "name": "stdout",
     "output_type": "stream",
     "text": [
      "Average time taken per image: 16.2014 seconds\n",
      "1/1 [==============================] - 10s 10s/step\n"
     ]
    },
    {
     "name": "stderr",
     "output_type": "stream",
     "text": [
      " 50%|█████████████████████████████████████████                                         | 25/50 [06:40<03:58,  9.53s/it]"
     ]
    },
    {
     "name": "stdout",
     "output_type": "stream",
     "text": [
      "Average time taken per image: 15.9468 seconds\n",
      "1/1 [==============================] - 11s 11s/step\n"
     ]
    },
    {
     "name": "stderr",
     "output_type": "stream",
     "text": [
      " 52%|██████████████████████████████████████████▋                                       | 26/50 [06:51<03:57,  9.88s/it]"
     ]
    },
    {
     "name": "stdout",
     "output_type": "stream",
     "text": [
      "Average time taken per image: 15.7436 seconds\n",
      "1/1 [==============================] - 11s 11s/step\n"
     ]
    },
    {
     "name": "stderr",
     "output_type": "stream",
     "text": [
      " 54%|████████████████████████████████████████████▎                                     | 27/50 [07:02<03:55, 10.22s/it]"
     ]
    },
    {
     "name": "stdout",
     "output_type": "stream",
     "text": [
      "Average time taken per image: 15.5671 seconds\n",
      "1/1 [==============================] - 11s 11s/step\n"
     ]
    },
    {
     "name": "stderr",
     "output_type": "stream",
     "text": [
      " 56%|█████████████████████████████████████████████▉                                    | 28/50 [07:13<03:51, 10.52s/it]"
     ]
    },
    {
     "name": "stdout",
     "output_type": "stream",
     "text": [
      "Average time taken per image: 15.4091 seconds\n",
      "1/1 [==============================] - 13s 13s/step\n"
     ]
    },
    {
     "name": "stderr",
     "output_type": "stream",
     "text": [
      " 58%|███████████████████████████████████████████████▌                                  | 29/50 [07:26<03:58, 11.34s/it]"
     ]
    },
    {
     "name": "stdout",
     "output_type": "stream",
     "text": [
      "Average time taken per image: 15.3329 seconds\n",
      "1/1 [==============================] - 10s 10s/step\n"
     ]
    },
    {
     "name": "stderr",
     "output_type": "stream",
     "text": [
      " 60%|█████████████████████████████████████████████████▏                                | 30/50 [07:37<03:42, 11.12s/it]"
     ]
    },
    {
     "name": "stdout",
     "output_type": "stream",
     "text": [
      "Average time taken per image: 15.1733 seconds\n",
      "1/1 [==============================] - 10s 10s/step\n"
     ]
    },
    {
     "name": "stderr",
     "output_type": "stream",
     "text": [
      " 62%|██████████████████████████████████████████████████▊                               | 31/50 [07:47<03:27, 10.93s/it]"
     ]
    },
    {
     "name": "stdout",
     "output_type": "stream",
     "text": [
      "Average time taken per image: 15.0208 seconds\n",
      "1/1 [==============================] - 11s 11s/step\n"
     ]
    },
    {
     "name": "stderr",
     "output_type": "stream",
     "text": [
      " 64%|████████████████████████████████████████████████████▍                             | 32/50 [07:58<03:15, 10.87s/it]"
     ]
    },
    {
     "name": "stdout",
     "output_type": "stream",
     "text": [
      "Average time taken per image: 14.8851 seconds\n",
      "1/1 [==============================] - 11s 11s/step\n"
     ]
    },
    {
     "name": "stderr",
     "output_type": "stream",
     "text": [
      " 66%|██████████████████████████████████████████████████████                            | 33/50 [08:09<03:04, 10.85s/it]"
     ]
    },
    {
     "name": "stdout",
     "output_type": "stream",
     "text": [
      "Average time taken per image: 14.7603 seconds\n",
      "1/1 [==============================] - 11s 11s/step\n"
     ]
    },
    {
     "name": "stderr",
     "output_type": "stream",
     "text": [
      " 68%|███████████████████████████████████████████████████████▊                          | 34/50 [08:20<02:56, 11.02s/it]"
     ]
    },
    {
     "name": "stdout",
     "output_type": "stream",
     "text": [
      "Average time taken per image: 14.6609 seconds\n",
      "1/1 [==============================] - 11s 11s/step\n"
     ]
    },
    {
     "name": "stderr",
     "output_type": "stream",
     "text": [
      " 70%|█████████████████████████████████████████████████████████▍                        | 35/50 [08:31<02:45, 11.06s/it]"
     ]
    },
    {
     "name": "stdout",
     "output_type": "stream",
     "text": [
      "Average time taken per image: 14.5594 seconds\n",
      "1/1 [==============================] - 10s 10s/step\n"
     ]
    },
    {
     "name": "stderr",
     "output_type": "stream",
     "text": [
      " 72%|███████████████████████████████████████████████████████████                       | 36/50 [08:42<02:32, 10.90s/it]"
     ]
    },
    {
     "name": "stdout",
     "output_type": "stream",
     "text": [
      "Average time taken per image: 14.4462 seconds\n",
      "1/1 [==============================] - 11s 11s/step\n"
     ]
    },
    {
     "name": "stderr",
     "output_type": "stream",
     "text": [
      " 74%|████████████████████████████████████████████████████████████▋                     | 37/50 [08:53<02:21, 10.88s/it]"
     ]
    },
    {
     "name": "stdout",
     "output_type": "stream",
     "text": [
      "Average time taken per image: 14.3463 seconds\n",
      "1/1 [==============================] - 11s 11s/step\n"
     ]
    },
    {
     "name": "stderr",
     "output_type": "stream",
     "text": [
      " 76%|██████████████████████████████████████████████████████████████▎                   | 38/50 [09:04<02:10, 10.89s/it]"
     ]
    },
    {
     "name": "stdout",
     "output_type": "stream",
     "text": [
      "Average time taken per image: 14.2555 seconds\n",
      "1/1 [==============================] - 11s 11s/step\n"
     ]
    },
    {
     "name": "stderr",
     "output_type": "stream",
     "text": [
      " 78%|███████████████████████████████████████████████████████████████▉                  | 39/50 [09:15<02:00, 10.97s/it]"
     ]
    },
    {
     "name": "stdout",
     "output_type": "stream",
     "text": [
      "Average time taken per image: 14.1752 seconds\n",
      "1/1 [==============================] - 10s 10s/step\n"
     ]
    },
    {
     "name": "stderr",
     "output_type": "stream",
     "text": [
      " 80%|█████████████████████████████████████████████████████████████████▌                | 40/50 [09:25<01:48, 10.80s/it]"
     ]
    },
    {
     "name": "stdout",
     "output_type": "stream",
     "text": [
      "Average time taken per image: 14.0798 seconds\n",
      "1/1 [==============================] - 11s 11s/step\n"
     ]
    },
    {
     "name": "stderr",
     "output_type": "stream",
     "text": [
      " 82%|███████████████████████████████████████████████████████████████████▏              | 41/50 [09:36<01:37, 10.80s/it]"
     ]
    },
    {
     "name": "stdout",
     "output_type": "stream",
     "text": [
      "Average time taken per image: 13.9980 seconds\n",
      "1/1 [==============================] - 11s 11s/step\n"
     ]
    },
    {
     "name": "stderr",
     "output_type": "stream",
     "text": [
      " 84%|████████████████████████████████████████████████████████████████████▉             | 42/50 [09:47<01:26, 10.77s/it]"
     ]
    },
    {
     "name": "stdout",
     "output_type": "stream",
     "text": [
      "Average time taken per image: 13.9186 seconds\n",
      "1/1 [==============================] - 10s 10s/step\n"
     ]
    },
    {
     "name": "stderr",
     "output_type": "stream",
     "text": [
      " 86%|██████████████████████████████████████████████████████████████████████▌           | 43/50 [09:57<01:15, 10.72s/it]"
     ]
    },
    {
     "name": "stdout",
     "output_type": "stream",
     "text": [
      "Average time taken per image: 13.8401 seconds\n",
      "1/1 [==============================] - 10s 10s/step\n"
     ]
    },
    {
     "name": "stderr",
     "output_type": "stream",
     "text": [
      " 88%|████████████████████████████████████████████████████████████████████████▏         | 44/50 [10:08<01:04, 10.70s/it]"
     ]
    },
    {
     "name": "stdout",
     "output_type": "stream",
     "text": [
      "Average time taken per image: 13.7657 seconds\n",
      "1/1 [==============================] - 10s 10s/step\n"
     ]
    },
    {
     "name": "stderr",
     "output_type": "stream",
     "text": [
      " 90%|█████████████████████████████████████████████████████████████████████████▊        | 45/50 [10:18<00:53, 10.64s/it]"
     ]
    },
    {
     "name": "stdout",
     "output_type": "stream",
     "text": [
      "Average time taken per image: 13.6922 seconds\n",
      "1/1 [==============================] - 10s 10s/step\n"
     ]
    },
    {
     "name": "stderr",
     "output_type": "stream",
     "text": [
      " 92%|███████████████████████████████████████████████████████████████████████████▍      | 46/50 [10:29<00:42, 10.61s/it]"
     ]
    },
    {
     "name": "stdout",
     "output_type": "stream",
     "text": [
      "Average time taken per image: 13.6224 seconds\n",
      "1/1 [==============================] - 10s 10s/step\n"
     ]
    },
    {
     "name": "stderr",
     "output_type": "stream",
     "text": [
      " 94%|█████████████████████████████████████████████████████████████████████████████     | 47/50 [10:39<00:31, 10.58s/it]"
     ]
    },
    {
     "name": "stdout",
     "output_type": "stream",
     "text": [
      "Average time taken per image: 13.5552 seconds\n",
      "1/1 [==============================] - 10s 10s/step\n"
     ]
    },
    {
     "name": "stderr",
     "output_type": "stream",
     "text": [
      " 96%|██████████████████████████████████████████████████████████████████████████████▋   | 48/50 [10:50<00:21, 10.58s/it]"
     ]
    },
    {
     "name": "stdout",
     "output_type": "stream",
     "text": [
      "Average time taken per image: 13.4924 seconds\n",
      "1/1 [==============================] - 11s 11s/step\n"
     ]
    },
    {
     "name": "stderr",
     "output_type": "stream",
     "text": [
      " 98%|████████████████████████████████████████████████████████████████████████████████▎ | 49/50 [11:01<00:10, 10.62s/it]"
     ]
    },
    {
     "name": "stdout",
     "output_type": "stream",
     "text": [
      "Average time taken per image: 13.4344 seconds\n",
      "1/1 [==============================] - 10s 10s/step\n"
     ]
    },
    {
     "name": "stderr",
     "output_type": "stream",
     "text": [
      "100%|██████████████████████████████████████████████████████████████████████████████████| 50/50 [11:11<00:00, 13.44s/it]"
     ]
    },
    {
     "name": "stdout",
     "output_type": "stream",
     "text": [
      "Average time taken per image: 13.3770 seconds\n"
     ]
    },
    {
     "name": "stderr",
     "output_type": "stream",
     "text": [
      "\n"
     ]
    }
   ],
   "source": [
    "time_reqd = []\n",
    "for x in tqdm(test_x):\n",
    "    name  = os.path.basename(x) \n",
    "    \n",
    "    x = cv2.imread(x, cv2.IMREAD_COLOR)\n",
    "    x = x /255.0\n",
    "    x = np.expand_dims(x, axis=0)\n",
    "    \n",
    "    \n",
    "    starting_time = time.time()\n",
    "    p = model.predict(x)[0]\n",
    "    total_time = time.time() - starting_time\n",
    "    time_reqd.append(total_time)\n",
    "    p = p > 0.5\n",
    "    p = p *255\n",
    "    cv2.imwrite(os.path.join(save_path, name), p)\n",
    "    \n",
    "    print(f\"Average time taken per image: {np.mean(time_taken):.4f} seconds\")    \n",
    "    "
   ]
  },
  {
   "cell_type": "code",
   "execution_count": 26,
   "id": "a4caee52",
   "metadata": {},
   "outputs": [
    {
     "name": "stdout",
     "output_type": "stream",
     "text": [
      "Accuracy: 0.7493\n",
      "Precision: 0.4397\n",
      "Recall: 0.7776\n",
      "F1 Score: 0.5617\n",
      "IoU: 0.3906\n",
      "Mean Average Precision (mAP): 0.3878\n"
     ]
    }
   ],
   "source": [
    "# Defininig the paths\n",
    "gr_truth_path = \"C:/Users/Rajap/U-Net/test/masks\"\n",
    "pred_path = \"C:/Users/Rajap/U-Net/predU-Net\"\n",
    "\n",
    "# Load ground truth images\n",
    "gr_truth_images = [cv2.imread(os.path.join(gr_truth_path, img), cv2.IMREAD_GRAYSCALE) for img in os.listdir(gr_truth_path)]\n",
    "\n",
    "# Load predicted images\n",
    "pred_images = [cv2.imread(os.path.join(pred_path, img), cv2.IMREAD_GRAYSCALE) for img in os.listdir(pred_path)]\n",
    "\n",
    "# Flatten and threshold the images for comparison\n",
    "threshold = 0.5\n",
    "gr_truth_binary = np.concatenate([img.flatten() for img in gr_truth_images])\n",
    "gr_truth_binary = np.where(gr_truth_binary > threshold, 1, 0)\n",
    "\n",
    "pred_bin = np.concatenate([img.flatten() for img in pred_images])\n",
    "pred_bin = np.where(pred_bin > threshold, 1, 0)\n",
    "\n",
    "# Reshape the arrays to have the same shape\n",
    "gr_truth_binary = gr_truth_binary.reshape(pred_bin.shape)\n",
    "\n",
    "# Calculate the evalauation metrics\n",
    "precision_value = precision_score(gr_truth_binary, pred_bin)\n",
    "recall_value = recall_score(gr_truth_binary, pred_bin)\n",
    "accuracy_value = accuracy_score(gr_truth_binary, pred_bin)\n",
    "f1_value = f1_score(gr_truth_binary, pred_bin)\n",
    "\n",
    "# Intersection over Union (IoU)\n",
    "intersection = np.logical_and(gr_truth_binary, pred_bin)\n",
    "union = np.logical_or(gr_truth_binary, pred_bin)\n",
    "iou_value = np.sum(intersection) / np.sum(union)\n",
    "\n",
    "# Precision-Recall curve and Average Precision (mAP)\n",
    "precision_curve, recall_curve, _ = precision_recall_curve(gr_truth_binary.ravel(), pred_bin.ravel())\n",
    "ap = average_precision_score(gr_truth_binary.ravel(), pred_bin.ravel())\n",
    "map_value = np.mean(ap)\n",
    "\n",
    "# Print the metrics\n",
    "print(f\"Accuracy: {accuracy_value:.4f}\")\n",
    "print(f\"Precision: {precision_value:.4f}\")\n",
    "print(f\"Recall: {recall_value:.4f}\")\n",
    "print(f\"F1 Score: {f1_value:.4f}\")\n",
    "print(f\"IoU: {iou_value:.4f}\")\n",
    "print(f\"Mean Average Precision (mAP): {map_value:.4f}\")\n"
   ]
  },
  {
   "cell_type": "code",
   "execution_count": null,
   "id": "5c8e953d",
   "metadata": {},
   "outputs": [],
   "source": []
  }
 ],
 "metadata": {
  "kernelspec": {
   "display_name": "Python 3 (ipykernel)",
   "language": "python",
   "name": "python3"
  },
  "language_info": {
   "codemirror_mode": {
    "name": "ipython",
    "version": 3
   },
   "file_extension": ".py",
   "mimetype": "text/x-python",
   "name": "python",
   "nbconvert_exporter": "python",
   "pygments_lexer": "ipython3",
   "version": "3.11.5"
  }
 },
 "nbformat": 4,
 "nbformat_minor": 5
}
