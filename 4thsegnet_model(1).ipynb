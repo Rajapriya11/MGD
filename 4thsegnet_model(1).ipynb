{
  "nbformat": 4,
  "nbformat_minor": 0,
  "metadata": {
    "colab": {
      "provenance": [],
      "gpuType": "T4"
    },
    "kernelspec": {
      "name": "python3",
      "display_name": "Python 3"
    },
    "language_info": {
      "name": "python"
    },
    "accelerator": "GPU"
  },
  "cells": [
    {
      "cell_type": "code",
      "execution_count": 1,
      "metadata": {
        "id": "iwJKrg2N1_dT"
      },
      "outputs": [],
      "source": [
        "import os\n",
        "import cv2\n",
        "import numpy as np\n",
        "import tensorflow as tf\n",
        "from glob import glob\n",
        "from tensorflow.keras.layers import Conv2D, BatchNormalization, Activation, MaxPooling2D, UpSampling2D, Input, Concatenate\n",
        "from tensorflow.keras.optimizers import Adam\n",
        "from tensorflow.keras.losses import BinaryCrossentropy\n",
        "from tensorflow.keras.callbacks import ModelCheckpoint, ReduceLROnPlateau, CSVLogger, TensorBoard, EarlyStopping\n",
        "from tensorflow.keras.metrics import Recall, Precision, Accuracy"
      ]
    },
    {
      "cell_type": "code",
      "source": [
        "from google.colab import drive\n",
        "drive.mount('/content/drive')"
      ],
      "metadata": {
        "id": "aEqBRCQjxjbi"
      },
      "execution_count": null,
      "outputs": []
    },
    {
      "cell_type": "code",
      "source": [
        "\n",
        "#\"\"\" Global parameters \"\"\"\n",
        "height = 640\n",
        "width = 1280\n",
        "batch_size=2\n",
        "data_path = \"../content/drive/MyDrive/DS\"\n",
        "\n",
        "#\"\"\" Creating a directory \"\"\"\n",
        "def create_dir(path):\n",
        "    if not os.path.exists(path):\n",
        "        os.makedirs(path)\n",
        "\n",
        "create_dir(\"files_s\")\n",
        "\n",
        "def load_data(path):\n",
        "    x = sorted(glob(os.path.join(path, \"images\", \"*JPG\")))\n",
        "    y = sorted(glob(os.path.join(path, \"masks\", \"*png\")))\n",
        "    return x, y\n",
        "\n",
        "def read_img(path):\n",
        "    path = path.decode()\n",
        "    x = cv2.imread(path, cv2.IMREAD_COLOR)\n",
        "    x = x / 255.0\n",
        "    x = x.astype(np.float32)\n",
        "    return x\n",
        "\n",
        "def read_mask(path):\n",
        "    path = path.decode()\n",
        "    x = cv2.imread(path, cv2.IMREAD_GRAYSCALE)\n",
        "    x = x.astype(np.float32)\n",
        "    x = np.expand_dims(x, axis=-1)\n",
        "    return x\n",
        "\n",
        "def tf_parse(x, y):\n",
        "    def _parse(x, y):\n",
        "        x = read_img(x)\n",
        "        y = read_mask(y)\n",
        "        return x, y\n",
        "\n",
        "    x, y = tf.numpy_function(_parse, [x, y], [tf.float32, tf.float32])\n",
        "    x.set_shape([height, width, 3])\n",
        "    y.set_shape([height, width, 1])\n",
        "    return x, y\n",
        "\n",
        "def tf_ds(X, Y, batch=2, shuffle_buffer_size=1000, augment=False):\n",
        "    ds = tf.data.Dataset.from_tensor_slices((X, Y))\n",
        "    ds = ds.shuffle(buffer_size=shuffle_buffer_size)\n",
        "\n",
        "if __name__ == \"__main__\":\n",
        "    \"\"\" Seeding \"\"\"\n",
        "    np.random.seed(45)\n",
        "    tf.random.set_seed(45)\n",
        "\n",
        "\n",
        " #\"\" Dataset \"\"\"\n",
        "    data_path = \"../content/drive/MyDrive/DS\"\n",
        "\n",
        "    train_path = os.path.join(data_path, \"train\")\n",
        "    valid_path = os.path.join(data_path, \"test\")\n",
        "\n",
        "    train_x, train_y = load_data(train_path)\n",
        "    valid_x, valid_y = load_data(valid_path)\n",
        "\n",
        "    print(f\"Train: {len(train_x)} - {len(train_y)}\")\n",
        "    print(f\"valid: {len(valid_x)} - {len(valid_y)}\")\n",
        "\n",
        "    # Create datasets with and without data augmentation\n",
        "    train_ds = tf_ds(train_x, train_y, batch=batch_size, augment=True)\n",
        "    valid_ds = tf_ds(valid_x, valid_y, batch=batch_size)"
      ],
      "metadata": {
        "colab": {
          "base_uri": "https://localhost:8080/"
        },
        "id": "n2BlfOXU2MBt",
        "outputId": "3fb7ca16-fb13-4c3d-9f61-8f5ee06c7c7f"
      },
      "execution_count": 2,
      "outputs": [
        {
          "output_type": "stream",
          "name": "stdout",
          "text": [
            "Train: 500 - 500\n",
            "valid: 50 - 50\n"
          ]
        }
      ]
    },
    {
      "cell_type": "code",
      "source": [],
      "metadata": {
        "id": "IGEPB3SX9lb5"
      },
      "execution_count": null,
      "outputs": []
    },
    {
      "cell_type": "code",
      "source": [],
      "metadata": {
        "id": "YKgGJuCw9leg"
      },
      "execution_count": null,
      "outputs": []
    },
    {
      "cell_type": "code",
      "source": [
        "import os\n",
        "import cv2\n",
        "import numpy as np\n",
        "import tensorflow as tf\n",
        "from glob import glob\n",
        "from tensorflow.keras.layers import Input\n",
        "import matplotlib.pyplot as plt\n",
        "\n",
        "\"\"\" Global parameters \"\"\"\n",
        "height = 640\n",
        "width = 1280\n",
        "batch_size = 2\n",
        "data_path = \"../content/drive/MyDrive/DS\"\n",
        "\n",
        "# Creating a directory\n",
        "def create_dir(path):\n",
        "    if not os.path.exists(path):\n",
        "        os.makedirs(path)\n",
        "\n",
        "create_dir(\"files_s\")\n",
        "\n",
        "def load_data(path):\n",
        "    x = sorted(glob(os.path.join(path, \"images\", \"*JPG\")))\n",
        "    y = sorted(glob(os.path.join(path, \"masks\", \"*png\")))\n",
        "    return x, y\n",
        "\n",
        "def read_img(path):\n",
        "    path = path.decode()\n",
        "    x = cv2.imread(path, cv2.IMREAD_COLOR)\n",
        "    x = x / 255.0\n",
        "    x = x.astype(np.float32)\n",
        "    return x\n",
        "\n",
        "def read_mask(path):\n",
        "    path = path.decode()\n",
        "    x = cv2.imread(path, cv2.IMREAD_GRAYSCALE)\n",
        "    x = x.astype(np.float32)\n",
        "    x = np.expand_dims(x, axis=-1)\n",
        "    return x\n",
        "\n",
        "def tf_parse(x, y):\n",
        "    def _parse(x, y):\n",
        "        x = read_img(x)\n",
        "        y = read_mask(y)\n",
        "        return x, y\n",
        "\n",
        "    x, y = tf.numpy_function(_parse, [x, y], [tf.float32, tf.float32])\n",
        "    x.set_shape([height, width, 3])\n",
        "    y.set_shape([height, width, 1])\n",
        "    return x, y\n",
        "\n",
        "# Example of data augmentation using tf.image operations\n",
        "def augment_data(x, y):\n",
        "    # Add your data augmentation operations here\n",
        "    x = tf.image.flip_left_right(x)\n",
        "    y = tf.image.flip_left_right(y)\n",
        "    return x, y\n",
        "\n",
        "def tf_ds(X, Y, batch=2, shuffle_buffer_size=1000, augment=False):\n",
        "    ds = tf.data.Dataset.from_tensor_slices((X, Y))\n",
        "    ds = ds.shuffle(buffer_size=shuffle_buffer_size)\n",
        "\n",
        "    ds = ds.map(tf_parse)\n",
        "\n",
        "    # Additional steps for data augmentation if needed\n",
        "    if augment:\n",
        "        ds = ds.map(augment_data)\n",
        "\n",
        "    ds = ds.batch(batch)\n",
        "    ds = ds.prefetch(tf.data.AUTOTUNE)\n",
        "\n",
        "    return ds\n",
        "\n",
        "if __name__ == \"__main__\":\n",
        "    \"\"\" Seeding \"\"\"\n",
        "    np.random.seed(45)\n",
        "    tf.random.set_seed(45)\n",
        "\n",
        "    # Dataset\n",
        "    train_path = os.path.join(data_path, \"train\")\n",
        "    valid_path = os.path.join(data_path, \"test\")\n",
        "\n",
        "    train_x, train_y = load_data(train_path)\n",
        "    valid_x, valid_y = load_data(valid_path)\n",
        "\n",
        "    print(f\"Train: {len(train_x)} - {len(train_y)}\")\n",
        "    print(f\"Valid: {len(valid_x)} - {len(valid_y)}\")\n",
        "\n",
        "    # Create datasets with and without data augmentation\n",
        "    train_ds = tf_ds(train_x, train_y, batch=batch_size, augment=True)\n",
        "    valid_ds = tf_ds(valid_x, valid_y, batch=batch_size)\n",
        "\n",
        "    # Test the datasets\n",
        "    for batch in train_ds.take(1):\n",
        "        images, masks = batch\n",
        "        print(\"Batch shape:\", images.shape, masks.shape)\n",
        "\n",
        "        # Display the first image and mask in the batch\n",
        "        plt.subplot(1, 2, 1)\n",
        "        plt.imshow(images[0])\n",
        "        plt.title(\"Image\")\n",
        "        plt.subplot(1, 2, 2)\n",
        "        plt.imshow(tf.squeeze(masks[0]), cmap='gray')\n",
        "        plt.title(\"Mask\")\n",
        "        plt.show()\n"
      ],
      "metadata": {
        "colab": {
          "base_uri": "https://localhost:8080/",
          "height": 248
        },
        "id": "zOfG3MZZ9liF",
        "outputId": "6cc1b4ee-f8c7-4ec2-9d36-e04e9037b081"
      },
      "execution_count": 2,
      "outputs": [
        {
          "output_type": "stream",
          "name": "stdout",
          "text": [
            "Train: 500 - 500\n",
            "Valid: 50 - 50\n",
            "Batch shape: (2, 640, 1280, 3) (2, 640, 1280, 1)\n"
          ]
        },
        {
          "output_type": "display_data",
          "data": {
            "text/plain": [
              "<Figure size 640x480 with 2 Axes>"
            ],
            "image/png": "[encoded data removed]"
          },
          "metadata": {}
        }
      ]
    },
    {
      "cell_type": "code",
      "source": [
        "from tensorflow.keras.layers import Layer, Conv2D, BatchNormalization, Conv2DTranspose, Input, MaxPooling2D, UpSampling2D\n",
        "from tensorflow.keras.callbacks import ModelCheckpoint, ReduceLROnPlateau, CSVLogger, TensorBoard, EarlyStopping\n",
        "import tensorflow as tf\n",
        "\n",
        "class MaxPoolingWithArgmax2D(Layer):\n",
        "    def __init__(self, pool_size=(2, 2), **kwargs):\n",
        "        super(MaxPoolingWithArgmax2D, self).__init__(**kwargs)\n",
        "        self.pool_size = pool_size\n",
        "        self.strides = pool_size\n",
        "\n",
        "    def call(self, inputs, **kwargs):\n",
        "        ksize = [1, *self.pool_size, 1]\n",
        "        strides = [1, *self.strides, 1]\n",
        "        output, argmax = tf.nn.max_pool_with_argmax(inputs, ksize=ksize, strides=strides, padding='SAME')\n",
        "        return [output, argmax]\n",
        "\n",
        "    def compute_output_shape(self, input_shape):\n",
        "        ratio = [1, *self.pool_size, 1]\n",
        "        output_shape = [dim // ratio[idx] if dim is not None else None for idx, dim in enumerate(input_shape)]\n",
        "        return [tuple(output_shape), tuple(output_shape)]\n",
        "\n",
        "    def compute_mask(self, inputs, mask=None):\n",
        "        return 2 * [None]\n",
        "\n",
        "def segnet_block(X, filters, block):\n",
        "    b = 'block_' + str(block) + '_'\n",
        "    f1, f2, f3, f4 = filters\n",
        "\n",
        "    # Encoder\n",
        "    conv1 = Conv2D(f1, (3, 3), activation='relu', padding='same', kernel_initializer='he_normal')(X)\n",
        "    conv1 = BatchNormalization()(conv1)\n",
        "    conv1 = Conv2D(f2, (3, 3), activation='relu', padding='same', kernel_initializer='he_normal')(conv1)\n",
        "    conv1 = BatchNormalization()(conv1)\n",
        "    pool1, mask1 = MaxPoolingWithArgmax2D(pool_size=(2, 2))(conv1)\n",
        "\n",
        "    # Decoder\n",
        "    up1 = Conv2DTranspose(f3, (3, 3), activation='relu', padding='same', kernel_initializer='he_normal', strides=(2, 2))(pool1)\n",
        "    up1 = BatchNormalization()(up1)\n",
        "    up1 = Conv2D(f4, (3, 3), activation='relu', padding='same', kernel_initializer='he_normal')(up1)\n",
        "    up1 = BatchNormalization()(up1)\n",
        "\n",
        "    # Output layer with a single channel and sigmoid activation\n",
        "    output_layer = Conv2D(1, (1, 1), activation='sigmoid', padding='same', kernel_initializer='he_normal')(up1)\n",
        "\n",
        "    return output_layer\n",
        "\n",
        "# Test the modified segnet_block function with a sample input\n",
        "input_layer = Input(shape=(640, 1280, 3), name='input')\n",
        "block1 = segnet_block(input_layer, [32, 32, 64, 64], '1')\n",
        "print(block1.shape)\n",
        "\n",
        "# Define the model\n",
        "model_input = Input(shape=(640, 1280, 3), name='input')\n",
        "model_output = segnet_block(model_input, [32, 32, 64, 64], '1')\n",
        "model = tf.keras.Model(inputs=model_input, outputs=model_output)\n",
        "\n",
        "# Use tf.keras.optimizers.Adam instead of tf.train.AdamOptimizer\n",
        "optimizer = tf.keras.optimizers.Adam(learning_rate=1e-4)\n",
        "\n",
        "# Enable mixed precision for the optimizer\n",
        "optimizer = tf.keras.mixed_precision.LossScaleOptimizer(optimizer, dynamic=True)\n",
        "\n",
        "model.compile(\n",
        "    loss=tf.keras.losses.BinaryCrossentropy(),\n",
        "    optimizer=optimizer,\n",
        "    metrics=[tf.keras.metrics.Recall(), tf.keras.metrics.Precision(), tf.keras.metrics.Accuracy()]\n",
        ")\n",
        "\n",
        "# Callbacks\n",
        "model_path = 'model_checkpoint.h5'\n",
        "csv_path = 'training_logs.csv'\n",
        "callbacks = [\n",
        "    ModelCheckpoint(model_path, verbose=1, save_best_only=True, save_weights_only=True, save_freq='epoch'),\n",
        "    ReduceLROnPlateau(monitor='val_loss', factor=0.1, patience=10, min_lr=1e-4, verbose=1),\n",
        "    CSVLogger(csv_path),\n",
        "    TensorBoard(write_graph=False),\n",
        "    EarlyStopping(monitor='val_loss', patience=10, restore_best_weights=False),\n",
        "]\n",
        "\n",
        "# Use your adjusted train_ds and valid_ds\n",
        "model.fit(\n",
        "    train_ds,\n",
        "    epochs=10,\n",
        "    validation_data=valid_ds,\n",
        "    callbacks=callbacks\n",
        ")\n"
      ],
      "metadata": {
        "colab": {
          "base_uri": "https://localhost:8080/"
        },
        "outputId": "dc2a9381-6526-459d-921a-101ff72d6cd8",
        "id": "CRjthm_O9CN6"
      },
      "execution_count": 3,
      "outputs": [
        {
          "output_type": "stream",
          "name": "stdout",
          "text": [
            "(None, 640, 1280, 1)\n",
            "Epoch 1/10\n",
            "250/250 [==============================] - ETA: 0s - loss: -219.6860 - recall: 0.8507 - precision: 0.2709 - accuracy: 0.0000e+00\n",
            "Epoch 1: val_loss improved from inf to -287.02786, saving model to model_checkpoint.h5\n",
            "250/250 [==============================] - 664s 3s/step - loss: -219.6860 - recall: 0.8507 - precision: 0.2709 - accuracy: 0.0000e+00 - val_loss: -287.0279 - val_recall: 0.9204 - val_precision: 0.2435 - val_accuracy: 0.0000e+00 - lr: 1.0000e-04\n",
            "Epoch 2/10\n",
            "250/250 [==============================] - ETA: 0s - loss: -376.1429 - recall: 0.8309 - precision: 0.2865 - accuracy: 1.1792e-06\n",
            "Epoch 2: val_loss improved from -287.02786 to -414.37811, saving model to model_checkpoint.h5\n",
            "250/250 [==============================] - 71s 283ms/step - loss: -376.1429 - recall: 0.8309 - precision: 0.2865 - accuracy: 1.1792e-06 - val_loss: -414.3781 - val_recall: 0.8406 - val_precision: 0.2841 - val_accuracy: 0.0000e+00 - lr: 1.0000e-04\n",
            "Epoch 3/10\n",
            "250/250 [==============================] - ETA: 0s - loss: -493.7820 - recall: 0.8335 - precision: 0.2933 - accuracy: 1.0579e-05\n",
            "Epoch 3: val_loss improved from -414.37811 to -606.49963, saving model to model_checkpoint.h5\n",
            "250/250 [==============================] - 71s 284ms/step - loss: -493.7820 - recall: 0.8335 - precision: 0.2933 - accuracy: 1.0579e-05 - val_loss: -606.4996 - val_recall: 0.8181 - val_precision: 0.3031 - val_accuracy: 1.4380e-05 - lr: 1.0000e-04\n",
            "Epoch 4/10\n",
            "250/250 [==============================] - ETA: 0s - loss: -615.6324 - recall: 0.8356 - precision: 0.2978 - accuracy: 1.6277e-05\n",
            "Epoch 4: val_loss did not improve from -606.49963\n",
            "250/250 [==============================] - 71s 283ms/step - loss: -615.6324 - recall: 0.8356 - precision: 0.2978 - accuracy: 1.6277e-05 - val_loss: -525.4753 - val_recall: 0.7626 - val_precision: 0.3321 - val_accuracy: 1.3501e-05 - lr: 1.0000e-04\n",
            "Epoch 5/10\n",
            "250/250 [==============================] - ETA: 0s - loss: -741.8936 - recall: 0.8405 - precision: 0.2991 - accuracy: 1.9272e-05\n",
            "Epoch 5: val_loss improved from -606.49963 to -853.09717, saving model to model_checkpoint.h5\n",
            "250/250 [==============================] - 71s 284ms/step - loss: -741.8936 - recall: 0.8405 - precision: 0.2991 - accuracy: 1.9272e-05 - val_loss: -853.0972 - val_recall: 0.8245 - val_precision: 0.3158 - val_accuracy: 1.9360e-05 - lr: 1.0000e-04\n",
            "Epoch 6/10\n",
            "250/250 [==============================] - ETA: 0s - loss: -881.2358 - recall: 0.8457 - precision: 0.3009 - accuracy: 2.0625e-05\n",
            "Epoch 6: val_loss improved from -853.09717 to -1086.37695, saving model to model_checkpoint.h5\n",
            "250/250 [==============================] - 71s 284ms/step - loss: -881.2358 - recall: 0.8457 - precision: 0.3009 - accuracy: 2.0625e-05 - val_loss: -1086.3770 - val_recall: 0.8396 - val_precision: 0.3102 - val_accuracy: 2.0825e-05 - lr: 1.0000e-04\n",
            "Epoch 7/10\n",
            "250/250 [==============================] - ETA: 0s - loss: -1033.2484 - recall: 0.8487 - precision: 0.3024 - accuracy: 2.1223e-05\n",
            "Epoch 7: val_loss improved from -1086.37695 to -1365.92517, saving model to model_checkpoint.h5\n",
            "250/250 [==============================] - 71s 284ms/step - loss: -1033.2484 - recall: 0.8487 - precision: 0.3024 - accuracy: 2.1223e-05 - val_loss: -1365.9252 - val_recall: 0.8505 - val_precision: 0.3048 - val_accuracy: 2.1924e-05 - lr: 1.0000e-04\n",
            "Epoch 8/10\n",
            "250/250 [==============================] - ETA: 0s - loss: -1198.3387 - recall: 0.8501 - precision: 0.3044 - accuracy: 2.1101e-05\n",
            "Epoch 8: val_loss improved from -1365.92517 to -1470.47754, saving model to model_checkpoint.h5\n",
            "250/250 [==============================] - 71s 283ms/step - loss: -1198.3387 - recall: 0.8501 - precision: 0.3044 - accuracy: 2.1101e-05 - val_loss: -1470.4775 - val_recall: 0.8194 - val_precision: 0.3101 - val_accuracy: 2.0654e-05 - lr: 1.0000e-04\n",
            "Epoch 9/10\n",
            "250/250 [==============================] - ETA: 0s - loss: -1375.6486 - recall: 0.8551 - precision: 0.3053 - accuracy: 2.1328e-05\n",
            "Epoch 9: val_loss improved from -1470.47754 to -1753.12683, saving model to model_checkpoint.h5\n",
            "250/250 [==============================] - 71s 284ms/step - loss: -1375.6486 - recall: 0.8551 - precision: 0.3053 - accuracy: 2.1328e-05 - val_loss: -1753.1268 - val_recall: 0.8782 - val_precision: 0.3033 - val_accuracy: 2.1924e-05 - lr: 1.0000e-04\n",
            "Epoch 10/10\n",
            "250/250 [==============================] - ETA: 0s - loss: -1563.1656 - recall: 0.8608 - precision: 0.3046 - accuracy: 2.1714e-05\n",
            "Epoch 10: val_loss improved from -1753.12683 to -1973.92590, saving model to model_checkpoint.h5\n",
            "250/250 [==============================] - 71s 283ms/step - loss: -1563.1656 - recall: 0.8608 - precision: 0.3046 - accuracy: 2.1714e-05 - val_loss: -1973.9259 - val_recall: 0.8627 - val_precision: 0.3085 - val_accuracy: 2.1777e-05 - lr: 1.0000e-04\n"
          ]
        },
        {
          "output_type": "execute_result",
          "data": {
            "text/plain": [
              "<keras.src.callbacks.History at 0x7ebfb033ea10>"
            ]
          },
          "metadata": {},
          "execution_count": 3
        }
      ]
    },
    {
      "cell_type": "code",
      "source": [],
      "metadata": {
        "id": "ZwNfy8b8_BT5"
      },
      "execution_count": null,
      "outputs": []
    },
    {
      "cell_type": "code",
      "source": [
        "# Global parameters\n",
        "height = 640\n",
        "width = 1280\n",
        "data_path = \"../content/drive/MyDrive/DS\"\n",
        "\n",
        "# Create result directory\n",
        "result_path = os.path.join(data_path, \"SEGRES\", \"result\")\n",
        "create_dir(result_path)\n",
        "\n",
        "# Load the model with custom metric functions\n",
        "model_path = \"../content/drive/MyDrive/DS/segnet_files/model_checkpoint.h5\"\n",
        "\n",
        "model = tf.keras.models.load_model(model_path)\n",
        "\n",
        "# Load the dataset\n",
        "data_path = \"../content/drive/MyDrive/DS\"\n",
        "valid_path = os.path.join(data_path, \"test\")\n",
        "test_x, test_y = load_data(valid_path)\n",
        "print(f\"Test: {len(test_x)}\")\n",
        "\n",
        "# Evaluation\n",
        "SCORE = []  # Initialize SCORE list\n",
        "\n",
        "for x, y in tqdm(zip(test_x, test_y), total=len(test_x)):\n",
        "    # Image read\n",
        "    img = cv2.imread(x, cv2.IMREAD_COLOR)\n",
        "    x = img / 255.0\n",
        "    x = np.expand_dims(x, axis=0)\n",
        "\n",
        "    # Read mask\n",
        "    mask = cv2.imread(y, cv2.IMREAD_GRAYSCALE)\n",
        "\n",
        "    # Prediction\n",
        "    y_pr = model.predict(x)[0]\n",
        "    y_pr = np.squeeze(y_pr, axis=-1)\n",
        "    y_pr = y_pr > 0.5\n",
        "    y_pr = y_pr.astype(np.int32)\n",
        "\n",
        "    # Flatten the arrays\n",
        "    mask_flat = mask.flatten()\n",
        "    y_pr_flat = y_pr.flatten()\n",
        "\n",
        "    # Calculate metrics\n",
        "    acc_value = accuracy_score(mask_flat, y_pr_flat)\n",
        "    f1_val = f1_score(mask_flat, y_pr_flat, average='weighted')  # Change average to 'weighted'\n",
        "    jac_val = jaccard_score(mask_flat, y_pr_flat, labels=[0, 1], average='weighted')  # Change average to 'weighted'\n",
        "    recall_val = recall_score(mask_flat, y_pr_flat, labels=[0, 1], average='weighted')  # Change average to 'weighted'\n",
        "    precision_value = precision_score(mask_flat, y_pr_flat, labels=[0, 1], average='weighted')  # Change average to 'weighted'\n",
        "\n",
        "    # Append metrics to SCORE list\n",
        "    SCORE.append({\n",
        "        'accuracy': acc_value,\n",
        "        'f1_score': f1_val,\n",
        "        'jaccard_score': jac_val,\n",
        "        'recall': recall_val,\n",
        "        'precision': precision_value\n",
        "    })\n",
        "\n",
        "# Calculate average metrics\n",
        "average_metrics = {\n",
        "    'average_accuracy': np.mean([score['accuracy'] for score in SCORE]),\n",
        "    'average_f1_score': np.mean([score['f1_score'] for score in SCORE]),\n",
        "    'average_jaccard_score': np.mean([score['jaccard_score'] for score in SCORE]),\n",
        "    'average_recall': np.mean([score['recall'] for score in SCORE]),\n",
        "    'average_precision': np.mean([score['precision'] for score in SCORE]),\n",
        "}\n",
        "\n",
        "print(\"Average Metrics:\")\n",
        "print(average_metrics)\n"
      ],
      "metadata": {
        "id": "onDcdvNB_BWj",
        "colab": {
          "base_uri": "https://localhost:8080/",
          "height": 432
        },
        "outputId": "677c1bcb-3aa9-4086-ec12-41a569e71633"
      },
      "execution_count": 5,
      "outputs": [
        {
          "output_type": "error",
          "ename": "ValueError",
          "evalue": "ignored",
          "traceback": [
            "\u001b[0;31m---------------------------------------------------------------------------\u001b[0m",
            "\u001b[0;31mValueError\u001b[0m                                Traceback (most recent call last)",
            "\u001b[0;32m<ipython-input-5-ba5dec511a41>\u001b[0m in \u001b[0;36m<cell line: 13>\u001b[0;34m()\u001b[0m\n\u001b[1;32m     11\u001b[0m \u001b[0mmodel_path\u001b[0m \u001b[0;34m=\u001b[0m \u001b[0;34m\"../content/drive/MyDrive/DS/segnet_files/model_checkpoint.h5\"\u001b[0m\u001b[0;34m\u001b[0m\u001b[0;34m\u001b[0m\u001b[0m\n\u001b[1;32m     12\u001b[0m \u001b[0;34m\u001b[0m\u001b[0m\n\u001b[0;32m---> 13\u001b[0;31m \u001b[0mmodel\u001b[0m \u001b[0;34m=\u001b[0m \u001b[0mtf\u001b[0m\u001b[0;34m.\u001b[0m\u001b[0mkeras\u001b[0m\u001b[0;34m.\u001b[0m\u001b[0mmodels\u001b[0m\u001b[0;34m.\u001b[0m\u001b[0mload_model\u001b[0m\u001b[0;34m(\u001b[0m\u001b[0mmodel_path\u001b[0m\u001b[0;34m)\u001b[0m\u001b[0;34m\u001b[0m\u001b[0;34m\u001b[0m\u001b[0m\n\u001b[0m\u001b[1;32m     14\u001b[0m \u001b[0;34m\u001b[0m\u001b[0m\n\u001b[1;32m     15\u001b[0m \u001b[0;31m# Load the dataset\u001b[0m\u001b[0;34m\u001b[0m\u001b[0;34m\u001b[0m\u001b[0m\n",
            "\u001b[0;32m/usr/local/lib/python3.10/dist-packages/keras/src/saving/saving_api.py\u001b[0m in \u001b[0;36mload_model\u001b[0;34m(filepath, custom_objects, compile, safe_mode, **kwargs)\u001b[0m\n\u001b[1;32m    260\u001b[0m \u001b[0;34m\u001b[0m\u001b[0m\n\u001b[1;32m    261\u001b[0m     \u001b[0;31m# Legacy case.\u001b[0m\u001b[0;34m\u001b[0m\u001b[0;34m\u001b[0m\u001b[0m\n\u001b[0;32m--> 262\u001b[0;31m     return legacy_sm_saving_lib.load_model(\n\u001b[0m\u001b[1;32m    263\u001b[0m         \u001b[0mfilepath\u001b[0m\u001b[0;34m,\u001b[0m \u001b[0mcustom_objects\u001b[0m\u001b[0;34m=\u001b[0m\u001b[0mcustom_objects\u001b[0m\u001b[0;34m,\u001b[0m \u001b[0mcompile\u001b[0m\u001b[0;34m=\u001b[0m\u001b[0mcompile\u001b[0m\u001b[0;34m,\u001b[0m \u001b[0;34m**\u001b[0m\u001b[0mkwargs\u001b[0m\u001b[0;34m\u001b[0m\u001b[0;34m\u001b[0m\u001b[0m\n\u001b[1;32m    264\u001b[0m     )\n",
            "\u001b[0;32m/usr/local/lib/python3.10/dist-packages/keras/src/utils/traceback_utils.py\u001b[0m in \u001b[0;36merror_handler\u001b[0;34m(*args, **kwargs)\u001b[0m\n\u001b[1;32m     68\u001b[0m             \u001b[0;31m# To get the full stack trace, call:\u001b[0m\u001b[0;34m\u001b[0m\u001b[0;34m\u001b[0m\u001b[0m\n\u001b[1;32m     69\u001b[0m             \u001b[0;31m# `tf.debugging.disable_traceback_filtering()`\u001b[0m\u001b[0;34m\u001b[0m\u001b[0;34m\u001b[0m\u001b[0m\n\u001b[0;32m---> 70\u001b[0;31m             \u001b[0;32mraise\u001b[0m \u001b[0me\u001b[0m\u001b[0;34m.\u001b[0m\u001b[0mwith_traceback\u001b[0m\u001b[0;34m(\u001b[0m\u001b[0mfiltered_tb\u001b[0m\u001b[0;34m)\u001b[0m \u001b[0;32mfrom\u001b[0m \u001b[0;32mNone\u001b[0m\u001b[0;34m\u001b[0m\u001b[0;34m\u001b[0m\u001b[0m\n\u001b[0m\u001b[1;32m     71\u001b[0m         \u001b[0;32mfinally\u001b[0m\u001b[0;34m:\u001b[0m\u001b[0;34m\u001b[0m\u001b[0;34m\u001b[0m\u001b[0m\n\u001b[1;32m     72\u001b[0m             \u001b[0;32mdel\u001b[0m \u001b[0mfiltered_tb\u001b[0m\u001b[0;34m\u001b[0m\u001b[0;34m\u001b[0m\u001b[0m\n",
            "\u001b[0;32m/usr/local/lib/python3.10/dist-packages/keras/src/saving/legacy/hdf5_format.py\u001b[0m in \u001b[0;36mload_model_from_hdf5\u001b[0;34m(filepath, custom_objects, compile)\u001b[0m\n\u001b[1;32m    195\u001b[0m         \u001b[0mmodel_config\u001b[0m \u001b[0;34m=\u001b[0m \u001b[0mf\u001b[0m\u001b[0;34m.\u001b[0m\u001b[0mattrs\u001b[0m\u001b[0;34m.\u001b[0m\u001b[0mget\u001b[0m\u001b[0;34m(\u001b[0m\u001b[0;34m\"model_config\"\u001b[0m\u001b[0;34m)\u001b[0m\u001b[0;34m\u001b[0m\u001b[0;34m\u001b[0m\u001b[0m\n\u001b[1;32m    196\u001b[0m         \u001b[0;32mif\u001b[0m \u001b[0mmodel_config\u001b[0m \u001b[0;32mis\u001b[0m \u001b[0;32mNone\u001b[0m\u001b[0;34m:\u001b[0m\u001b[0;34m\u001b[0m\u001b[0;34m\u001b[0m\u001b[0m\n\u001b[0;32m--> 197\u001b[0;31m             raise ValueError(\n\u001b[0m\u001b[1;32m    198\u001b[0m                 \u001b[0;34mf\"No model config found in the file at {filepath}.\"\u001b[0m\u001b[0;34m\u001b[0m\u001b[0;34m\u001b[0m\u001b[0m\n\u001b[1;32m    199\u001b[0m             )\n",
            "\u001b[0;31mValueError\u001b[0m: No model config found in the file at <tensorflow.python.platform.gfile.GFile object at 0x7ebf41529390>."
          ]
        }
      ]
    },
    {
      "cell_type": "code",
      "source": [],
      "metadata": {
        "id": "6c_R2nMY_Bdn",
        "colab": {
          "base_uri": "https://localhost:8080/"
        },
        "outputId": "618114e2-b648-4306-c6e8-b9a31052d04f"
      },
      "execution_count": 7,
      "outputs": [
        {
          "output_type": "stream",
          "name": "stdout",
          "text": [
            "['batch_normalization_4', 'batch_normalization_5', 'batch_normalization_6', 'batch_normalization_7', 'conv2d_4', 'conv2d_5', 'conv2d_6', 'conv2d_7', 'conv2d_transpose_1', 'input', 'max_pooling_with_argmax2d_1', 'top_level_model_weights']\n"
          ]
        }
      ]
    },
    {
      "cell_type": "code",
      "source": [
        "import os\n",
        "import cv2\n",
        "import numpy as np\n",
        "import tensorflow as tf\n",
        "from glob import glob\n",
        "from tensorflow.keras.layers import Input\n",
        "import matplotlib.pyplot as plt\n",
        "\n",
        "# Global parameters\n",
        "height = 640\n",
        "width = 1280\n",
        "dataset_path = \"../content/drive/MyDrive/DS\"\n",
        "files_directory = os.path.join(dataset_path, \"files_train\", \"DS\")\n",
        "model_file = os.path.join(files_directory, \"segnet.h5\")\n",
        "log_file = os.path.join(files_directory, \"log-segnet.csv\")\n",
        "\n",
        "# Creating a directory\n",
        "def create_dir(path):\n",
        "    if not os.path.exists(path):\n",
        "        os.makedirs(path)\n",
        "\n",
        "create_dir(files_directory)\n",
        "\n",
        "\n",
        "\n",
        "def load_data(path):\n",
        "    x = sorted(glob(os.path.join(path, \"images\", \"*JPG\")))\n",
        "    y = sorted(glob(os.path.join(path, \"masks\", \"*png\")))\n",
        "    return x, y\n",
        "\n",
        "def read_img(path):\n",
        "    path = path.decode()\n",
        "    x = cv2.imread(path, cv2.IMREAD_COLOR)\n",
        "    x = x / 255.0\n",
        "    x = x.astype(np.float32)\n",
        "    return x\n",
        "\n",
        "def read_mask(path):\n",
        "    path = path.decode()\n",
        "    x = cv2.imread(path, cv2.IMREAD_GRAYSCALE)\n",
        "    x = x.astype(np.float32)\n",
        "    x = np.expand_dims(x, axis=-1)\n",
        "    return x\n",
        "\n",
        "def tf_parse(x, y):\n",
        "    def _parse(x, y):\n",
        "        x = read_img(x)\n",
        "        y = read_mask(y)\n",
        "        return x, y\n",
        "\n",
        "    x, y = tf.numpy_function(_parse, [x, y], [tf.float32, tf.float32])\n",
        "    x.set_shape([height, width, 3])\n",
        "    y.set_shape([height, width, 1])\n",
        "    return x, y\n",
        "\n",
        "# Example of data augmentation using tf.image operations\n",
        "def augment_data(x, y):\n",
        "    # Add your data augmentation operations here\n",
        "    x = tf.image.flip_left_right(x)\n",
        "    y = tf.image.flip_left_right(y)\n",
        "    return x, y\n",
        "\n",
        "def tf_ds(X, Y, batch=2, shuffle_buffer_size=1000, augment=False):\n",
        "    ds = tf.data.Dataset.from_tensor_slices((X, Y))\n",
        "    ds = ds.shuffle(buffer_size=shuffle_buffer_size)\n",
        "\n",
        "    ds = ds.map(tf_parse)\n",
        "\n",
        "    # Additional steps for data augmentation if needed\n",
        "    if augment:\n",
        "        ds = ds.map(augment_data)\n",
        "\n",
        "    ds = ds.batch(batch)\n",
        "    ds = ds.prefetch(tf.data.AUTOTUNE)\n",
        "\n",
        "    return ds\n",
        "\n",
        "if __name__ == \"__main__\":\n",
        "    \"\"\" Seeding \"\"\"\n",
        "    np.random.seed(45)\n",
        "    tf.random.set_seed(45)\n",
        "\n",
        "    # Dataset\n",
        "    train_path = os.path.join(data_path, \"train\")\n",
        "    valid_path = os.path.join(data_path, \"test\")\n",
        "\n",
        "    train_x, train_y = load_data(train_path)\n",
        "    valid_x, valid_y = load_data(valid_path)\n",
        "\n",
        "    print(f\"Train: {len(train_x)} - {len(train_y)}\")\n",
        "    print(f\"Valid: {len(valid_x)} - {len(valid_y)}\")\n",
        "\n",
        "    # Create datasets with and without data augmentation\n",
        "    train_ds = tf_ds(train_x, train_y, batch=batch_size, augment=True)\n",
        "    valid_ds = tf_ds(valid_x, valid_y, batch=batch_size)\n",
        "\n",
        "    # Test the datasets\n",
        "    for batch in train_ds.take(1):\n",
        "        images, masks = batch\n",
        "        print(\"Batch shape:\", images.shape, masks.shape)\n",
        "\n",
        "        # Display the first image and mask in the batch\n",
        "        plt.subplot(1, 2, 1)\n",
        "        plt.imshow(images[0])\n",
        "        plt.title(\"Image\")\n",
        "        plt.subplot(1, 2, 2)\n",
        "        plt.imshow(tf.squeeze(masks[0]), cmap='gray')\n",
        "        plt.title(\"Mask\")\n",
        "        plt.show()\n"
      ],
      "metadata": {
        "colab": {
          "base_uri": "https://localhost:8080/",
          "height": 248
        },
        "outputId": "891076a4-72eb-4970-aad4-0e82734c023e",
        "id": "ZmlxhYSbg_IV"
      },
      "execution_count": 13,
      "outputs": [
        {
          "output_type": "stream",
          "name": "stdout",
          "text": [
            "Train: 500 - 500\n",
            "Valid: 50 - 50\n",
            "Batch shape: (2, 640, 1280, 3) (2, 640, 1280, 1)\n"
          ]
        },
        {
          "output_type": "display_data",
          "data": {
            "text/plain": [
              "<Figure size 640x480 with 2 Axes>"
            ],
            "image/png": "[encoded data removed]"
          },
          "metadata": {}
        }
      ]
    },
    {
      "cell_type": "code",
      "source": [
        "from tensorflow.keras.layers import Layer, Conv2D, BatchNormalization, Conv2DTranspose, Input, MaxPooling2D, UpSampling2D\n",
        "from tensorflow.keras.callbacks import ModelCheckpoint, ReduceLROnPlateau, CSVLogger, TensorBoard, EarlyStopping\n",
        "import tensorflow as tf\n",
        "\n",
        "class MaxPoolingWithArgmax2D(Layer):\n",
        "    def __init__(self, pool_size=(2, 2), **kwargs):\n",
        "        super(MaxPoolingWithArgmax2D, self).__init__(**kwargs)\n",
        "        self.pool_size = pool_size\n",
        "        self.strides = pool_size\n",
        "\n",
        "    def call(self, inputs, **kwargs):\n",
        "        ksize = [1, *self.pool_size, 1]\n",
        "        strides = [1, *self.strides, 1]\n",
        "        output, argmax = tf.nn.max_pool_with_argmax(inputs, ksize=ksize, strides=strides, padding='SAME')\n",
        "        return [output, argmax]\n",
        "\n",
        "    def compute_output_shape(self, input_shape):\n",
        "        ratio = [1, *self.pool_size, 1]\n",
        "        output_shape = [dim // ratio[idx] if dim is not None else None for idx, dim in enumerate(input_shape)]\n",
        "        return [tuple(output_shape), tuple(output_shape)]\n",
        "\n",
        "    def compute_mask(self, inputs, mask=None):\n",
        "        return 2 * [None]\n",
        "\n",
        "def segnet_block(X, filters, block):\n",
        "    b = 'block_' + str(block) + '_'\n",
        "    f1, f2, f3, f4 = filters\n",
        "\n",
        "    # Encoder\n",
        "    conv1 = Conv2D(f1, (3, 3), activation='relu', padding='same', kernel_initializer='he_normal')(X)\n",
        "    conv1 = BatchNormalization()(conv1)\n",
        "    conv1 = Conv2D(f2, (3, 3), activation='relu', padding='same', kernel_initializer='he_normal')(conv1)\n",
        "    conv1 = BatchNormalization()(conv1)\n",
        "    pool1, mask1 = MaxPoolingWithArgmax2D(pool_size=(2, 2))(conv1)\n",
        "\n",
        "    # Decoder\n",
        "    up1 = Conv2DTranspose(f3, (3, 3), activation='relu', padding='same', kernel_initializer='he_normal', strides=(2, 2))(pool1)\n",
        "    up1 = BatchNormalization()(up1)\n",
        "    up1 = Conv2D(f4, (3, 3), activation='relu', padding='same', kernel_initializer='he_normal')(up1)\n",
        "    up1 = BatchNormalization()(up1)\n",
        "\n",
        "    # Output layer with a single channel and sigmoid activation\n",
        "    output_layer = Conv2D(1, (1, 1), activation='sigmoid', padding='same', kernel_initializer='he_normal')(up1)\n",
        "\n",
        "    return output_layer\n",
        "\n",
        "# Test the modified segnet_block function with a sample input\n",
        "input_layer = Input(shape=(640, 1280, 3), name='input')\n",
        "block1 = segnet_block(input_layer, [32, 32, 64, 64], '1')\n",
        "print(block1.shape)\n",
        "\n",
        "# Define the model\n",
        "model_input = Input(shape=(640, 1280, 3), name='input')\n",
        "model_output = segnet_block(model_input, [32, 32, 64, 64], '1')\n",
        "model = tf.keras.Model(inputs=model_input, outputs=model_output)\n",
        "\n",
        "# Use tf.keras.optimizers.Adam instead of tf.train.AdamOptimizer\n",
        "optimizer = tf.keras.optimizers.Adam(learning_rate=1e-4)\n",
        "\n",
        "# Enable mixed precision for the optimizer\n",
        "optimizer = tf.keras.mixed_precision.LossScaleOptimizer(optimizer, dynamic=True)\n",
        "\n",
        "model.compile(\n",
        "    loss=tf.keras.losses.BinaryCrossentropy(),\n",
        "    optimizer=optimizer,\n",
        "    metrics=[tf.keras.metrics.Recall(), tf.keras.metrics.Precision(), tf.keras.metrics.Accuracy()]\n",
        ")\n",
        "\n",
        "# ... (previous code)\n",
        "\n",
        "# Callbacks\n",
        "model_path = os.path.join(files_directory, 'model_checkpoint.h5')\n",
        "csv_path = os.path.join(files_directory, 'training_logs.csv')\n",
        "callbacks = [\n",
        "    ModelCheckpoint(model_path, verbose=1, save_best_only=True, save_weights_only=True, save_freq='epoch'),\n",
        "    ReduceLROnPlateau(monitor='val_loss', factor=0.1, patience=10, min_lr=1e-4, verbose=1),\n",
        "    CSVLogger(csv_path),\n",
        "    TensorBoard(write_graph=False),\n",
        "    EarlyStopping(monitor='val_loss', patience=10, restore_best_weights=False),\n",
        "]\n",
        "\n",
        "# Use your adjusted train_ds and valid_ds\n",
        "model.fit(\n",
        "    train_ds,\n",
        "    epochs=10,\n",
        "    validation_data=valid_ds,\n",
        "    callbacks=callbacks\n",
        ")\n",
        "\n"
      ],
      "metadata": {
        "colab": {
          "base_uri": "https://localhost:8080/"
        },
        "outputId": "cc5d7809-6b73-437c-a2ec-84f2e8550a40",
        "id": "OOupVRLDdK6k"
      },
      "execution_count": 15,
      "outputs": [
        {
          "output_type": "stream",
          "name": "stdout",
          "text": [
            "(None, 640, 1280, 1)\n",
            "Epoch 1/10\n",
            "250/250 [==============================] - ETA: 0s - loss: -241.6168 - recall_3: 0.8031 - precision_3: 0.2817 - accuracy: 2.4414e-09\n",
            "Epoch 1: val_loss improved from inf to -483.31384, saving model to ../content/drive/MyDrive/DS/files_train/DS/model_checkpoint.h5\n",
            "250/250 [==============================] - 76s 287ms/step - loss: -241.6168 - recall_3: 0.8031 - precision_3: 0.2817 - accuracy: 2.4414e-09 - val_loss: -483.3138 - val_recall_3: 0.9524 - val_precision_3: 0.2370 - val_accuracy: 0.0000e+00 - lr: 1.0000e-04\n",
            "Epoch 2/10\n",
            "250/250 [==============================] - ETA: 0s - loss: -405.4841 - recall_3: 0.8259 - precision_3: 0.2927 - accuracy: 4.4824e-06\n",
            "Epoch 2: val_loss improved from -483.31384 to -623.05450, saving model to ../content/drive/MyDrive/DS/files_train/DS/model_checkpoint.h5\n",
            "250/250 [==============================] - 71s 284ms/step - loss: -405.4841 - recall_3: 0.8259 - precision_3: 0.2927 - accuracy: 4.4824e-06 - val_loss: -623.0545 - val_recall_3: 0.8895 - val_precision_3: 0.2777 - val_accuracy: 1.2231e-05 - lr: 1.0000e-04\n",
            "Epoch 3/10\n",
            "250/250 [==============================] - ETA: 0s - loss: -520.2535 - recall_3: 0.8418 - precision_3: 0.2933 - accuracy: 1.2654e-05\n",
            "Epoch 3: val_loss did not improve from -623.05450\n",
            "250/250 [==============================] - 71s 284ms/step - loss: -520.2535 - recall_3: 0.8418 - precision_3: 0.2933 - accuracy: 1.2654e-05 - val_loss: -622.6957 - val_recall_3: 0.8060 - val_precision_3: 0.3095 - val_accuracy: 1.4966e-05 - lr: 1.0000e-04\n",
            "Epoch 4/10\n",
            "250/250 [==============================] - ETA: 0s - loss: -640.0627 - recall_3: 0.8474 - precision_3: 0.2944 - accuracy: 1.6589e-05\n",
            "Epoch 4: val_loss improved from -623.05450 to -782.12872, saving model to ../content/drive/MyDrive/DS/files_train/DS/model_checkpoint.h5\n",
            "250/250 [==============================] - 71s 285ms/step - loss: -640.0627 - recall_3: 0.8474 - precision_3: 0.2944 - accuracy: 1.6589e-05 - val_loss: -782.1287 - val_recall_3: 0.8148 - val_precision_3: 0.3098 - val_accuracy: 1.7944e-05 - lr: 1.0000e-04\n",
            "Epoch 5/10\n",
            "250/250 [==============================] - ETA: 0s - loss: -771.9384 - recall_3: 0.8505 - precision_3: 0.2965 - accuracy: 1.8557e-05\n",
            "Epoch 5: val_loss improved from -782.12872 to -991.08362, saving model to ../content/drive/MyDrive/DS/files_train/DS/model_checkpoint.h5\n",
            "250/250 [==============================] - 72s 286ms/step - loss: -771.9384 - recall_3: 0.8505 - precision_3: 0.2965 - accuracy: 1.8557e-05 - val_loss: -991.0836 - val_recall_3: 0.8652 - val_precision_3: 0.3019 - val_accuracy: 2.0483e-05 - lr: 1.0000e-04\n",
            "Epoch 6/10\n",
            "250/250 [==============================] - ETA: 0s - loss: -917.3771 - recall_3: 0.8547 - precision_3: 0.2988 - accuracy: 2.0266e-05\n",
            "Epoch 6: val_loss improved from -991.08362 to -1140.02832, saving model to ../content/drive/MyDrive/DS/files_train/DS/model_checkpoint.h5\n",
            "250/250 [==============================] - 72s 286ms/step - loss: -917.3771 - recall_3: 0.8547 - precision_3: 0.2988 - accuracy: 2.0266e-05 - val_loss: -1140.0283 - val_recall_3: 0.8574 - val_precision_3: 0.3077 - val_accuracy: 2.1143e-05 - lr: 1.0000e-04\n",
            "Epoch 7/10\n",
            "250/250 [==============================] - ETA: 0s - loss: -1071.7122 - recall_3: 0.8526 - precision_3: 0.3020 - accuracy: 2.1177e-05\n",
            "Epoch 7: val_loss improved from -1140.02832 to -1307.79993, saving model to ../content/drive/MyDrive/DS/files_train/DS/model_checkpoint.h5\n",
            "250/250 [==============================] - 71s 285ms/step - loss: -1071.7122 - recall_3: 0.8526 - precision_3: 0.3020 - accuracy: 2.1177e-05 - val_loss: -1307.7999 - val_recall_3: 0.8210 - val_precision_3: 0.3095 - val_accuracy: 2.1338e-05 - lr: 1.0000e-04\n",
            "Epoch 8/10\n",
            "250/250 [==============================] - ETA: 0s - loss: -1238.0839 - recall_3: 0.8543 - precision_3: 0.3035 - accuracy: 2.1604e-05\n",
            "Epoch 8: val_loss improved from -1307.79993 to -1449.42468, saving model to ../content/drive/MyDrive/DS/files_train/DS/model_checkpoint.h5\n",
            "250/250 [==============================] - 72s 287ms/step - loss: -1238.0839 - recall_3: 0.8543 - precision_3: 0.3035 - accuracy: 2.1604e-05 - val_loss: -1449.4247 - val_recall_3: 0.8423 - val_precision_3: 0.3108 - val_accuracy: 2.1387e-05 - lr: 1.0000e-04\n",
            "Epoch 9/10\n",
            "250/250 [==============================] - ETA: 0s - loss: -1416.4103 - recall_3: 0.8606 - precision_3: 0.3040 - accuracy: 2.1870e-05\n",
            "Epoch 9: val_loss improved from -1449.42468 to -1470.16870, saving model to ../content/drive/MyDrive/DS/files_train/DS/model_checkpoint.h5\n",
            "250/250 [==============================] - 72s 286ms/step - loss: -1416.4103 - recall_3: 0.8606 - precision_3: 0.3040 - accuracy: 2.1870e-05 - val_loss: -1470.1687 - val_recall_3: 0.7930 - val_precision_3: 0.3245 - val_accuracy: 1.9824e-05 - lr: 1.0000e-04\n",
            "Epoch 10/10\n",
            "250/250 [==============================] - ETA: 0s - loss: -1590.4602 - recall_3: 0.8605 - precision_3: 0.3045 - accuracy: 2.2407e-05\n",
            "Epoch 10: val_loss improved from -1470.16870 to -2210.04102, saving model to ../content/drive/MyDrive/DS/files_train/DS/model_checkpoint.h5\n",
            "250/250 [==============================] - 72s 286ms/step - loss: -1590.4602 - recall_3: 0.8605 - precision_3: 0.3045 - accuracy: 2.2407e-05 - val_loss: -2210.0410 - val_recall_3: 0.8956 - val_precision_3: 0.2918 - val_accuracy: 2.4609e-05 - lr: 1.0000e-04\n"
          ]
        },
        {
          "output_type": "execute_result",
          "data": {
            "text/plain": [
              "<keras.src.callbacks.History at 0x7ebf3c60b340>"
            ]
          },
          "metadata": {},
          "execution_count": 15
        }
      ]
    },
    {
      "cell_type": "code",
      "source": [
        "from tqdm import tqdm\n",
        "from tensorflow.keras.metrics import Recall, Precision, Accuracy\n",
        "from sklearn.metrics import accuracy_score, f1_score, jaccard_score, recall_score, precision_score\n",
        "\n",
        "\n",
        "from tensorflow.keras.layers import Input\n",
        "# Calculate evaluation metrics using the trained model\n",
        "SCORE = []  # Initialize SCORE list\n",
        "\n",
        "for x, y in tqdm(zip(valid_x, valid_y), total=len(valid_x)):\n",
        "    # Image read\n",
        "    img = cv2.imread(x, cv2.IMREAD_COLOR)\n",
        "    x = img / 255.0\n",
        "    x = np.expand_dims(x, axis=0)\n",
        "\n",
        "    # Read mask\n",
        "    mask = cv2.imread(y, cv2.IMREAD_GRAYSCALE)\n",
        "\n",
        "    # Prediction using the trained model (model) instead of saved_model\n",
        "    y_pr = model.predict(x)[0]\n",
        "    y_pr = np.squeeze(y_pr, axis=-1)\n",
        "    y_pr = y_pr > 0.5\n",
        "    y_pr = y_pr.astype(np.int32)\n",
        "\n",
        "    # Flatten the arrays\n",
        "    mask_flat = mask.flatten()\n",
        "    y_pr_flat = y_pr.flatten()\n",
        "\n",
        "    # Calculate metrics\n",
        "    acc_value = accuracy_score(mask_flat, y_pr_flat)\n",
        "    f1_val = f1_score(mask_flat, y_pr_flat, average='weighted')\n",
        "    jac_val = jaccard_score(mask_flat, y_pr_flat, labels=[0, 1], average='weighted')\n",
        "    recall_val = recall_score(mask_flat, y_pr_flat, labels=[0, 1], average='weighted')\n",
        "    precision_value = precision_score(mask_flat, y_pr_flat, labels=[0, 1], average='weighted')\n",
        "\n",
        "    # Append metrics to SCORE list\n",
        "    SCORE.append({\n",
        "        'accuracy': acc_value,\n",
        "        'f1_score': f1_val,\n",
        "        'jaccard_score': jac_val,\n",
        "        'recall': recall_val,\n",
        "        'precision': precision_value\n",
        "    })\n",
        "\n",
        "# Calculate average metrics\n",
        "average_metrics = {\n",
        "    'accuracy': np.mean([score['accuracy'] for score in SCORE]),\n",
        "    'f1_score': np.mean([score['f1_score'] for score in SCORE]),\n",
        "    'jaccard_score': np.mean([score['jaccard_score'] for score in SCORE]),\n",
        "    'recall': np.mean([score['recall'] for score in SCORE]),\n",
        "    'precision': np.mean([score['precision'] for score in SCORE]),\n",
        "}\n",
        "\n",
        "print(\"Average Metrics:\")\n",
        "print(average_metrics)\n"
      ],
      "metadata": {
        "id": "42QWHE91_Bg6",
        "colab": {
          "base_uri": "https://localhost:8080/"
        },
        "outputId": "d573435d-b887-4199-b81c-6a7e27cb46c9"
      },
      "execution_count": 19,
      "outputs": [
        {
          "output_type": "stream",
          "name": "stderr",
          "text": [
            "\r  0%|          | 0/50 [00:00<?, ?it/s]"
          ]
        },
        {
          "output_type": "stream",
          "name": "stdout",
          "text": [
            "1/1 [==============================] - 0s 77ms/step\n"
          ]
        },
        {
          "output_type": "stream",
          "name": "stderr",
          "text": [
            "\r  2%|▏         | 1/50 [00:01<01:21,  1.67s/it]"
          ]
        },
        {
          "output_type": "stream",
          "name": "stdout",
          "text": [
            "1/1 [==============================] - 0s 42ms/step\n"
          ]
        },
        {
          "output_type": "stream",
          "name": "stderr",
          "text": [
            "\r  4%|▍         | 2/50 [00:02<01:06,  1.38s/it]"
          ]
        },
        {
          "output_type": "stream",
          "name": "stdout",
          "text": [
            "1/1 [==============================] - 0s 27ms/step\n"
          ]
        },
        {
          "output_type": "stream",
          "name": "stderr",
          "text": [
            "\r  6%|▌         | 3/50 [00:03<00:53,  1.14s/it]"
          ]
        },
        {
          "output_type": "stream",
          "name": "stdout",
          "text": [
            "1/1 [==============================] - 0s 25ms/step\n"
          ]
        },
        {
          "output_type": "stream",
          "name": "stderr",
          "text": [
            "\r  8%|▊         | 4/50 [00:04<00:55,  1.20s/it]"
          ]
        },
        {
          "output_type": "stream",
          "name": "stdout",
          "text": [
            "1/1 [==============================] - 0s 24ms/step\n"
          ]
        },
        {
          "output_type": "stream",
          "name": "stderr",
          "text": [
            "\r 10%|█         | 5/50 [00:05<00:47,  1.05s/it]"
          ]
        },
        {
          "output_type": "stream",
          "name": "stdout",
          "text": [
            "1/1 [==============================] - 0s 26ms/step\n"
          ]
        },
        {
          "output_type": "stream",
          "name": "stderr",
          "text": [
            "\r 12%|█▏        | 6/50 [00:06<00:42,  1.04it/s]"
          ]
        },
        {
          "output_type": "stream",
          "name": "stdout",
          "text": [
            "1/1 [==============================] - 0s 24ms/step\n"
          ]
        },
        {
          "output_type": "stream",
          "name": "stderr",
          "text": [
            "\r 14%|█▍        | 7/50 [00:07<00:38,  1.11it/s]"
          ]
        },
        {
          "output_type": "stream",
          "name": "stdout",
          "text": [
            "1/1 [==============================] - 0s 23ms/step\n"
          ]
        },
        {
          "output_type": "stream",
          "name": "stderr",
          "text": [
            "\r 16%|█▌        | 8/50 [00:08<00:36,  1.15it/s]"
          ]
        },
        {
          "output_type": "stream",
          "name": "stdout",
          "text": [
            "1/1 [==============================] - 0s 22ms/step\n"
          ]
        },
        {
          "output_type": "stream",
          "name": "stderr",
          "text": [
            "\r 18%|█▊        | 9/50 [00:08<00:34,  1.19it/s]"
          ]
        },
        {
          "output_type": "stream",
          "name": "stdout",
          "text": [
            "1/1 [==============================] - 0s 23ms/step\n"
          ]
        },
        {
          "output_type": "stream",
          "name": "stderr",
          "text": [
            "\r 20%|██        | 10/50 [00:09<00:32,  1.22it/s]"
          ]
        },
        {
          "output_type": "stream",
          "name": "stdout",
          "text": [
            "1/1 [==============================] - 0s 23ms/step\n"
          ]
        },
        {
          "output_type": "stream",
          "name": "stderr",
          "text": [
            "\r 22%|██▏       | 11/50 [00:10<00:31,  1.22it/s]"
          ]
        },
        {
          "output_type": "stream",
          "name": "stdout",
          "text": [
            "1/1 [==============================] - 0s 24ms/step\n"
          ]
        },
        {
          "output_type": "stream",
          "name": "stderr",
          "text": [
            "\r 24%|██▍       | 12/50 [00:11<00:30,  1.24it/s]"
          ]
        },
        {
          "output_type": "stream",
          "name": "stdout",
          "text": [
            "1/1 [==============================] - 0s 33ms/step\n"
          ]
        },
        {
          "output_type": "stream",
          "name": "stderr",
          "text": [
            "\r 26%|██▌       | 13/50 [00:12<00:36,  1.03it/s]"
          ]
        },
        {
          "output_type": "stream",
          "name": "stdout",
          "text": [
            "1/1 [==============================] - 0s 30ms/step\n"
          ]
        },
        {
          "output_type": "stream",
          "name": "stderr",
          "text": [
            "\r 28%|██▊       | 14/50 [00:14<00:39,  1.10s/it]"
          ]
        },
        {
          "output_type": "stream",
          "name": "stdout",
          "text": [
            "1/1 [==============================] - 0s 30ms/step\n"
          ]
        },
        {
          "output_type": "stream",
          "name": "stderr",
          "text": [
            "\r 30%|███       | 15/50 [00:15<00:42,  1.20s/it]"
          ]
        },
        {
          "output_type": "stream",
          "name": "stdout",
          "text": [
            "1/1 [==============================] - 0s 34ms/step\n"
          ]
        },
        {
          "output_type": "stream",
          "name": "stderr",
          "text": [
            "\r 32%|███▏      | 16/50 [00:16<00:42,  1.25s/it]"
          ]
        },
        {
          "output_type": "stream",
          "name": "stdout",
          "text": [
            "1/1 [==============================] - 0s 34ms/step\n"
          ]
        },
        {
          "output_type": "stream",
          "name": "stderr",
          "text": [
            "\r 34%|███▍      | 17/50 [00:17<00:38,  1.16s/it]"
          ]
        },
        {
          "output_type": "stream",
          "name": "stdout",
          "text": [
            "1/1 [==============================] - 0s 24ms/step\n"
          ]
        },
        {
          "output_type": "stream",
          "name": "stderr",
          "text": [
            "\r 36%|███▌      | 18/50 [00:18<00:33,  1.06s/it]"
          ]
        },
        {
          "output_type": "stream",
          "name": "stdout",
          "text": [
            "1/1 [==============================] - 0s 22ms/step\n"
          ]
        },
        {
          "output_type": "stream",
          "name": "stderr",
          "text": [
            "\r 38%|███▊      | 19/50 [00:19<00:30,  1.02it/s]"
          ]
        },
        {
          "output_type": "stream",
          "name": "stdout",
          "text": [
            "1/1 [==============================] - 0s 23ms/step\n"
          ]
        },
        {
          "output_type": "stream",
          "name": "stderr",
          "text": [
            "\r 40%|████      | 20/50 [00:20<00:27,  1.09it/s]"
          ]
        },
        {
          "output_type": "stream",
          "name": "stdout",
          "text": [
            "1/1 [==============================] - 0s 26ms/step\n"
          ]
        },
        {
          "output_type": "stream",
          "name": "stderr",
          "text": [
            "\r 42%|████▏     | 21/50 [00:20<00:25,  1.14it/s]"
          ]
        },
        {
          "output_type": "stream",
          "name": "stdout",
          "text": [
            "1/1 [==============================] - 0s 23ms/step\n"
          ]
        },
        {
          "output_type": "stream",
          "name": "stderr",
          "text": [
            "\r 44%|████▍     | 22/50 [00:21<00:23,  1.18it/s]"
          ]
        },
        {
          "output_type": "stream",
          "name": "stdout",
          "text": [
            "1/1 [==============================] - 0s 22ms/step\n"
          ]
        },
        {
          "output_type": "stream",
          "name": "stderr",
          "text": [
            "\r 46%|████▌     | 23/50 [00:22<00:22,  1.21it/s]"
          ]
        },
        {
          "output_type": "stream",
          "name": "stdout",
          "text": [
            "1/1 [==============================] - 0s 23ms/step\n"
          ]
        },
        {
          "output_type": "stream",
          "name": "stderr",
          "text": [
            "\r 48%|████▊     | 24/50 [00:23<00:21,  1.22it/s]"
          ]
        },
        {
          "output_type": "stream",
          "name": "stdout",
          "text": [
            "1/1 [==============================] - 0s 23ms/step\n"
          ]
        },
        {
          "output_type": "stream",
          "name": "stderr",
          "text": [
            "\r 50%|█████     | 25/50 [00:24<00:20,  1.19it/s]"
          ]
        },
        {
          "output_type": "stream",
          "name": "stdout",
          "text": [
            "1/1 [==============================] - 0s 23ms/step\n"
          ]
        },
        {
          "output_type": "stream",
          "name": "stderr",
          "text": [
            "\r 52%|█████▏    | 26/50 [00:24<00:19,  1.21it/s]"
          ]
        },
        {
          "output_type": "stream",
          "name": "stdout",
          "text": [
            "1/1 [==============================] - 0s 22ms/step\n"
          ]
        },
        {
          "output_type": "stream",
          "name": "stderr",
          "text": [
            "\r 54%|█████▍    | 27/50 [00:25<00:18,  1.22it/s]"
          ]
        },
        {
          "output_type": "stream",
          "name": "stdout",
          "text": [
            "1/1 [==============================] - 0s 23ms/step\n"
          ]
        },
        {
          "output_type": "stream",
          "name": "stderr",
          "text": [
            "\r 56%|█████▌    | 28/50 [00:26<00:18,  1.20it/s]"
          ]
        },
        {
          "output_type": "stream",
          "name": "stdout",
          "text": [
            "1/1 [==============================] - 0s 25ms/step\n"
          ]
        },
        {
          "output_type": "stream",
          "name": "stderr",
          "text": [
            "\r 58%|█████▊    | 29/50 [00:27<00:18,  1.15it/s]"
          ]
        },
        {
          "output_type": "stream",
          "name": "stdout",
          "text": [
            "1/1 [==============================] - 0s 30ms/step\n"
          ]
        },
        {
          "output_type": "stream",
          "name": "stderr",
          "text": [
            "\r 60%|██████    | 30/50 [00:29<00:20,  1.04s/it]"
          ]
        },
        {
          "output_type": "stream",
          "name": "stdout",
          "text": [
            "1/1 [==============================] - 0s 32ms/step\n"
          ]
        },
        {
          "output_type": "stream",
          "name": "stderr",
          "text": [
            "\r 62%|██████▏   | 31/50 [00:30<00:21,  1.12s/it]"
          ]
        },
        {
          "output_type": "stream",
          "name": "stdout",
          "text": [
            "1/1 [==============================] - 0s 31ms/step\n"
          ]
        },
        {
          "output_type": "stream",
          "name": "stderr",
          "text": [
            "\r 64%|██████▍   | 32/50 [00:31<00:21,  1.21s/it]"
          ]
        },
        {
          "output_type": "stream",
          "name": "stdout",
          "text": [
            "1/1 [==============================] - 0s 31ms/step\n"
          ]
        },
        {
          "output_type": "stream",
          "name": "stderr",
          "text": [
            "\r 66%|██████▌   | 33/50 [00:33<00:21,  1.24s/it]"
          ]
        },
        {
          "output_type": "stream",
          "name": "stdout",
          "text": [
            "1/1 [==============================] - 0s 23ms/step\n"
          ]
        },
        {
          "output_type": "stream",
          "name": "stderr",
          "text": [
            "\r 68%|██████▊   | 34/50 [00:33<00:17,  1.11s/it]"
          ]
        },
        {
          "output_type": "stream",
          "name": "stdout",
          "text": [
            "1/1 [==============================] - 0s 22ms/step\n"
          ]
        },
        {
          "output_type": "stream",
          "name": "stderr",
          "text": [
            "\r 70%|███████   | 35/50 [00:34<00:15,  1.01s/it]"
          ]
        },
        {
          "output_type": "stream",
          "name": "stdout",
          "text": [
            "1/1 [==============================] - 0s 22ms/step\n"
          ]
        },
        {
          "output_type": "stream",
          "name": "stderr",
          "text": [
            "\r 72%|███████▏  | 36/50 [00:35<00:13,  1.04it/s]"
          ]
        },
        {
          "output_type": "stream",
          "name": "stdout",
          "text": [
            "1/1 [==============================] - 0s 22ms/step\n"
          ]
        },
        {
          "output_type": "stream",
          "name": "stderr",
          "text": [
            "\r 74%|███████▍  | 37/50 [00:36<00:12,  1.07it/s]"
          ]
        },
        {
          "output_type": "stream",
          "name": "stdout",
          "text": [
            "1/1 [==============================] - 0s 24ms/step\n"
          ]
        },
        {
          "output_type": "stream",
          "name": "stderr",
          "text": [
            "\r 76%|███████▌  | 38/50 [00:37<00:10,  1.12it/s]"
          ]
        },
        {
          "output_type": "stream",
          "name": "stdout",
          "text": [
            "1/1 [==============================] - 0s 22ms/step\n"
          ]
        },
        {
          "output_type": "stream",
          "name": "stderr",
          "text": [
            "\r 78%|███████▊  | 39/50 [00:38<00:09,  1.12it/s]"
          ]
        },
        {
          "output_type": "stream",
          "name": "stdout",
          "text": [
            "1/1 [==============================] - 0s 22ms/step\n"
          ]
        },
        {
          "output_type": "stream",
          "name": "stderr",
          "text": [
            "\r 80%|████████  | 40/50 [00:38<00:08,  1.16it/s]"
          ]
        },
        {
          "output_type": "stream",
          "name": "stdout",
          "text": [
            "1/1 [==============================] - 0s 23ms/step\n"
          ]
        },
        {
          "output_type": "stream",
          "name": "stderr",
          "text": [
            "\r 82%|████████▏ | 41/50 [00:39<00:07,  1.19it/s]"
          ]
        },
        {
          "output_type": "stream",
          "name": "stdout",
          "text": [
            "1/1 [==============================] - 0s 22ms/step\n"
          ]
        },
        {
          "output_type": "stream",
          "name": "stderr",
          "text": [
            "\r 84%|████████▍ | 42/50 [00:40<00:06,  1.18it/s]"
          ]
        },
        {
          "output_type": "stream",
          "name": "stdout",
          "text": [
            "1/1 [==============================] - 0s 22ms/step\n"
          ]
        },
        {
          "output_type": "stream",
          "name": "stderr",
          "text": [
            "\r 86%|████████▌ | 43/50 [00:41<00:05,  1.20it/s]"
          ]
        },
        {
          "output_type": "stream",
          "name": "stdout",
          "text": [
            "1/1 [==============================] - 0s 22ms/step\n"
          ]
        },
        {
          "output_type": "stream",
          "name": "stderr",
          "text": [
            "\r 88%|████████▊ | 44/50 [00:42<00:04,  1.22it/s]"
          ]
        },
        {
          "output_type": "stream",
          "name": "stdout",
          "text": [
            "1/1 [==============================] - 0s 22ms/step\n"
          ]
        },
        {
          "output_type": "stream",
          "name": "stderr",
          "text": [
            "\r 90%|█████████ | 45/50 [00:42<00:04,  1.24it/s]"
          ]
        },
        {
          "output_type": "stream",
          "name": "stdout",
          "text": [
            "1/1 [==============================] - 0s 22ms/step\n"
          ]
        },
        {
          "output_type": "stream",
          "name": "stderr",
          "text": [
            "\r 92%|█████████▏| 46/50 [00:44<00:03,  1.04it/s]"
          ]
        },
        {
          "output_type": "stream",
          "name": "stdout",
          "text": [
            "1/1 [==============================] - 0s 35ms/step\n"
          ]
        },
        {
          "output_type": "stream",
          "name": "stderr",
          "text": [
            "\r 94%|█████████▍| 47/50 [00:46<00:03,  1.24s/it]"
          ]
        },
        {
          "output_type": "stream",
          "name": "stdout",
          "text": [
            "1/1 [==============================] - 0s 82ms/step\n"
          ]
        },
        {
          "output_type": "stream",
          "name": "stderr",
          "text": [
            "\r 96%|█████████▌| 48/50 [00:48<00:03,  1.63s/it]"
          ]
        },
        {
          "output_type": "stream",
          "name": "stdout",
          "text": [
            "1/1 [==============================] - 0s 55ms/step\n"
          ]
        },
        {
          "output_type": "stream",
          "name": "stderr",
          "text": [
            "\r 98%|█████████▊| 49/50 [00:50<00:01,  1.59s/it]"
          ]
        },
        {
          "output_type": "stream",
          "name": "stdout",
          "text": [
            "1/1 [==============================] - 0s 24ms/step\n"
          ]
        },
        {
          "output_type": "stream",
          "name": "stderr",
          "text": [
            "100%|██████████| 50/50 [00:51<00:00,  1.02s/it]"
          ]
        },
        {
          "output_type": "stream",
          "name": "stdout",
          "text": [
            "Average Metrics:\n",
            "{'accuracy': 0.344326318359375, 'f1_score': 0.4687063199303909, 'jaccard_score': 0.42313307289540164, 'recall': 0.43509990891726913, 'precision': 0.941088635688301}\n"
          ]
        },
        {
          "output_type": "stream",
          "name": "stderr",
          "text": [
            "\n"
          ]
        }
      ]
    },
    {
      "cell_type": "code",
      "source": [],
      "metadata": {
        "id": "YC4zUSU92MGj"
      },
      "execution_count": null,
      "outputs": []
    },
    {
      "cell_type": "code",
      "source": [],
      "metadata": {
        "id": "PqUCGQ6Z2MJR"
      },
      "execution_count": null,
      "outputs": []
    },
    {
      "cell_type": "code",
      "source": [],
      "metadata": {
        "id": "VvBfOqxd2MMs"
      },
      "execution_count": null,
      "outputs": []
    }
  ]
}