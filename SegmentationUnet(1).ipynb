{
  "nbformat": 4,
  "nbformat_minor": 0,
  "metadata": {
    "colab": {
      "provenance": [],
      "machine_shape": "hm"
    },
    "kernelspec": {
      "name": "python3",
      "display_name": "Python 3"
    },
    "language_info": {
      "name": "python"
    },
    "accelerator": "TPU"
  },
  "cells": [
    {
      "cell_type": "code",
      "execution_count": null,
      "metadata": {
        "id": "HMb8xVmksX7Z"
      },
      "outputs": [],
      "source": [
        "import numpy as np\n",
        "import cv2\n",
        "import os\n",
        "from glob import glob\n",
        "import tensorflow as tf\n",
        "from tensorflow.keras.layers import Conv2D, MaxPool2D, Activation, Conv2DTranspose, Concatenate, Input, BatchNormalization\n",
        "from tensorflow.keras.callbacks import ModelCheckpoint, CSVLogger, EarlyStopping, ReduceLROnPlateau\n",
        "from tensorflow.keras.models import Model\n",
        "from tensorflow .keras.optimizers import Adam\n",
        "from tensorflow.keras.callbacks import Callback\n",
        "import logging\n",
        "from sklearn.metrics import accuracy_score, precision_score, recall_score, f1_score, mean_squared_error, r2_score\n",
        "import csv"
      ]
    },
    {
      "cell_type": "code",
      "source": [
        "dataset_path = \"../content/drive/MyDrive/U-Net\"\n",
        "files_directory = os.path.join(\"files_UNET\",\"U-Net\")\n",
        "model_file = os.path.join(files_directory, \"model-U-Net.h5\")\n",
        "log_file = os.path.join(files_directory, \"log.csv\")"
      ],
      "metadata": {
        "id": "8mT6V23nFdHB"
      },
      "execution_count": null,
      "outputs": []
    },
    {
      "cell_type": "code",
      "source": [
        "def create_direct(path):\n",
        "  if not os.path.exists(path):\n",
        "    os.makedirs(path)\n",
        "create_direct(files_directory)"
      ],
      "metadata": {
        "id": "w18VaJexFnqF"
      },
      "execution_count": null,
      "outputs": []
    },
    {
      "cell_type": "code",
      "source": [
        "#Convolution block\n",
        "def con_block(inp, number_filters):\n",
        "  x = Conv2D(number_filters, 3, padding = \"same\") (inp)\n",
        "  x = BatchNormalization()(x)\n",
        "  x = Activation(\"relu\")(x)\n",
        "  x = Conv2D(number_filters, 3, padding = \"same\") (x)\n",
        "  x = BatchNormalization()(x)\n",
        "  X = Activation(\"relu\")(x)\n",
        "  return x\n",
        "\n",
        "#Encoder block\n",
        "def enc_block(inp, number_filters):\n",
        "  x = con_block(inp, number_filters)\n",
        "  p = MaxPool2D((2,2))(x)\n",
        "  return x,p\n",
        "\n",
        "#Decoder block\n",
        "def dec_block(inp, skip, number_filters):\n",
        "  x = Conv2DTranspose(number_filters, (2,2), strides=2, padding=\"same\")(inp)\n",
        "  x = Concatenate() ([x,skip])\n",
        "  x = con_block(x, number_filters)\n",
        "  return x"
      ],
      "metadata": {
        "id": "efGCnC89Fsgq"
      },
      "execution_count": null,
      "outputs": []
    },
    {
      "cell_type": "markdown",
      "source": [],
      "metadata": {
        "id": "fYOykFHVivSk"
      }
    },
    {
      "cell_type": "code",
      "source": [
        "#Buidling architecture\n",
        "def build_unet(inp_shape):\n",
        "  inp = Input(inp_shape)\n",
        "  #Encoder\n",
        "  skip1, enc1 = enc_block(inp, 64)\n",
        "  skip2, enc2 = enc_block(enc1, 128)\n",
        "  skip3, enc3 = enc_block(enc2, 256)\n",
        "  skip4, enc4 = enc_block(enc3, 512)\n",
        "\n",
        "    #Bridge\n",
        "  b1 = con_block(enc4, 1024)\n",
        "\n",
        "  #Decoder\n",
        "  dec1 = dec_block(b1, skip4, 512)\n",
        "  dec2 = dec_block(dec1, skip3, 256)\n",
        "  dec3 = dec_block(dec2, skip2, 128)\n",
        "  dec4 = dec_block(dec3, skip1, 64)\n",
        "\n",
        "  output = Conv2D(1, 1, padding=\"same\", activation=\"sigmoid\")(dec4)\n",
        "  model = Model(inp, output, name=\"U-net\")\n",
        "  return model"
      ],
      "metadata": {
        "id": "cqwk5_XtF6n1"
      },
      "execution_count": null,
      "outputs": []
    },
    {
      "cell_type": "code",
      "source": [
        "# Seed the environment\n",
        "np.random.seed(45)\n",
        "tf.random.set_seed(45)\n",
        " # Hyperparameters\n",
        "batch_size = 4\n",
        "lr = 1e-6\n",
        "epochs = 5\n",
        "height=640\n",
        "weight=1280"
      ],
      "metadata": {
        "id": "7yG2VE6MGFAj"
      },
      "execution_count": null,
      "outputs": []
    },
    {
      "cell_type": "code",
      "source": [
        "#Loading training and validation\n",
        "def load_dataset(path):\n",
        "  train_x = sorted(glob(os.path.join(path, \"train\", \"images\", \"*\")))\n",
        "  train_y = sorted(glob(os.path.join(path, \"train\", \"masks\", \"*\")))\n",
        "  val_x = sorted(glob(os.path.join(path, \"val\", \"images\", \"*\")))\n",
        "  val_y = sorted(glob(os.path.join(path, \"val\", \"masks\", \"*\")))\n",
        "  return (train_x,train_y), (val_x,val_y)"
      ],
      "metadata": {
        "id": "1GhfVrZTGJer"
      },
      "execution_count": null,
      "outputs": []
    },
    {
      "cell_type": "code",
      "source": [
        "#Reading images and masks\n",
        "def read_image(path):\n",
        "  path = path.decode()\n",
        "  x = cv2.imread(path, cv2.IMREAD_COLOR)\n",
        "  x = x/255.0\n",
        "  return x\n",
        "def read_mask(path):\n",
        "  path = path.decode()\n",
        "  x = cv2.imread(path, cv2.IMREAD_GRAYSCALE)\n",
        "  x = x/255.0\n",
        "  x = np.expand_dims(x, axis=-1)\n",
        "  return x"
      ],
      "metadata": {
        "id": "QLUCS_tPGNaW"
      },
      "execution_count": null,
      "outputs": []
    },
    {
      "cell_type": "code",
      "source": [
        "#Data preprocessing\n",
        "def tf_parse(x, y):\n",
        "  def _parse(x,y):\n",
        "    x = read_image(x)\n",
        "    y = read_mask(y)\n",
        "    x = tf.image.resize(x, (640, 1280))\n",
        "    y = tf.image.resize(y, (640, 1280))\n",
        "    x = tf.dtypes.cast(x, tf.float16)\n",
        "    y = tf.dtypes.cast(y, tf.float16)\n",
        "    return x, y\n",
        "\n",
        "  x, y = tf.numpy_function(_parse, [x, y], [tf.float16, tf.float16])\n",
        "  x.set_shape([640, 1280, 3])\n",
        "  y.set_shape([640, 1280, 1])\n",
        "  return x, y\n"
      ],
      "metadata": {
        "id": "_Vx17dDBGRBH"
      },
      "execution_count": null,
      "outputs": []
    },
    {
      "cell_type": "code",
      "source": [
        "def tf_dataset(x, y, batch=4):\n",
        "  dataset = tf.data.Dataset.from_tensor_slices((x, y))\n",
        "  dataset = dataset.map(tf_parse, num_parallel_calls=tf.data.AUTOTUNE)\n",
        "  dataset = dataset.batch(batch)\n",
        "  dataset = dataset.prefetch(tf.data.AUTOTUNE)\n",
        "  return dataset"
      ],
      "metadata": {
        "id": "mVMBUkVUGu_J"
      },
      "execution_count": null,
      "outputs": []
    },
    {
      "cell_type": "code",
      "source": [
        "#Splitting\n",
        "(train_x, train_y), (val_x, val_y) = load_dataset(dataset_path)\n",
        "print(f\"Train: {len(train_x)} - {len(train_y)}\")\n",
        "print(f\"Val: {len(val_x)} - {len(val_y)}\")\n",
        "\n",
        "train_dataset = tf_dataset(train_x, train_y, batch=batch_size)\n",
        "val_dataset = tf_dataset(val_x, val_y, batch=batch_size)\n",
        "\n",
        "for x, y in val_dataset:\n",
        "  print(x.shape,y.shape)"
      ],
      "metadata": {
        "colab": {
          "base_uri": "https://localhost:8080/"
        },
        "id": "WmUxjNSZGza_",
        "outputId": "030f1fba-54c6-4793-a29e-79fee508e4b5"
      },
      "execution_count": null,
      "outputs": [
        {
          "output_type": "stream",
          "name": "stdout",
          "text": [
            "Train: 500 - 500\n",
            "Val: 50 - 50\n",
            "(4, 640, 1280, 3) (4, 640, 1280, 1)\n",
            "(4, 640, 1280, 3) (4, 640, 1280, 1)\n",
            "(4, 640, 1280, 3) (4, 640, 1280, 1)\n",
            "(4, 640, 1280, 3) (4, 640, 1280, 1)\n",
            "(4, 640, 1280, 3) (4, 640, 1280, 1)\n",
            "(4, 640, 1280, 3) (4, 640, 1280, 1)\n",
            "(4, 640, 1280, 3) (4, 640, 1280, 1)\n",
            "(4, 640, 1280, 3) (4, 640, 1280, 1)\n",
            "(4, 640, 1280, 3) (4, 640, 1280, 1)\n",
            "(4, 640, 1280, 3) (4, 640, 1280, 1)\n",
            "(4, 640, 1280, 3) (4, 640, 1280, 1)\n",
            "(4, 640, 1280, 3) (4, 640, 1280, 1)\n",
            "(2, 640, 1280, 3) (2, 640, 1280, 1)\n"
          ]
        }
      ]
    },
    {
      "cell_type": "code",
      "source": [
        "inp_shape = (height,weight,3)\n",
        "model = build_unet(inp_shape)\n",
        "model.summary()"
      ],
      "metadata": {
        "colab": {
          "base_uri": "https://localhost:8080/"
        },
        "id": "esKQRoyxG2g3",
        "outputId": "b57d594f-7b36-42a5-b301-cc0263f5f2d3"
      },
      "execution_count": null,
      "outputs": [
        {
          "output_type": "stream",
          "name": "stdout",
          "text": [
            "Model: \"U-net\"\n",
            "__________________________________________________________________________________________________\n",
            " Layer (type)                   Output Shape         Param #     Connected to                     \n",
            "==================================================================================================\n",
            " input_2 (InputLayer)           [(None, 640, 1280,   0           []                               \n",
            "                                3)]                                                               \n",
            "                                                                                                  \n",
            " conv2d_19 (Conv2D)             (None, 640, 1280, 6  1792        ['input_2[0][0]']                \n",
            "                                4)                                                                \n",
            "                                                                                                  \n",
            " batch_normalization_18 (BatchN  (None, 640, 1280, 6  256        ['conv2d_19[0][0]']              \n",
            " ormalization)                  4)                                                                \n",
            "                                                                                                  \n",
            " activation_18 (Activation)     (None, 640, 1280, 6  0           ['batch_normalization_18[0][0]'] \n",
            "                                4)                                                                \n",
            "                                                                                                  \n",
            " conv2d_20 (Conv2D)             (None, 640, 1280, 6  36928       ['activation_18[0][0]']          \n",
            "                                4)                                                                \n",
            "                                                                                                  \n",
            " batch_normalization_19 (BatchN  (None, 640, 1280, 6  256        ['conv2d_20[0][0]']              \n",
            " ormalization)                  4)                                                                \n",
            "                                                                                                  \n",
            " max_pooling2d_4 (MaxPooling2D)  (None, 320, 640, 64  0          ['batch_normalization_19[0][0]'] \n",
            "                                )                                                                 \n",
            "                                                                                                  \n",
            " conv2d_21 (Conv2D)             (None, 320, 640, 12  73856       ['max_pooling2d_4[0][0]']        \n",
            "                                8)                                                                \n",
            "                                                                                                  \n",
            " batch_normalization_20 (BatchN  (None, 320, 640, 12  512        ['conv2d_21[0][0]']              \n",
            " ormalization)                  8)                                                                \n",
            "                                                                                                  \n",
            " activation_20 (Activation)     (None, 320, 640, 12  0           ['batch_normalization_20[0][0]'] \n",
            "                                8)                                                                \n",
            "                                                                                                  \n",
            " conv2d_22 (Conv2D)             (None, 320, 640, 12  147584      ['activation_20[0][0]']          \n",
            "                                8)                                                                \n",
            "                                                                                                  \n",
            " batch_normalization_21 (BatchN  (None, 320, 640, 12  512        ['conv2d_22[0][0]']              \n",
            " ormalization)                  8)                                                                \n",
            "                                                                                                  \n",
            " max_pooling2d_5 (MaxPooling2D)  (None, 160, 320, 12  0          ['batch_normalization_21[0][0]'] \n",
            "                                8)                                                                \n",
            "                                                                                                  \n",
            " conv2d_23 (Conv2D)             (None, 160, 320, 25  295168      ['max_pooling2d_5[0][0]']        \n",
            "                                6)                                                                \n",
            "                                                                                                  \n",
            " batch_normalization_22 (BatchN  (None, 160, 320, 25  1024       ['conv2d_23[0][0]']              \n",
            " ormalization)                  6)                                                                \n",
            "                                                                                                  \n",
            " activation_22 (Activation)     (None, 160, 320, 25  0           ['batch_normalization_22[0][0]'] \n",
            "                                6)                                                                \n",
            "                                                                                                  \n",
            " conv2d_24 (Conv2D)             (None, 160, 320, 25  590080      ['activation_22[0][0]']          \n",
            "                                6)                                                                \n",
            "                                                                                                  \n",
            " batch_normalization_23 (BatchN  (None, 160, 320, 25  1024       ['conv2d_24[0][0]']              \n",
            " ormalization)                  6)                                                                \n",
            "                                                                                                  \n",
            " max_pooling2d_6 (MaxPooling2D)  (None, 80, 160, 256  0          ['batch_normalization_23[0][0]'] \n",
            "                                )                                                                 \n",
            "                                                                                                  \n",
            " conv2d_25 (Conv2D)             (None, 80, 160, 512  1180160     ['max_pooling2d_6[0][0]']        \n",
            "                                )                                                                 \n",
            "                                                                                                  \n",
            " batch_normalization_24 (BatchN  (None, 80, 160, 512  2048       ['conv2d_25[0][0]']              \n",
            " ormalization)                  )                                                                 \n",
            "                                                                                                  \n",
            " activation_24 (Activation)     (None, 80, 160, 512  0           ['batch_normalization_24[0][0]'] \n",
            "                                )                                                                 \n",
            "                                                                                                  \n",
            " conv2d_26 (Conv2D)             (None, 80, 160, 512  2359808     ['activation_24[0][0]']          \n",
            "                                )                                                                 \n",
            "                                                                                                  \n",
            " batch_normalization_25 (BatchN  (None, 80, 160, 512  2048       ['conv2d_26[0][0]']              \n",
            " ormalization)                  )                                                                 \n",
            "                                                                                                  \n",
            " max_pooling2d_7 (MaxPooling2D)  (None, 40, 80, 512)  0          ['batch_normalization_25[0][0]'] \n",
            "                                                                                                  \n",
            " conv2d_27 (Conv2D)             (None, 40, 80, 1024  4719616     ['max_pooling2d_7[0][0]']        \n",
            "                                )                                                                 \n",
            "                                                                                                  \n",
            " batch_normalization_26 (BatchN  (None, 40, 80, 1024  4096       ['conv2d_27[0][0]']              \n",
            " ormalization)                  )                                                                 \n",
            "                                                                                                  \n",
            " activation_26 (Activation)     (None, 40, 80, 1024  0           ['batch_normalization_26[0][0]'] \n",
            "                                )                                                                 \n",
            "                                                                                                  \n",
            " conv2d_28 (Conv2D)             (None, 40, 80, 1024  9438208     ['activation_26[0][0]']          \n",
            "                                )                                                                 \n",
            "                                                                                                  \n",
            " batch_normalization_27 (BatchN  (None, 40, 80, 1024  4096       ['conv2d_28[0][0]']              \n",
            " ormalization)                  )                                                                 \n",
            "                                                                                                  \n",
            " conv2d_transpose_4 (Conv2DTran  (None, 80, 160, 512  2097664    ['batch_normalization_27[0][0]'] \n",
            " spose)                         )                                                                 \n",
            "                                                                                                  \n",
            " concatenate_4 (Concatenate)    (None, 80, 160, 102  0           ['conv2d_transpose_4[0][0]',     \n",
            "                                4)                                'batch_normalization_25[0][0]'] \n",
            "                                                                                                  \n",
            " conv2d_29 (Conv2D)             (None, 80, 160, 512  4719104     ['concatenate_4[0][0]']          \n",
            "                                )                                                                 \n",
            "                                                                                                  \n",
            " batch_normalization_28 (BatchN  (None, 80, 160, 512  2048       ['conv2d_29[0][0]']              \n",
            " ormalization)                  )                                                                 \n",
            "                                                                                                  \n",
            " activation_28 (Activation)     (None, 80, 160, 512  0           ['batch_normalization_28[0][0]'] \n",
            "                                )                                                                 \n",
            "                                                                                                  \n",
            " conv2d_30 (Conv2D)             (None, 80, 160, 512  2359808     ['activation_28[0][0]']          \n",
            "                                )                                                                 \n",
            "                                                                                                  \n",
            " batch_normalization_29 (BatchN  (None, 80, 160, 512  2048       ['conv2d_30[0][0]']              \n",
            " ormalization)                  )                                                                 \n",
            "                                                                                                  \n",
            " conv2d_transpose_5 (Conv2DTran  (None, 160, 320, 25  524544     ['batch_normalization_29[0][0]'] \n",
            " spose)                         6)                                                                \n",
            "                                                                                                  \n",
            " concatenate_5 (Concatenate)    (None, 160, 320, 51  0           ['conv2d_transpose_5[0][0]',     \n",
            "                                2)                                'batch_normalization_23[0][0]'] \n",
            "                                                                                                  \n",
            " conv2d_31 (Conv2D)             (None, 160, 320, 25  1179904     ['concatenate_5[0][0]']          \n",
            "                                6)                                                                \n",
            "                                                                                                  \n",
            " batch_normalization_30 (BatchN  (None, 160, 320, 25  1024       ['conv2d_31[0][0]']              \n",
            " ormalization)                  6)                                                                \n",
            "                                                                                                  \n",
            " activation_30 (Activation)     (None, 160, 320, 25  0           ['batch_normalization_30[0][0]'] \n",
            "                                6)                                                                \n",
            "                                                                                                  \n",
            " conv2d_32 (Conv2D)             (None, 160, 320, 25  590080      ['activation_30[0][0]']          \n",
            "                                6)                                                                \n",
            "                                                                                                  \n",
            " batch_normalization_31 (BatchN  (None, 160, 320, 25  1024       ['conv2d_32[0][0]']              \n",
            " ormalization)                  6)                                                                \n",
            "                                                                                                  \n",
            " conv2d_transpose_6 (Conv2DTran  (None, 320, 640, 12  131200     ['batch_normalization_31[0][0]'] \n",
            " spose)                         8)                                                                \n",
            "                                                                                                  \n",
            " concatenate_6 (Concatenate)    (None, 320, 640, 25  0           ['conv2d_transpose_6[0][0]',     \n",
            "                                6)                                'batch_normalization_21[0][0]'] \n",
            "                                                                                                  \n",
            " conv2d_33 (Conv2D)             (None, 320, 640, 12  295040      ['concatenate_6[0][0]']          \n",
            "                                8)                                                                \n",
            "                                                                                                  \n",
            " batch_normalization_32 (BatchN  (None, 320, 640, 12  512        ['conv2d_33[0][0]']              \n",
            " ormalization)                  8)                                                                \n",
            "                                                                                                  \n",
            " activation_32 (Activation)     (None, 320, 640, 12  0           ['batch_normalization_32[0][0]'] \n",
            "                                8)                                                                \n",
            "                                                                                                  \n",
            " conv2d_34 (Conv2D)             (None, 320, 640, 12  147584      ['activation_32[0][0]']          \n",
            "                                8)                                                                \n",
            "                                                                                                  \n",
            " batch_normalization_33 (BatchN  (None, 320, 640, 12  512        ['conv2d_34[0][0]']              \n",
            " ormalization)                  8)                                                                \n",
            "                                                                                                  \n",
            " conv2d_transpose_7 (Conv2DTran  (None, 640, 1280, 6  32832      ['batch_normalization_33[0][0]'] \n",
            " spose)                         4)                                                                \n",
            "                                                                                                  \n",
            " concatenate_7 (Concatenate)    (None, 640, 1280, 1  0           ['conv2d_transpose_7[0][0]',     \n",
            "                                28)                               'batch_normalization_19[0][0]'] \n",
            "                                                                                                  \n",
            " conv2d_35 (Conv2D)             (None, 640, 1280, 6  73792       ['concatenate_7[0][0]']          \n",
            "                                4)                                                                \n",
            "                                                                                                  \n",
            " batch_normalization_34 (BatchN  (None, 640, 1280, 6  256        ['conv2d_35[0][0]']              \n",
            " ormalization)                  4)                                                                \n",
            "                                                                                                  \n",
            " activation_34 (Activation)     (None, 640, 1280, 6  0           ['batch_normalization_34[0][0]'] \n",
            "                                4)                                                                \n",
            "                                                                                                  \n",
            " conv2d_36 (Conv2D)             (None, 640, 1280, 6  36928       ['activation_34[0][0]']          \n",
            "                                4)                                                                \n",
            "                                                                                                  \n",
            " batch_normalization_35 (BatchN  (None, 640, 1280, 6  256        ['conv2d_36[0][0]']              \n",
            " ormalization)                  4)                                                                \n",
            "                                                                                                  \n",
            " conv2d_37 (Conv2D)             (None, 640, 1280, 1  65          ['batch_normalization_35[0][0]'] \n",
            "                                )                                                                 \n",
            "                                                                                                  \n",
            "==================================================================================================\n",
            "Total params: 31,055,297\n",
            "Trainable params: 31,043,521\n",
            "Non-trainable params: 11,776\n",
            "__________________________________________________________________________________________________\n"
          ]
        }
      ]
    },
    {
      "cell_type": "code",
      "source": [
        "callbacks = [\n",
        "    EarlyStopping(monitor='val_loss', patience=4, restore_best_weights=False),\n",
        "    ModelCheckpoint(model_file, verbose=1, save_best_only=True),\n",
        "    ReduceLROnPlateau(monitor='val_loss',factor=0.1, patience = 4),\n",
        "    CSVLogger(log_file),\n",
        "       ]"
      ],
      "metadata": {
        "id": "jOKc9cBwHgTq"
      },
      "execution_count": null,
      "outputs": []
    },
    {
      "cell_type": "code",
      "source": [
        "class MetricsCallback(Callback):\n",
        "    def __init__(self, val_data):\n",
        "        super().__init__()\n",
        "        self.val_data = val_data\n",
        "\n",
        "        # Initialize logging\n",
        "        logging.basicConfig(filename='log.csv', filemode='a', format='%(asctime)s, %(message)s', level=logging.INFO)\n",
        "\n",
        "    def on_epoch_end(self, epoch, logs=None):\n",
        "        val_predictions = self.model.predict(self.val_data[0])\n",
        "        val_true_labels = self.val_data[1]\n",
        "\n",
        "        # Calculate metrics\n",
        "        accuracy = accuracy_score(np.argmax(val_true_labels, axis=1), np.argmax(val_predictions, axis=1))\n",
        "        precision = precision_score(np.argmax(val_true_labels, axis=1), np.argmax(val_predictions, axis=1))\n",
        "        recall = recall_score(np.argmax(val_true_labels, axis=1), np.argmax(val_predictions, axis=1))\n",
        "        f1 = f1_score(np.argmax(val_true_labels, axis=1), np.argmax(val_predictions, axis=1))\n",
        "        mse = mean_squared_error(val_true_labels, val_predictions)\n",
        "        rmse = np.sqrt(mse)\n",
        "        r2 = r2_score(val_true_labels, val_predictions)\n",
        "\n",
        "        # Log metrics\n",
        "        logging.info(f'Epoch: {epoch}, Loss: {logs[\"loss\"]}, Val_Loss: {logs[\"val_loss\"]}, Accuracy: {accuracy:.4f}, Precision: {precision:.4f}, Recall: {recall:.4f}, F1-Score: {f1:.4f}, MSE: {mse:.4f}, RMSE: {rmse:.4f}, R-Squared: {r2:.4f}')\n"
      ],
      "metadata": {
        "id": "6fbnLMaWrDe_"
      },
      "execution_count": null,
      "outputs": []
    },
    {
      "cell_type": "code",
      "source": [
        "# Configure the model\n",
        "model.compile(\n",
        "    optimizer=tf.keras.optimizers.Adam(learning_rate=0.001),\n",
        "    loss='binary_crossentropy',\n",
        "    metrics=['accuracy', tf.keras.metrics.MeanIoU(num_classes=2)]\n",
        ")\n",
        "# Training\n",
        "model.fit(\n",
        "    train_dataset,\n",
        "    validation_data=val_dataset,\n",
        "    epochs=epochs,\n",
        "    callbacks=callbacks\n",
        ")"
      ],
      "metadata": {
        "colab": {
          "base_uri": "https://localhost:8080/"
        },
        "id": "KjzcXvZNHZBe",
        "outputId": "193832fb-d19c-4655-e468-14a2e6d9474d"
      },
      "execution_count": null,
      "outputs": [
        {
          "output_type": "stream",
          "name": "stdout",
          "text": [
            "Epoch 1/5\n",
            "125/125 [==============================] - ETA: 0s - loss: 0.4069 - accuracy: 0.8481 - mean_io_u: 0.4488 \n",
            "Epoch 1: val_loss improved from inf to 4062.67114, saving model to files_UNET/U-Net/model-U-Net.h5\n",
            "125/125 [==============================] - 4818s 38s/step - loss: 0.4069 - accuracy: 0.8481 - mean_io_u: 0.4488 - val_loss: 4062.6711 - val_accuracy: 0.2061 - val_mean_io_u: 0.1031 - lr: 0.0010\n",
            "Epoch 2/5\n",
            "125/125 [==============================] - ETA: 0s - loss: 0.2429 - accuracy: 0.9104 - mean_io_u: 0.4852 \n",
            "Epoch 2: val_loss improved from 4062.67114 to 227.71333, saving model to files_UNET/U-Net/model-U-Net.h5\n",
            "125/125 [==============================] - 4746s 38s/step - loss: 0.2429 - accuracy: 0.9104 - mean_io_u: 0.4852 - val_loss: 227.7133 - val_accuracy: 0.2064 - val_mean_io_u: 0.1107 - lr: 0.0010\n",
            "Epoch 3/5\n",
            "125/125 [==============================] - ETA: 0s - loss: 0.1893 - accuracy: 0.9263 - mean_io_u: 0.5003 \n",
            "Epoch 3: val_loss improved from 227.71333 to 11.01087, saving model to files_UNET/U-Net/model-U-Net.h5\n",
            "125/125 [==============================] - 4738s 38s/step - loss: 0.1893 - accuracy: 0.9263 - mean_io_u: 0.5003 - val_loss: 11.0109 - val_accuracy: 0.3247 - val_mean_io_u: 0.5115 - lr: 0.0010\n",
            "Epoch 4/5\n",
            "125/125 [==============================] - ETA: 0s - loss: 0.1691 - accuracy: 0.9336 - mean_io_u: 0.5075 \n",
            "Epoch 4: val_loss improved from 11.01087 to 0.54368, saving model to files_UNET/U-Net/model-U-Net.h5\n",
            "125/125 [==============================] - 4746s 38s/step - loss: 0.1691 - accuracy: 0.9336 - mean_io_u: 0.5075 - val_loss: 0.5437 - val_accuracy: 0.7751 - val_mean_io_u: 0.4196 - lr: 0.0010\n",
            "Epoch 5/5\n",
            "125/125 [==============================] - ETA: 0s - loss: 0.1705 - accuracy: 0.9330 - mean_io_u: 0.4923 \n",
            "Epoch 5: val_loss did not improve from 0.54368\n",
            "125/125 [==============================] - 4750s 38s/step - loss: 0.1705 - accuracy: 0.9330 - mean_io_u: 0.4923 - val_loss: 0.5782 - val_accuracy: 0.8010 - val_mean_io_u: 0.3971 - lr: 0.0010\n"
          ]
        },
        {
          "output_type": "execute_result",
          "data": {
            "text/plain": [
              "<keras.callbacks.History at 0x7ad681e6d510>"
            ]
          },
          "metadata": {},
          "execution_count": 16
        }
      ]
    },
    {
      "cell_type": "code",
      "source": [
        "import os\n",
        "import time\n",
        "from glob import glob\n",
        "from tqdm import tqdm\n",
        "import tensorflow as tf\n",
        "import cv2\n",
        "import numpy as np\n",
        "from sklearn.metrics import accuracy_score, f1_score, jaccard_score, precision_score, recall_score"
      ],
      "metadata": {
        "id": "Hz6_5-Tk-UpJ"
      },
      "execution_count": null,
      "outputs": []
    },
    {
      "cell_type": "code",
      "source": [
        "# Seed the environment\n",
        "np.random.seed(45)\n",
        "tf.random.set_seed(45)\n",
        " # Hyperparameters\n",
        "batch_size = 4\n",
        "lr = 1e-6\n",
        "epochs = 5\n",
        "height=640\n",
        "weight=1280"
      ],
      "metadata": {
        "id": "4jO5GL7MMdHs"
      },
      "execution_count": null,
      "outputs": []
    },
    {
      "cell_type": "code",
      "source": [
        "  data_path=\"../content/drive/MyDrive/U-Net\"\n",
        "  save_path = os.path.join(data_path, \"pred\")\n",
        "  model_path = '../content/drive/MyDrive/U-Net/files_U-Net/model-U-Net.h5'"
      ],
      "metadata": {
        "id": "RYOUmp4FMxLz"
      },
      "execution_count": null,
      "outputs": []
    },
    {
      "cell_type": "code",
      "source": [
        "def create_dir(path):\n",
        "  if not os.path.exists(path):\n",
        "    os.makedirs(path)\n"
      ],
      "metadata": {
        "id": "7KD-l-7KNY1N"
      },
      "execution_count": null,
      "outputs": []
    },
    {
      "cell_type": "code",
      "source": [
        "create_dir(save_path)"
      ],
      "metadata": {
        "id": "Nnp9zEXiwMeQ"
      },
      "execution_count": null,
      "outputs": []
    },
    {
      "cell_type": "code",
      "source": [
        "#Load the model\n",
        "model = tf.keras.models.load_model(model_path)\n",
        "\n",
        "model.summary()"
      ],
      "metadata": {
        "id": "eXEm3JOCNiJW",
        "colab": {
          "base_uri": "https://localhost:8080/"
        },
        "outputId": "d4d7bec2-24e0-42ea-c5fb-4836ba837caf"
      },
      "execution_count": null,
      "outputs": [
        {
          "output_type": "stream",
          "name": "stdout",
          "text": [
            "Model: \"U-net\"\n",
            "__________________________________________________________________________________________________\n",
            " Layer (type)                   Output Shape         Param #     Connected to                     \n",
            "==================================================================================================\n",
            " input_1 (InputLayer)           [(None, 640, 1280,   0           []                               \n",
            "                                3)]                                                               \n",
            "                                                                                                  \n",
            " conv2d (Conv2D)                (None, 640, 1280, 6  1792        ['input_1[0][0]']                \n",
            "                                4)                                                                \n",
            "                                                                                                  \n",
            " batch_normalization (BatchNorm  (None, 640, 1280, 6  256        ['conv2d[0][0]']                 \n",
            " alization)                     4)                                                                \n",
            "                                                                                                  \n",
            " activation (Activation)        (None, 640, 1280, 6  0           ['batch_normalization[0][0]']    \n",
            "                                4)                                                                \n",
            "                                                                                                  \n",
            " conv2d_1 (Conv2D)              (None, 640, 1280, 6  36928       ['activation[0][0]']             \n",
            "                                4)                                                                \n",
            "                                                                                                  \n",
            " batch_normalization_1 (BatchNo  (None, 640, 1280, 6  256        ['conv2d_1[0][0]']               \n",
            " rmalization)                   4)                                                                \n",
            "                                                                                                  \n",
            " max_pooling2d (MaxPooling2D)   (None, 320, 640, 64  0           ['batch_normalization_1[0][0]']  \n",
            "                                )                                                                 \n",
            "                                                                                                  \n",
            " conv2d_2 (Conv2D)              (None, 320, 640, 12  73856       ['max_pooling2d[0][0]']          \n",
            "                                8)                                                                \n",
            "                                                                                                  \n",
            " batch_normalization_2 (BatchNo  (None, 320, 640, 12  512        ['conv2d_2[0][0]']               \n",
            " rmalization)                   8)                                                                \n",
            "                                                                                                  \n",
            " activation_2 (Activation)      (None, 320, 640, 12  0           ['batch_normalization_2[0][0]']  \n",
            "                                8)                                                                \n",
            "                                                                                                  \n",
            " conv2d_3 (Conv2D)              (None, 320, 640, 12  147584      ['activation_2[0][0]']           \n",
            "                                8)                                                                \n",
            "                                                                                                  \n",
            " batch_normalization_3 (BatchNo  (None, 320, 640, 12  512        ['conv2d_3[0][0]']               \n",
            " rmalization)                   8)                                                                \n",
            "                                                                                                  \n",
            " max_pooling2d_1 (MaxPooling2D)  (None, 160, 320, 12  0          ['batch_normalization_3[0][0]']  \n",
            "                                8)                                                                \n",
            "                                                                                                  \n",
            " conv2d_4 (Conv2D)              (None, 160, 320, 25  295168      ['max_pooling2d_1[0][0]']        \n",
            "                                6)                                                                \n",
            "                                                                                                  \n",
            " batch_normalization_4 (BatchNo  (None, 160, 320, 25  1024       ['conv2d_4[0][0]']               \n",
            " rmalization)                   6)                                                                \n",
            "                                                                                                  \n",
            " activation_4 (Activation)      (None, 160, 320, 25  0           ['batch_normalization_4[0][0]']  \n",
            "                                6)                                                                \n",
            "                                                                                                  \n",
            " conv2d_5 (Conv2D)              (None, 160, 320, 25  590080      ['activation_4[0][0]']           \n",
            "                                6)                                                                \n",
            "                                                                                                  \n",
            " batch_normalization_5 (BatchNo  (None, 160, 320, 25  1024       ['conv2d_5[0][0]']               \n",
            " rmalization)                   6)                                                                \n",
            "                                                                                                  \n",
            " max_pooling2d_2 (MaxPooling2D)  (None, 80, 160, 256  0          ['batch_normalization_5[0][0]']  \n",
            "                                )                                                                 \n",
            "                                                                                                  \n",
            " conv2d_6 (Conv2D)              (None, 80, 160, 512  1180160     ['max_pooling2d_2[0][0]']        \n",
            "                                )                                                                 \n",
            "                                                                                                  \n",
            " batch_normalization_6 (BatchNo  (None, 80, 160, 512  2048       ['conv2d_6[0][0]']               \n",
            " rmalization)                   )                                                                 \n",
            "                                                                                                  \n",
            " activation_6 (Activation)      (None, 80, 160, 512  0           ['batch_normalization_6[0][0]']  \n",
            "                                )                                                                 \n",
            "                                                                                                  \n",
            " conv2d_7 (Conv2D)              (None, 80, 160, 512  2359808     ['activation_6[0][0]']           \n",
            "                                )                                                                 \n",
            "                                                                                                  \n",
            " batch_normalization_7 (BatchNo  (None, 80, 160, 512  2048       ['conv2d_7[0][0]']               \n",
            " rmalization)                   )                                                                 \n",
            "                                                                                                  \n",
            " max_pooling2d_3 (MaxPooling2D)  (None, 40, 80, 512)  0          ['batch_normalization_7[0][0]']  \n",
            "                                                                                                  \n",
            " conv2d_8 (Conv2D)              (None, 40, 80, 1024  4719616     ['max_pooling2d_3[0][0]']        \n",
            "                                )                                                                 \n",
            "                                                                                                  \n",
            " batch_normalization_8 (BatchNo  (None, 40, 80, 1024  4096       ['conv2d_8[0][0]']               \n",
            " rmalization)                   )                                                                 \n",
            "                                                                                                  \n",
            " activation_8 (Activation)      (None, 40, 80, 1024  0           ['batch_normalization_8[0][0]']  \n",
            "                                )                                                                 \n",
            "                                                                                                  \n",
            " conv2d_9 (Conv2D)              (None, 40, 80, 1024  9438208     ['activation_8[0][0]']           \n",
            "                                )                                                                 \n",
            "                                                                                                  \n",
            " batch_normalization_9 (BatchNo  (None, 40, 80, 1024  4096       ['conv2d_9[0][0]']               \n",
            " rmalization)                   )                                                                 \n",
            "                                                                                                  \n",
            " conv2d_transpose (Conv2DTransp  (None, 80, 160, 512  2097664    ['batch_normalization_9[0][0]']  \n",
            " ose)                           )                                                                 \n",
            "                                                                                                  \n",
            " concatenate (Concatenate)      (None, 80, 160, 102  0           ['conv2d_transpose[0][0]',       \n",
            "                                4)                                'batch_normalization_7[0][0]']  \n",
            "                                                                                                  \n",
            " conv2d_10 (Conv2D)             (None, 80, 160, 512  4719104     ['concatenate[0][0]']            \n",
            "                                )                                                                 \n",
            "                                                                                                  \n",
            " batch_normalization_10 (BatchN  (None, 80, 160, 512  2048       ['conv2d_10[0][0]']              \n",
            " ormalization)                  )                                                                 \n",
            "                                                                                                  \n",
            " activation_10 (Activation)     (None, 80, 160, 512  0           ['batch_normalization_10[0][0]'] \n",
            "                                )                                                                 \n",
            "                                                                                                  \n",
            " conv2d_11 (Conv2D)             (None, 80, 160, 512  2359808     ['activation_10[0][0]']          \n",
            "                                )                                                                 \n",
            "                                                                                                  \n",
            " batch_normalization_11 (BatchN  (None, 80, 160, 512  2048       ['conv2d_11[0][0]']              \n",
            " ormalization)                  )                                                                 \n",
            "                                                                                                  \n",
            " conv2d_transpose_1 (Conv2DTran  (None, 160, 320, 25  524544     ['batch_normalization_11[0][0]'] \n",
            " spose)                         6)                                                                \n",
            "                                                                                                  \n",
            " concatenate_1 (Concatenate)    (None, 160, 320, 51  0           ['conv2d_transpose_1[0][0]',     \n",
            "                                2)                                'batch_normalization_5[0][0]']  \n",
            "                                                                                                  \n",
            " conv2d_12 (Conv2D)             (None, 160, 320, 25  1179904     ['concatenate_1[0][0]']          \n",
            "                                6)                                                                \n",
            "                                                                                                  \n",
            " batch_normalization_12 (BatchN  (None, 160, 320, 25  1024       ['conv2d_12[0][0]']              \n",
            " ormalization)                  6)                                                                \n",
            "                                                                                                  \n",
            " activation_12 (Activation)     (None, 160, 320, 25  0           ['batch_normalization_12[0][0]'] \n",
            "                                6)                                                                \n",
            "                                                                                                  \n",
            " conv2d_13 (Conv2D)             (None, 160, 320, 25  590080      ['activation_12[0][0]']          \n",
            "                                6)                                                                \n",
            "                                                                                                  \n",
            " batch_normalization_13 (BatchN  (None, 160, 320, 25  1024       ['conv2d_13[0][0]']              \n",
            " ormalization)                  6)                                                                \n",
            "                                                                                                  \n",
            " conv2d_transpose_2 (Conv2DTran  (None, 320, 640, 12  131200     ['batch_normalization_13[0][0]'] \n",
            " spose)                         8)                                                                \n",
            "                                                                                                  \n",
            " concatenate_2 (Concatenate)    (None, 320, 640, 25  0           ['conv2d_transpose_2[0][0]',     \n",
            "                                6)                                'batch_normalization_3[0][0]']  \n",
            "                                                                                                  \n",
            " conv2d_14 (Conv2D)             (None, 320, 640, 12  295040      ['concatenate_2[0][0]']          \n",
            "                                8)                                                                \n",
            "                                                                                                  \n",
            " batch_normalization_14 (BatchN  (None, 320, 640, 12  512        ['conv2d_14[0][0]']              \n",
            " ormalization)                  8)                                                                \n",
            "                                                                                                  \n",
            " activation_14 (Activation)     (None, 320, 640, 12  0           ['batch_normalization_14[0][0]'] \n",
            "                                8)                                                                \n",
            "                                                                                                  \n",
            " conv2d_15 (Conv2D)             (None, 320, 640, 12  147584      ['activation_14[0][0]']          \n",
            "                                8)                                                                \n",
            "                                                                                                  \n",
            " batch_normalization_15 (BatchN  (None, 320, 640, 12  512        ['conv2d_15[0][0]']              \n",
            " ormalization)                  8)                                                                \n",
            "                                                                                                  \n",
            " conv2d_transpose_3 (Conv2DTran  (None, 640, 1280, 6  32832      ['batch_normalization_15[0][0]'] \n",
            " spose)                         4)                                                                \n",
            "                                                                                                  \n",
            " concatenate_3 (Concatenate)    (None, 640, 1280, 1  0           ['conv2d_transpose_3[0][0]',     \n",
            "                                28)                               'batch_normalization_1[0][0]']  \n",
            "                                                                                                  \n",
            " conv2d_16 (Conv2D)             (None, 640, 1280, 6  73792       ['concatenate_3[0][0]']          \n",
            "                                4)                                                                \n",
            "                                                                                                  \n",
            " batch_normalization_16 (BatchN  (None, 640, 1280, 6  256        ['conv2d_16[0][0]']              \n",
            " ormalization)                  4)                                                                \n",
            "                                                                                                  \n",
            " activation_16 (Activation)     (None, 640, 1280, 6  0           ['batch_normalization_16[0][0]'] \n",
            "                                4)                                                                \n",
            "                                                                                                  \n",
            " conv2d_17 (Conv2D)             (None, 640, 1280, 6  36928       ['activation_16[0][0]']          \n",
            "                                4)                                                                \n",
            "                                                                                                  \n",
            " batch_normalization_17 (BatchN  (None, 640, 1280, 6  256        ['conv2d_17[0][0]']              \n",
            " ormalization)                  4)                                                                \n",
            "                                                                                                  \n",
            " conv2d_18 (Conv2D)             (None, 640, 1280, 1  65          ['batch_normalization_17[0][0]'] \n",
            "                                )                                                                 \n",
            "                                                                                                  \n",
            "==================================================================================================\n",
            "Total params: 31,055,297\n",
            "Trainable params: 31,043,521\n",
            "Non-trainable params: 11,776\n",
            "__________________________________________________________________________________________________\n"
          ]
        }
      ]
    },
    {
      "cell_type": "code",
      "source": [
        "import os\n",
        "from glob import glob\n",
        "\n",
        "data_path = \"../content/drive/MyDrive/U-Net/test/images\"\n",
        "\n",
        "# Construct the file pattern\n",
        "test_pattern = os.path.join(data_path, \"*\")\n",
        "\n",
        "# Load the test images\n",
        "test_x = sorted(glob(test_pattern))\n",
        "\n",
        "# Print the number of test images\n",
        "print(f\"Test Images: {len(test_x)}\")\n"
      ],
      "metadata": {
        "colab": {
          "base_uri": "https://localhost:8080/"
        },
        "id": "OvKWQ2twkDhi",
        "outputId": "bea80811-e279-451c-a261-c12f50d0244b"
      },
      "execution_count": null,
      "outputs": [
        {
          "output_type": "stream",
          "name": "stdout",
          "text": [
            "Test Images: 50\n"
          ]
        }
      ]
    },
    {
      "cell_type": "markdown",
      "source": [],
      "metadata": {
        "id": "t4dNHdoa8TAF"
      }
    },
    {
      "cell_type": "code",
      "source": [
        "time_taken = []\n",
        "\n",
        "for x in tqdm(test_x):\n",
        "  name = x.split(\"/\") [-1]\n",
        "  x = cv2.imread(x, cv2.IMREAD_COLOR)\n",
        "  x = x / 255.0\n",
        "  x = np.expand_dims(x, axis=0)\n",
        "\n",
        "  start_time = time.time()\n",
        "  p = model.predict(x)\n",
        "  total_time = time.time() - start_time\n",
        "  time_taken.append(total_time)\n",
        "  p = p > 0.5\n",
        "  p = p * 255\n",
        "  cv2.imwrite(os.path.join(save_path, name), p)\n",
        "\n",
        "  break"
      ],
      "metadata": {
        "id": "41E1LEJSQ59W",
        "colab": {
          "base_uri": "https://localhost:8080/"
        },
        "outputId": "adfdae44-2696-4a77-9569-1e156bc07c35"
      },
      "execution_count": null,
      "outputs": [
        {
          "output_type": "stream",
          "name": "stderr",
          "text": [
            "\r  0%|          | 0/50 [00:00<?, ?it/s]"
          ]
        },
        {
          "output_type": "stream",
          "name": "stdout",
          "text": [
            "1/1 [==============================] - 3s 3s/step\n"
          ]
        },
        {
          "output_type": "stream",
          "name": "stderr",
          "text": [
            "\r  0%|          | 0/50 [00:02<?, ?it/s]\n"
          ]
        }
      ]
    },
    {
      "cell_type": "code",
      "source": [
        "import os\n",
        "\n",
        "if not os.path.exists(\"../content/drive/MyDrive/U-Net/pred\"):\n",
        "  os.makedirs(\"../content/drive/MyDrive/U-Net/pred\")\n"
      ],
      "metadata": {
        "id": "5RDXmaQ6va8l"
      },
      "execution_count": null,
      "outputs": []
    },
    {
      "cell_type": "code",
      "source": [
        "import cv2\n",
        "import numpy as np\n",
        "from tqdm import tqdm\n",
        "\n",
        "# Load the U-Net model.\n",
        "model = load_model(model_path)\n",
        "\n",
        "# Get the list of paths to the test images.\n",
        "test_image_paths = os.listdir(\"../content/drive/MyDrive/U-Net/test/images\")\n",
        "\n",
        "# Define the save_path directory.\n",
        "save_path = os.path.join(data_path, \"pred\")\n",
        "\n",
        "# Ensure the save_path directory exists.\n",
        "os.makedirs(save_path, exist_ok=True)\n",
        "\n",
        "# Iterate over the test images.\n",
        "with tqdm(total=len(test_image_paths)) as pbar:\n",
        "    for image_path in test_image_paths:\n",
        "\n",
        "        # Read the original image.\n",
        "        original_image = cv2.imread(os.path.join(\"../content/drive/MyDrive/U-Net/test/images\", image_path), cv2.IMREAD_COLOR)\n",
        "\n",
        "        # Preprocess the image for prediction.\n",
        "        image = original_image / 255.0\n",
        "        image = np.expand_dims(image, axis=0)\n",
        "\n",
        "        # Predict the mask.\n",
        "        mask = model.predict(image)\n",
        "\n",
        "        # Threshold the predicted mask (assuming binary segmentation).\n",
        "        threshold = 0.5\n",
        "        mask = (mask > threshold).astype(np.uint8) * 255\n",
        "\n",
        "        # Save the predicted mask to the save_path directory.\n",
        "        tqdm.write(f\"Saving predicted mask for image: {image_path}\")\n",
        "        cv2.imwrite(os.path.join(save_path, image_path.split(\"/\")[-1]), mask)\n",
        "\n",
        "        # Update the progress bar.\n",
        "        pbar.update(1)\n"
      ],
      "metadata": {
        "colab": {
          "base_uri": "https://localhost:8080/"
        },
        "id": "1UcmCJmV0UI4",
        "outputId": "082b357c-8208-433f-e056-17fca0b27e27"
      },
      "execution_count": null,
      "outputs": [
        {
          "output_type": "stream",
          "name": "stderr",
          "text": [
            "\r  0%|          | 0/50 [00:00<?, ?it/s]"
          ]
        },
        {
          "output_type": "stream",
          "name": "stdout",
          "text": [
            "1/1 [==============================] - 2s 2s/step\n"
          ]
        },
        {
          "output_type": "stream",
          "name": "stderr",
          "text": [
            "  2%|▏         | 1/50 [00:02<02:00,  2.46s/it]"
          ]
        },
        {
          "output_type": "stream",
          "name": "stdout",
          "text": [
            "Saving predicted mask for image: DMI_OS_UPPER_REFLECTED_IR_22949014.JPG\n",
            "1/1 [==============================] - 2s 2s/step\n"
          ]
        },
        {
          "output_type": "stream",
          "name": "stderr",
          "text": [
            "  4%|▍         | 2/50 [00:04<01:46,  2.21s/it]"
          ]
        },
        {
          "output_type": "stream",
          "name": "stdout",
          "text": [
            "Saving predicted mask for image: DMI_OS_UPPER_REFLECTED_IR_22638491.JPG\n",
            "1/1 [==============================] - 2s 2s/step\n"
          ]
        },
        {
          "output_type": "stream",
          "name": "stderr",
          "text": [
            "  6%|▌         | 3/50 [00:07<01:51,  2.37s/it]"
          ]
        },
        {
          "output_type": "stream",
          "name": "stdout",
          "text": [
            "Saving predicted mask for image: DMI_OS_UPPER_REFLECTED_IR_22988641.JPG\n",
            "1/1 [==============================] - 2s 2s/step\n"
          ]
        },
        {
          "output_type": "stream",
          "name": "stderr",
          "text": [
            "  8%|▊         | 4/50 [00:09<01:44,  2.26s/it]"
          ]
        },
        {
          "output_type": "stream",
          "name": "stdout",
          "text": [
            "Saving predicted mask for image: DMI_OS_UPPER_REFLECTED_IR_22949698.JPG\n",
            "1/1 [==============================] - 2s 2s/step\n"
          ]
        },
        {
          "output_type": "stream",
          "name": "stderr",
          "text": [
            " 10%|█         | 5/50 [00:11<01:39,  2.21s/it]"
          ]
        },
        {
          "output_type": "stream",
          "name": "stdout",
          "text": [
            "Saving predicted mask for image: DMI_OS_UPPER_REFLECTED_IR_22562124.JPG\n",
            "1/1 [==============================] - 2s 2s/step\n"
          ]
        },
        {
          "output_type": "stream",
          "name": "stderr",
          "text": [
            " 12%|█▏        | 6/50 [00:13<01:36,  2.19s/it]"
          ]
        },
        {
          "output_type": "stream",
          "name": "stdout",
          "text": [
            "Saving predicted mask for image: DMI_OS_UPPER_REFLECTED_IR_22895318.JPG\n",
            "1/1 [==============================] - 2s 2s/step\n"
          ]
        },
        {
          "output_type": "stream",
          "name": "stderr",
          "text": [
            " 14%|█▍        | 7/50 [00:15<01:33,  2.17s/it]"
          ]
        },
        {
          "output_type": "stream",
          "name": "stdout",
          "text": [
            "Saving predicted mask for image: DMI_OS_UPPER_REFLECTED_IR_22917623.JPG\n",
            "1/1 [==============================] - 2s 2s/step\n"
          ]
        },
        {
          "output_type": "stream",
          "name": "stderr",
          "text": [
            " 16%|█▌        | 8/50 [00:17<01:29,  2.14s/it]"
          ]
        },
        {
          "output_type": "stream",
          "name": "stdout",
          "text": [
            "Saving predicted mask for image: DMI_OS_UPPER_REFLECTED_IR_22670694.JPG\n",
            "1/1 [==============================] - 2s 2s/step\n"
          ]
        },
        {
          "output_type": "stream",
          "name": "stderr",
          "text": [
            " 18%|█▊        | 9/50 [00:19<01:26,  2.11s/it]"
          ]
        },
        {
          "output_type": "stream",
          "name": "stdout",
          "text": [
            "Saving predicted mask for image: DMI_OS_UPPER_REFLECTED_IR_22838607.JPG\n",
            "1/1 [==============================] - 2s 2s/step\n"
          ]
        },
        {
          "output_type": "stream",
          "name": "stderr",
          "text": [
            " 20%|██        | 10/50 [00:21<01:23,  2.09s/it]"
          ]
        },
        {
          "output_type": "stream",
          "name": "stdout",
          "text": [
            "Saving predicted mask for image: DMI_OS_UPPER_REFLECTED_IR_22768021.JPG\n",
            "1/1 [==============================] - 2s 2s/step\n"
          ]
        },
        {
          "output_type": "stream",
          "name": "stderr",
          "text": [
            " 22%|██▏       | 11/50 [00:23<01:22,  2.11s/it]"
          ]
        },
        {
          "output_type": "stream",
          "name": "stdout",
          "text": [
            "Saving predicted mask for image: DMI_OS_UPPER_REFLECTED_IR_22948834.JPG\n",
            "1/1 [==============================] - 2s 2s/step\n"
          ]
        },
        {
          "output_type": "stream",
          "name": "stderr",
          "text": [
            " 24%|██▍       | 12/50 [00:25<01:19,  2.10s/it]"
          ]
        },
        {
          "output_type": "stream",
          "name": "stdout",
          "text": [
            "Saving predicted mask for image: DMI_OS_UPPER_REFLECTED_IR_22989176.JPG\n",
            "1/1 [==============================] - 2s 2s/step\n"
          ]
        },
        {
          "output_type": "stream",
          "name": "stderr",
          "text": [
            " 26%|██▌       | 13/50 [00:28<01:17,  2.11s/it]"
          ]
        },
        {
          "output_type": "stream",
          "name": "stdout",
          "text": [
            "Saving predicted mask for image: DMI_OS_UPPER_REFLECTED_IR_22633580.JPG\n",
            "1/1 [==============================] - 2s 2s/step\n"
          ]
        },
        {
          "output_type": "stream",
          "name": "stderr",
          "text": [
            " 28%|██▊       | 14/50 [00:30<01:15,  2.11s/it]"
          ]
        },
        {
          "output_type": "stream",
          "name": "stdout",
          "text": [
            "Saving predicted mask for image: DMI_OS_UPPER_REFLECTED_IR_22978304.JPG\n",
            "1/1 [==============================] - 2s 2s/step\n"
          ]
        },
        {
          "output_type": "stream",
          "name": "stderr",
          "text": [
            " 30%|███       | 15/50 [00:32<01:13,  2.11s/it]"
          ]
        },
        {
          "output_type": "stream",
          "name": "stdout",
          "text": [
            "Saving predicted mask for image: DMI_OS_UPPER_REFLECTED_IR_22616281.JPG\n",
            "1/1 [==============================] - 2s 2s/step\n"
          ]
        },
        {
          "output_type": "stream",
          "name": "stderr",
          "text": [
            " 32%|███▏      | 16/50 [00:34<01:11,  2.10s/it]"
          ]
        },
        {
          "output_type": "stream",
          "name": "stdout",
          "text": [
            "Saving predicted mask for image: DMI_OS_UPPER_REFLECTED_IR_22682225.JPG\n",
            "1/1 [==============================] - 2s 2s/step\n"
          ]
        },
        {
          "output_type": "stream",
          "name": "stderr",
          "text": [
            " 34%|███▍      | 17/50 [00:36<01:08,  2.09s/it]"
          ]
        },
        {
          "output_type": "stream",
          "name": "stdout",
          "text": [
            "Saving predicted mask for image: DMI_OS_UPPER_REFLECTED_IR_22912884.JPG\n",
            "1/1 [==============================] - 2s 2s/step\n"
          ]
        },
        {
          "output_type": "stream",
          "name": "stderr",
          "text": [
            " 36%|███▌      | 18/50 [00:38<01:06,  2.08s/it]"
          ]
        },
        {
          "output_type": "stream",
          "name": "stdout",
          "text": [
            "Saving predicted mask for image: DMI_OS_UPPER_REFLECTED_IR_22891940.JPG\n",
            "1/1 [==============================] - 2s 2s/step\n"
          ]
        },
        {
          "output_type": "stream",
          "name": "stderr",
          "text": [
            " 38%|███▊      | 19/50 [00:40<01:04,  2.08s/it]"
          ]
        },
        {
          "output_type": "stream",
          "name": "stdout",
          "text": [
            "Saving predicted mask for image: DMI_OS_UPPER_REFLECTED_IR_22936604.JPG\n",
            "1/1 [==============================] - 2s 2s/step\n"
          ]
        },
        {
          "output_type": "stream",
          "name": "stderr",
          "text": [
            " 40%|████      | 20/50 [00:42<01:02,  2.08s/it]"
          ]
        },
        {
          "output_type": "stream",
          "name": "stdout",
          "text": [
            "Saving predicted mask for image: DMI_OS_UPPER_REFLECTED_IR_22998766.JPG\n",
            "1/1 [==============================] - 2s 2s/step\n"
          ]
        },
        {
          "output_type": "stream",
          "name": "stderr",
          "text": [
            " 42%|████▏     | 21/50 [00:44<01:00,  2.07s/it]"
          ]
        },
        {
          "output_type": "stream",
          "name": "stdout",
          "text": [
            "Saving predicted mask for image: DMI_OS_UPPER_REFLECTED_IR_22951117.JPG\n",
            "1/1 [==============================] - 2s 2s/step\n"
          ]
        },
        {
          "output_type": "stream",
          "name": "stderr",
          "text": [
            " 44%|████▍     | 22/50 [00:46<00:57,  2.07s/it]"
          ]
        },
        {
          "output_type": "stream",
          "name": "stdout",
          "text": [
            "Saving predicted mask for image: DMI_OS_UPPER_REFLECTED_IR_22949252.JPG\n",
            "1/1 [==============================] - 2s 2s/step\n"
          ]
        },
        {
          "output_type": "stream",
          "name": "stderr",
          "text": [
            " 46%|████▌     | 23/50 [00:48<00:56,  2.07s/it]"
          ]
        },
        {
          "output_type": "stream",
          "name": "stdout",
          "text": [
            "Saving predicted mask for image: DMI_OS_UPPER_REFLECTED_IR_22975508.JPG\n",
            "1/1 [==============================] - 2s 2s/step\n"
          ]
        },
        {
          "output_type": "stream",
          "name": "stderr",
          "text": [
            " 48%|████▊     | 24/50 [00:50<00:54,  2.08s/it]"
          ]
        },
        {
          "output_type": "stream",
          "name": "stdout",
          "text": [
            "Saving predicted mask for image: DMI_OS_UPPER_REFLECTED_IR_22956254.JPG\n",
            "1/1 [==============================] - 2s 2s/step\n"
          ]
        },
        {
          "output_type": "stream",
          "name": "stderr",
          "text": [
            " 50%|█████     | 25/50 [00:53<00:52,  2.09s/it]"
          ]
        },
        {
          "output_type": "stream",
          "name": "stdout",
          "text": [
            "Saving predicted mask for image: DMI_OS_UPPER_REFLECTED_IR_22814194.JPG\n",
            "1/1 [==============================] - 2s 2s/step\n"
          ]
        },
        {
          "output_type": "stream",
          "name": "stderr",
          "text": [
            " 52%|█████▏    | 26/50 [00:55<00:49,  2.08s/it]"
          ]
        },
        {
          "output_type": "stream",
          "name": "stdout",
          "text": [
            "Saving predicted mask for image: DMI_OS_UPPER_REFLECTED_IR_22979183.JPG\n",
            "1/1 [==============================] - 2s 2s/step\n"
          ]
        },
        {
          "output_type": "stream",
          "name": "stderr",
          "text": [
            " 54%|█████▍    | 27/50 [00:57<00:47,  2.06s/it]"
          ]
        },
        {
          "output_type": "stream",
          "name": "stdout",
          "text": [
            "Saving predicted mask for image: DMI_OS_UPPER_REFLECTED_IR_22936699.JPG\n",
            "1/1 [==============================] - 2s 2s/step\n"
          ]
        },
        {
          "output_type": "stream",
          "name": "stderr",
          "text": [
            " 56%|█████▌    | 28/50 [00:59<00:45,  2.05s/it]"
          ]
        },
        {
          "output_type": "stream",
          "name": "stdout",
          "text": [
            "Saving predicted mask for image: DMI_OS_UPPER_REFLECTED_IR_22906586.JPG\n",
            "1/1 [==============================] - 2s 2s/step\n"
          ]
        },
        {
          "output_type": "stream",
          "name": "stderr",
          "text": [
            " 58%|█████▊    | 29/50 [01:01<00:42,  2.04s/it]"
          ]
        },
        {
          "output_type": "stream",
          "name": "stdout",
          "text": [
            "Saving predicted mask for image: DMI_OS_UPPER_REFLECTED_IR_22544148.JPG\n",
            "1/1 [==============================] - 2s 2s/step\n"
          ]
        },
        {
          "output_type": "stream",
          "name": "stderr",
          "text": [
            " 60%|██████    | 30/50 [01:03<00:41,  2.05s/it]"
          ]
        },
        {
          "output_type": "stream",
          "name": "stdout",
          "text": [
            "Saving predicted mask for image: DMI_OS_UPPER_REFLECTED_IR_22971735.JPG\n",
            "1/1 [==============================] - 2s 2s/step\n"
          ]
        },
        {
          "output_type": "stream",
          "name": "stderr",
          "text": [
            " 62%|██████▏   | 31/50 [01:05<00:38,  2.05s/it]"
          ]
        },
        {
          "output_type": "stream",
          "name": "stdout",
          "text": [
            "Saving predicted mask for image: DMI_OS_UPPER_REFLECTED_IR_22559920.JPG\n",
            "1/1 [==============================] - 2s 2s/step\n"
          ]
        },
        {
          "output_type": "stream",
          "name": "stderr",
          "text": [
            " 64%|██████▍   | 32/50 [01:07<00:37,  2.06s/it]"
          ]
        },
        {
          "output_type": "stream",
          "name": "stdout",
          "text": [
            "Saving predicted mask for image: DMI_OS_UPPER_REFLECTED_IR_22890491.JPG\n",
            "1/1 [==============================] - 2s 2s/step\n"
          ]
        },
        {
          "output_type": "stream",
          "name": "stderr",
          "text": [
            " 66%|██████▌   | 33/50 [01:09<00:35,  2.06s/it]"
          ]
        },
        {
          "output_type": "stream",
          "name": "stdout",
          "text": [
            "Saving predicted mask for image: DMI_OS_UPPER_REFLECTED_IR_22995998.JPG\n",
            "1/1 [==============================] - 2s 2s/step\n"
          ]
        },
        {
          "output_type": "stream",
          "name": "stderr",
          "text": [
            " 68%|██████▊   | 34/50 [01:11<00:32,  2.06s/it]"
          ]
        },
        {
          "output_type": "stream",
          "name": "stdout",
          "text": [
            "Saving predicted mask for image: DMI_OS_UPPER_REFLECTED_IR_22967793.JPG\n",
            "1/1 [==============================] - 2s 2s/step\n"
          ]
        },
        {
          "output_type": "stream",
          "name": "stderr",
          "text": [
            " 70%|███████   | 35/50 [01:13<00:31,  2.08s/it]"
          ]
        },
        {
          "output_type": "stream",
          "name": "stdout",
          "text": [
            "Saving predicted mask for image: DMI_OS_UPPER_REFLECTED_IR_22921829.JPG\n",
            "1/1 [==============================] - 2s 2s/step\n"
          ]
        },
        {
          "output_type": "stream",
          "name": "stderr",
          "text": [
            " 72%|███████▏  | 36/50 [01:15<00:28,  2.07s/it]"
          ]
        },
        {
          "output_type": "stream",
          "name": "stdout",
          "text": [
            "Saving predicted mask for image: DMI_OS_UPPER_REFLECTED_IR_22539236.JPG\n",
            "1/1 [==============================] - 2s 2s/step\n"
          ]
        },
        {
          "output_type": "stream",
          "name": "stderr",
          "text": [
            " 74%|███████▍  | 37/50 [01:17<00:26,  2.06s/it]"
          ]
        },
        {
          "output_type": "stream",
          "name": "stdout",
          "text": [
            "Saving predicted mask for image: DMI_OS_UPPER_REFLECTED_IR_22989135.JPG\n",
            "1/1 [==============================] - 2s 2s/step\n"
          ]
        },
        {
          "output_type": "stream",
          "name": "stderr",
          "text": [
            " 76%|███████▌  | 38/50 [01:19<00:24,  2.05s/it]"
          ]
        },
        {
          "output_type": "stream",
          "name": "stdout",
          "text": [
            "Saving predicted mask for image: DMI_OS_UPPER_REFLECTED_IR_22901596.JPG\n",
            "1/1 [==============================] - 2s 2s/step\n"
          ]
        },
        {
          "output_type": "stream",
          "name": "stderr",
          "text": [
            " 78%|███████▊  | 39/50 [01:21<00:22,  2.06s/it]"
          ]
        },
        {
          "output_type": "stream",
          "name": "stdout",
          "text": [
            "Saving predicted mask for image: DMI_OS_UPPER_REFLECTED_IR_23022836.JPG\n",
            "1/1 [==============================] - 2s 2s/step\n"
          ]
        },
        {
          "output_type": "stream",
          "name": "stderr",
          "text": [
            " 80%|████████  | 40/50 [01:23<00:20,  2.07s/it]"
          ]
        },
        {
          "output_type": "stream",
          "name": "stdout",
          "text": [
            "Saving predicted mask for image: DMI_OS_UPPER_REFLECTED_IR_23027867.JPG\n",
            "1/1 [==============================] - 2s 2s/step\n"
          ]
        },
        {
          "output_type": "stream",
          "name": "stderr",
          "text": [
            " 82%|████████▏ | 41/50 [01:25<00:18,  2.08s/it]"
          ]
        },
        {
          "output_type": "stream",
          "name": "stdout",
          "text": [
            "Saving predicted mask for image: DMI_OS_UPPER_REFLECTED_IR_23004217.JPG\n",
            "1/1 [==============================] - 2s 2s/step\n"
          ]
        },
        {
          "output_type": "stream",
          "name": "stderr",
          "text": [
            " 84%|████████▍ | 42/50 [01:28<00:16,  2.07s/it]"
          ]
        },
        {
          "output_type": "stream",
          "name": "stdout",
          "text": [
            "Saving predicted mask for image: DMI_OS_UPPER_REFLECTED_IR_23036946.JPG\n",
            "1/1 [==============================] - 2s 2s/step\n"
          ]
        },
        {
          "output_type": "stream",
          "name": "stderr",
          "text": [
            " 86%|████████▌ | 43/50 [01:30<00:14,  2.05s/it]"
          ]
        },
        {
          "output_type": "stream",
          "name": "stdout",
          "text": [
            "Saving predicted mask for image: DMI_OS_UPPER_REFLECTED_IR_23010647.JPG\n",
            "1/1 [==============================] - 2s 2s/step\n"
          ]
        },
        {
          "output_type": "stream",
          "name": "stderr",
          "text": [
            " 88%|████████▊ | 44/50 [01:32<00:12,  2.04s/it]"
          ]
        },
        {
          "output_type": "stream",
          "name": "stdout",
          "text": [
            "Saving predicted mask for image: DMI_OS_UPPER_REFLECTED_IR_23008516.JPG\n",
            "1/1 [==============================] - 2s 2s/step\n"
          ]
        },
        {
          "output_type": "stream",
          "name": "stderr",
          "text": [
            " 90%|█████████ | 45/50 [01:34<00:10,  2.04s/it]"
          ]
        },
        {
          "output_type": "stream",
          "name": "stdout",
          "text": [
            "Saving predicted mask for image: DMI_OS_UPPER_REFLECTED_IR_23026471.JPG\n",
            "1/1 [==============================] - 2s 2s/step\n"
          ]
        },
        {
          "output_type": "stream",
          "name": "stderr",
          "text": [
            " 92%|█████████▏| 46/50 [01:36<00:08,  2.04s/it]"
          ]
        },
        {
          "output_type": "stream",
          "name": "stdout",
          "text": [
            "Saving predicted mask for image: DMI_OS_UPPER_REFLECTED_IR_23043359.JPG\n",
            "1/1 [==============================] - 2s 2s/step\n"
          ]
        },
        {
          "output_type": "stream",
          "name": "stderr",
          "text": [
            " 94%|█████████▍| 47/50 [01:38<00:06,  2.05s/it]"
          ]
        },
        {
          "output_type": "stream",
          "name": "stdout",
          "text": [
            "Saving predicted mask for image: DMI_OS_UPPER_REFLECTED_IR_23043831.JPG\n",
            "1/1 [==============================] - 2s 2s/step\n"
          ]
        },
        {
          "output_type": "stream",
          "name": "stderr",
          "text": [
            " 96%|█████████▌| 48/50 [01:40<00:04,  2.05s/it]"
          ]
        },
        {
          "output_type": "stream",
          "name": "stdout",
          "text": [
            "Saving predicted mask for image: DMI_OS_UPPER_REFLECTED_IR_23004364.JPG\n",
            "1/1 [==============================] - 2s 2s/step\n"
          ]
        },
        {
          "output_type": "stream",
          "name": "stderr",
          "text": [
            " 98%|█████████▊| 49/50 [01:42<00:02,  2.06s/it]"
          ]
        },
        {
          "output_type": "stream",
          "name": "stdout",
          "text": [
            "Saving predicted mask for image: DMI_OS_UPPER_REFLECTED_IR_23008400.JPG\n",
            "1/1 [==============================] - 2s 2s/step\n"
          ]
        },
        {
          "output_type": "stream",
          "name": "stderr",
          "text": [
            "100%|██████████| 50/50 [01:44<00:00,  2.09s/it]"
          ]
        },
        {
          "output_type": "stream",
          "name": "stdout",
          "text": [
            "Saving predicted mask for image: DMI_OS_UPPER_REFLECTED_IR_23033914.JPG\n"
          ]
        },
        {
          "output_type": "stream",
          "name": "stderr",
          "text": [
            "\n"
          ]
        }
      ]
    },
    {
      "cell_type": "code",
      "source": [
        "import cv2\n",
        "import numpy as np\n",
        "from tqdm import tqdm\n",
        "\n",
        "# Load the U-Net model.\n",
        "model = load_model(model_path)\n",
        "\n",
        "# Get the list of paths to the test images.\n",
        "test_image_paths = os.listdir(\"../content/drive/MyDrive/U-Net/test/images\")\n",
        "\n",
        "# Define the save_path directory.\n",
        "save_path = os.path.join(data_path, \"pred\")\n",
        "\n",
        "# Ensure the save_path directory exists.\n",
        "os.makedirs(save_path, exist_ok=True)\n",
        "\n",
        "# Iterate over the test images.\n",
        "with tqdm(total=len(test_image_paths)) as pbar:\n",
        "    for image_path in test_image_paths:\n",
        "\n",
        "        # Read the original image.\n",
        "        original_image = cv2.imread(os.path.join(\"../content/drive/MyDrive/U-Net/test/images\", image_path), cv2.IMREAD_COLOR)\n",
        "\n",
        "        # Preprocess the image for prediction.\n",
        "        image = original_image / 255.0\n",
        "        image = np.expand_dims(image, axis=0)\n",
        "\n",
        "        # Predict the mask.\n",
        "        mask = model.predict(image)\n",
        "\n",
        "        # Threshold the predicted mask (assuming binary segmentation).\n",
        "        threshold = 0.5\n",
        "        mask = (mask > threshold).astype(np.uint8) * 255\n",
        "\n",
        "        # Save the predicted mask to the save_path directory.\n",
        "        tqdm.write(f\"Saving predicted mask for image: {image_path}\")\n",
        "        cv2.imwrite(os.path.join(save_path, image_path.split(\"/\")[-1]), mask[..., 0])\n",
        "\n",
        "        # Update the progress bar.\n",
        "        pbar.update(1)\n"
      ],
      "metadata": {
        "colab": {
          "base_uri": "https://localhost:8080/"
        },
        "id": "eyfghuKG0U_h",
        "outputId": "49df6b48-76e5-4dd6-f398-34436cd4f467"
      },
      "execution_count": null,
      "outputs": [
        {
          "output_type": "stream",
          "name": "stderr",
          "text": [
            "\r  0%|          | 0/50 [00:00<?, ?it/s]"
          ]
        },
        {
          "output_type": "stream",
          "name": "stdout",
          "text": [
            "1/1 [==============================] - 2s 2s/step\n"
          ]
        },
        {
          "output_type": "stream",
          "name": "stderr",
          "text": [
            "  2%|▏         | 1/50 [00:02<02:04,  2.54s/it]"
          ]
        },
        {
          "output_type": "stream",
          "name": "stdout",
          "text": [
            "Saving predicted mask for image: DMI_OS_UPPER_REFLECTED_IR_22949014.JPG\n",
            "1/1 [==============================] - 2s 2s/step\n"
          ]
        },
        {
          "output_type": "stream",
          "name": "stderr",
          "text": [
            "  4%|▍         | 2/50 [00:04<01:49,  2.29s/it]"
          ]
        },
        {
          "output_type": "stream",
          "name": "stdout",
          "text": [
            "Saving predicted mask for image: DMI_OS_UPPER_REFLECTED_IR_22638491.JPG\n",
            "1/1 [==============================] - 2s 2s/step\n"
          ]
        },
        {
          "output_type": "stream",
          "name": "stderr",
          "text": [
            "  6%|▌         | 3/50 [00:06<01:43,  2.20s/it]"
          ]
        },
        {
          "output_type": "stream",
          "name": "stdout",
          "text": [
            "Saving predicted mask for image: DMI_OS_UPPER_REFLECTED_IR_22988641.JPG\n",
            "1/1 [==============================] - 2s 2s/step\n"
          ]
        },
        {
          "output_type": "stream",
          "name": "stderr",
          "text": [
            "  8%|▊         | 4/50 [00:08<01:39,  2.15s/it]"
          ]
        },
        {
          "output_type": "stream",
          "name": "stdout",
          "text": [
            "Saving predicted mask for image: DMI_OS_UPPER_REFLECTED_IR_22949698.JPG\n",
            "1/1 [==============================] - 2s 2s/step\n"
          ]
        },
        {
          "output_type": "stream",
          "name": "stderr",
          "text": [
            " 10%|█         | 5/50 [00:10<01:35,  2.12s/it]"
          ]
        },
        {
          "output_type": "stream",
          "name": "stdout",
          "text": [
            "Saving predicted mask for image: DMI_OS_UPPER_REFLECTED_IR_22562124.JPG\n",
            "1/1 [==============================] - 2s 2s/step\n"
          ]
        },
        {
          "output_type": "stream",
          "name": "stderr",
          "text": [
            " 12%|█▏        | 6/50 [00:12<01:32,  2.11s/it]"
          ]
        },
        {
          "output_type": "stream",
          "name": "stdout",
          "text": [
            "Saving predicted mask for image: DMI_OS_UPPER_REFLECTED_IR_22895318.JPG\n",
            "1/1 [==============================] - 2s 2s/step\n"
          ]
        },
        {
          "output_type": "stream",
          "name": "stderr",
          "text": [
            " 14%|█▍        | 7/50 [00:15<01:29,  2.09s/it]"
          ]
        },
        {
          "output_type": "stream",
          "name": "stdout",
          "text": [
            "Saving predicted mask for image: DMI_OS_UPPER_REFLECTED_IR_22917623.JPG\n",
            "1/1 [==============================] - 2s 2s/step\n"
          ]
        },
        {
          "output_type": "stream",
          "name": "stderr",
          "text": [
            " 16%|█▌        | 8/50 [00:17<01:27,  2.08s/it]"
          ]
        },
        {
          "output_type": "stream",
          "name": "stdout",
          "text": [
            "Saving predicted mask for image: DMI_OS_UPPER_REFLECTED_IR_22670694.JPG\n",
            "1/1 [==============================] - 2s 2s/step\n"
          ]
        },
        {
          "output_type": "stream",
          "name": "stderr",
          "text": [
            " 18%|█▊        | 9/50 [00:19<01:25,  2.09s/it]"
          ]
        },
        {
          "output_type": "stream",
          "name": "stdout",
          "text": [
            "Saving predicted mask for image: DMI_OS_UPPER_REFLECTED_IR_22838607.JPG\n",
            "1/1 [==============================] - 2s 2s/step\n"
          ]
        },
        {
          "output_type": "stream",
          "name": "stderr",
          "text": [
            " 20%|██        | 10/50 [00:21<01:23,  2.08s/it]"
          ]
        },
        {
          "output_type": "stream",
          "name": "stdout",
          "text": [
            "Saving predicted mask for image: DMI_OS_UPPER_REFLECTED_IR_22768021.JPG\n",
            "1/1 [==============================] - 2s 2s/step\n"
          ]
        },
        {
          "output_type": "stream",
          "name": "stderr",
          "text": [
            " 22%|██▏       | 11/50 [00:23<01:21,  2.09s/it]"
          ]
        },
        {
          "output_type": "stream",
          "name": "stdout",
          "text": [
            "Saving predicted mask for image: DMI_OS_UPPER_REFLECTED_IR_22948834.JPG\n",
            "1/1 [==============================] - 2s 2s/step\n"
          ]
        },
        {
          "output_type": "stream",
          "name": "stderr",
          "text": [
            " 24%|██▍       | 12/50 [00:25<01:19,  2.09s/it]"
          ]
        },
        {
          "output_type": "stream",
          "name": "stdout",
          "text": [
            "Saving predicted mask for image: DMI_OS_UPPER_REFLECTED_IR_22989176.JPG\n",
            "1/1 [==============================] - 2s 2s/step\n"
          ]
        },
        {
          "output_type": "stream",
          "name": "stderr",
          "text": [
            " 26%|██▌       | 13/50 [00:27<01:16,  2.07s/it]"
          ]
        },
        {
          "output_type": "stream",
          "name": "stdout",
          "text": [
            "Saving predicted mask for image: DMI_OS_UPPER_REFLECTED_IR_22633580.JPG\n",
            "1/1 [==============================] - 2s 2s/step\n"
          ]
        },
        {
          "output_type": "stream",
          "name": "stderr",
          "text": [
            " 28%|██▊       | 14/50 [00:29<01:14,  2.06s/it]"
          ]
        },
        {
          "output_type": "stream",
          "name": "stdout",
          "text": [
            "Saving predicted mask for image: DMI_OS_UPPER_REFLECTED_IR_22978304.JPG\n",
            "1/1 [==============================] - 2s 2s/step\n"
          ]
        },
        {
          "output_type": "stream",
          "name": "stderr",
          "text": [
            " 30%|███       | 15/50 [00:31<01:11,  2.05s/it]"
          ]
        },
        {
          "output_type": "stream",
          "name": "stdout",
          "text": [
            "Saving predicted mask for image: DMI_OS_UPPER_REFLECTED_IR_22616281.JPG\n",
            "1/1 [==============================] - 2s 2s/step\n"
          ]
        },
        {
          "output_type": "stream",
          "name": "stderr",
          "text": [
            " 32%|███▏      | 16/50 [00:33<01:09,  2.04s/it]"
          ]
        },
        {
          "output_type": "stream",
          "name": "stdout",
          "text": [
            "Saving predicted mask for image: DMI_OS_UPPER_REFLECTED_IR_22682225.JPG\n",
            "1/1 [==============================] - 2s 2s/step\n"
          ]
        },
        {
          "output_type": "stream",
          "name": "stderr",
          "text": [
            " 34%|███▍      | 17/50 [00:35<01:07,  2.04s/it]"
          ]
        },
        {
          "output_type": "stream",
          "name": "stdout",
          "text": [
            "Saving predicted mask for image: DMI_OS_UPPER_REFLECTED_IR_22912884.JPG\n",
            "1/1 [==============================] - 2s 2s/step\n"
          ]
        },
        {
          "output_type": "stream",
          "name": "stderr",
          "text": [
            " 36%|███▌      | 18/50 [00:37<01:05,  2.04s/it]"
          ]
        },
        {
          "output_type": "stream",
          "name": "stdout",
          "text": [
            "Saving predicted mask for image: DMI_OS_UPPER_REFLECTED_IR_22891940.JPG\n",
            "1/1 [==============================] - 2s 2s/step\n"
          ]
        },
        {
          "output_type": "stream",
          "name": "stderr",
          "text": [
            " 38%|███▊      | 19/50 [00:39<01:03,  2.05s/it]"
          ]
        },
        {
          "output_type": "stream",
          "name": "stdout",
          "text": [
            "Saving predicted mask for image: DMI_OS_UPPER_REFLECTED_IR_22936604.JPG\n",
            "1/1 [==============================] - 2s 2s/step\n"
          ]
        },
        {
          "output_type": "stream",
          "name": "stderr",
          "text": [
            " 40%|████      | 20/50 [00:41<01:01,  2.05s/it]"
          ]
        },
        {
          "output_type": "stream",
          "name": "stdout",
          "text": [
            "Saving predicted mask for image: DMI_OS_UPPER_REFLECTED_IR_22998766.JPG\n",
            "1/1 [==============================] - 2s 2s/step\n"
          ]
        },
        {
          "output_type": "stream",
          "name": "stderr",
          "text": [
            " 42%|████▏     | 21/50 [00:43<00:59,  2.06s/it]"
          ]
        },
        {
          "output_type": "stream",
          "name": "stdout",
          "text": [
            "Saving predicted mask for image: DMI_OS_UPPER_REFLECTED_IR_22951117.JPG\n",
            "1/1 [==============================] - 2s 2s/step\n"
          ]
        },
        {
          "output_type": "stream",
          "name": "stderr",
          "text": [
            " 44%|████▍     | 22/50 [00:45<00:57,  2.04s/it]"
          ]
        },
        {
          "output_type": "stream",
          "name": "stdout",
          "text": [
            "Saving predicted mask for image: DMI_OS_UPPER_REFLECTED_IR_22949252.JPG\n",
            "1/1 [==============================] - 2s 2s/step\n"
          ]
        },
        {
          "output_type": "stream",
          "name": "stderr",
          "text": [
            " 46%|████▌     | 23/50 [00:47<00:55,  2.04s/it]"
          ]
        },
        {
          "output_type": "stream",
          "name": "stdout",
          "text": [
            "Saving predicted mask for image: DMI_OS_UPPER_REFLECTED_IR_22975508.JPG\n",
            "1/1 [==============================] - 2s 2s/step\n"
          ]
        },
        {
          "output_type": "stream",
          "name": "stderr",
          "text": [
            " 48%|████▊     | 24/50 [00:49<00:53,  2.05s/it]"
          ]
        },
        {
          "output_type": "stream",
          "name": "stdout",
          "text": [
            "Saving predicted mask for image: DMI_OS_UPPER_REFLECTED_IR_22956254.JPG\n",
            "1/1 [==============================] - 2s 2s/step\n"
          ]
        },
        {
          "output_type": "stream",
          "name": "stderr",
          "text": [
            " 50%|█████     | 25/50 [00:51<00:50,  2.02s/it]"
          ]
        },
        {
          "output_type": "stream",
          "name": "stdout",
          "text": [
            "Saving predicted mask for image: DMI_OS_UPPER_REFLECTED_IR_22814194.JPG\n",
            "1/1 [==============================] - 2s 2s/step\n"
          ]
        },
        {
          "output_type": "stream",
          "name": "stderr",
          "text": [
            " 52%|█████▏    | 26/50 [00:53<00:48,  2.03s/it]"
          ]
        },
        {
          "output_type": "stream",
          "name": "stdout",
          "text": [
            "Saving predicted mask for image: DMI_OS_UPPER_REFLECTED_IR_22979183.JPG\n",
            "1/1 [==============================] - 2s 2s/step\n"
          ]
        },
        {
          "output_type": "stream",
          "name": "stderr",
          "text": [
            " 54%|█████▍    | 27/50 [00:56<00:46,  2.04s/it]"
          ]
        },
        {
          "output_type": "stream",
          "name": "stdout",
          "text": [
            "Saving predicted mask for image: DMI_OS_UPPER_REFLECTED_IR_22936699.JPG\n",
            "1/1 [==============================] - 2s 2s/step\n"
          ]
        },
        {
          "output_type": "stream",
          "name": "stderr",
          "text": [
            " 56%|█████▌    | 28/50 [00:58<00:45,  2.06s/it]"
          ]
        },
        {
          "output_type": "stream",
          "name": "stdout",
          "text": [
            "Saving predicted mask for image: DMI_OS_UPPER_REFLECTED_IR_22906586.JPG\n",
            "1/1 [==============================] - 2s 2s/step\n"
          ]
        },
        {
          "output_type": "stream",
          "name": "stderr",
          "text": [
            " 58%|█████▊    | 29/50 [01:00<00:43,  2.05s/it]"
          ]
        },
        {
          "output_type": "stream",
          "name": "stdout",
          "text": [
            "Saving predicted mask for image: DMI_OS_UPPER_REFLECTED_IR_22544148.JPG\n",
            "1/1 [==============================] - 2s 2s/step\n"
          ]
        },
        {
          "output_type": "stream",
          "name": "stderr",
          "text": [
            " 60%|██████    | 30/50 [01:02<00:40,  2.04s/it]"
          ]
        },
        {
          "output_type": "stream",
          "name": "stdout",
          "text": [
            "Saving predicted mask for image: DMI_OS_UPPER_REFLECTED_IR_22971735.JPG\n",
            "1/1 [==============================] - 2s 2s/step\n"
          ]
        },
        {
          "output_type": "stream",
          "name": "stderr",
          "text": [
            " 62%|██████▏   | 31/50 [01:04<00:38,  2.03s/it]"
          ]
        },
        {
          "output_type": "stream",
          "name": "stdout",
          "text": [
            "Saving predicted mask for image: DMI_OS_UPPER_REFLECTED_IR_22559920.JPG\n",
            "1/1 [==============================] - 2s 2s/step\n"
          ]
        },
        {
          "output_type": "stream",
          "name": "stderr",
          "text": [
            " 64%|██████▍   | 32/50 [01:06<00:36,  2.03s/it]"
          ]
        },
        {
          "output_type": "stream",
          "name": "stdout",
          "text": [
            "Saving predicted mask for image: DMI_OS_UPPER_REFLECTED_IR_22890491.JPG\n",
            "1/1 [==============================] - 2s 2s/step\n"
          ]
        },
        {
          "output_type": "stream",
          "name": "stderr",
          "text": [
            " 66%|██████▌   | 33/50 [01:08<00:34,  2.04s/it]"
          ]
        },
        {
          "output_type": "stream",
          "name": "stdout",
          "text": [
            "Saving predicted mask for image: DMI_OS_UPPER_REFLECTED_IR_22995998.JPG\n",
            "1/1 [==============================] - 2s 2s/step\n"
          ]
        },
        {
          "output_type": "stream",
          "name": "stderr",
          "text": [
            " 68%|██████▊   | 34/50 [01:10<00:32,  2.04s/it]"
          ]
        },
        {
          "output_type": "stream",
          "name": "stdout",
          "text": [
            "Saving predicted mask for image: DMI_OS_UPPER_REFLECTED_IR_22967793.JPG\n",
            "1/1 [==============================] - 2s 2s/step\n"
          ]
        },
        {
          "output_type": "stream",
          "name": "stderr",
          "text": [
            " 70%|███████   | 35/50 [01:12<00:30,  2.04s/it]"
          ]
        },
        {
          "output_type": "stream",
          "name": "stdout",
          "text": [
            "Saving predicted mask for image: DMI_OS_UPPER_REFLECTED_IR_22921829.JPG\n",
            "1/1 [==============================] - 2s 2s/step\n"
          ]
        },
        {
          "output_type": "stream",
          "name": "stderr",
          "text": [
            " 72%|███████▏  | 36/50 [01:14<00:28,  2.05s/it]"
          ]
        },
        {
          "output_type": "stream",
          "name": "stdout",
          "text": [
            "Saving predicted mask for image: DMI_OS_UPPER_REFLECTED_IR_22539236.JPG\n",
            "1/1 [==============================] - 2s 2s/step\n"
          ]
        },
        {
          "output_type": "stream",
          "name": "stderr",
          "text": [
            " 74%|███████▍  | 37/50 [01:16<00:26,  2.06s/it]"
          ]
        },
        {
          "output_type": "stream",
          "name": "stdout",
          "text": [
            "Saving predicted mask for image: DMI_OS_UPPER_REFLECTED_IR_22989135.JPG\n",
            "1/1 [==============================] - 2s 2s/step\n"
          ]
        },
        {
          "output_type": "stream",
          "name": "stderr",
          "text": [
            " 76%|███████▌  | 38/50 [01:18<00:24,  2.06s/it]"
          ]
        },
        {
          "output_type": "stream",
          "name": "stdout",
          "text": [
            "Saving predicted mask for image: DMI_OS_UPPER_REFLECTED_IR_22901596.JPG\n",
            "1/1 [==============================] - 2s 2s/step\n"
          ]
        },
        {
          "output_type": "stream",
          "name": "stderr",
          "text": [
            " 78%|███████▊  | 39/50 [01:20<00:22,  2.04s/it]"
          ]
        },
        {
          "output_type": "stream",
          "name": "stdout",
          "text": [
            "Saving predicted mask for image: DMI_OS_UPPER_REFLECTED_IR_23022836.JPG\n",
            "1/1 [==============================] - 2s 2s/step\n"
          ]
        },
        {
          "output_type": "stream",
          "name": "stderr",
          "text": [
            " 80%|████████  | 40/50 [01:22<00:20,  2.03s/it]"
          ]
        },
        {
          "output_type": "stream",
          "name": "stdout",
          "text": [
            "Saving predicted mask for image: DMI_OS_UPPER_REFLECTED_IR_23027867.JPG\n",
            "1/1 [==============================] - 2s 2s/step\n"
          ]
        },
        {
          "output_type": "stream",
          "name": "stderr",
          "text": [
            " 82%|████████▏ | 41/50 [01:24<00:18,  2.04s/it]"
          ]
        },
        {
          "output_type": "stream",
          "name": "stdout",
          "text": [
            "Saving predicted mask for image: DMI_OS_UPPER_REFLECTED_IR_23004217.JPG\n",
            "1/1 [==============================] - 2s 2s/step\n"
          ]
        },
        {
          "output_type": "stream",
          "name": "stderr",
          "text": [
            " 84%|████████▍ | 42/50 [01:26<00:16,  2.03s/it]"
          ]
        },
        {
          "output_type": "stream",
          "name": "stdout",
          "text": [
            "Saving predicted mask for image: DMI_OS_UPPER_REFLECTED_IR_23036946.JPG\n",
            "1/1 [==============================] - 2s 2s/step\n"
          ]
        },
        {
          "output_type": "stream",
          "name": "stderr",
          "text": [
            " 86%|████████▌ | 43/50 [01:28<00:14,  2.02s/it]"
          ]
        },
        {
          "output_type": "stream",
          "name": "stdout",
          "text": [
            "Saving predicted mask for image: DMI_OS_UPPER_REFLECTED_IR_23010647.JPG\n",
            "1/1 [==============================] - 2s 2s/step\n"
          ]
        },
        {
          "output_type": "stream",
          "name": "stderr",
          "text": [
            " 88%|████████▊ | 44/50 [01:30<00:12,  2.04s/it]"
          ]
        },
        {
          "output_type": "stream",
          "name": "stdout",
          "text": [
            "Saving predicted mask for image: DMI_OS_UPPER_REFLECTED_IR_23008516.JPG\n",
            "1/1 [==============================] - 2s 2s/step\n"
          ]
        },
        {
          "output_type": "stream",
          "name": "stderr",
          "text": [
            " 90%|█████████ | 45/50 [01:32<00:10,  2.06s/it]"
          ]
        },
        {
          "output_type": "stream",
          "name": "stdout",
          "text": [
            "Saving predicted mask for image: DMI_OS_UPPER_REFLECTED_IR_23026471.JPG\n",
            "1/1 [==============================] - 2s 2s/step\n"
          ]
        },
        {
          "output_type": "stream",
          "name": "stderr",
          "text": [
            " 92%|█████████▏| 46/50 [01:34<00:08,  2.07s/it]"
          ]
        },
        {
          "output_type": "stream",
          "name": "stdout",
          "text": [
            "Saving predicted mask for image: DMI_OS_UPPER_REFLECTED_IR_23043359.JPG\n",
            "1/1 [==============================] - 2s 2s/step\n"
          ]
        },
        {
          "output_type": "stream",
          "name": "stderr",
          "text": [
            " 94%|█████████▍| 47/50 [01:36<00:06,  2.06s/it]"
          ]
        },
        {
          "output_type": "stream",
          "name": "stdout",
          "text": [
            "Saving predicted mask for image: DMI_OS_UPPER_REFLECTED_IR_23043831.JPG\n",
            "1/1 [==============================] - 2s 2s/step\n"
          ]
        },
        {
          "output_type": "stream",
          "name": "stderr",
          "text": [
            " 96%|█████████▌| 48/50 [01:38<00:04,  2.05s/it]"
          ]
        },
        {
          "output_type": "stream",
          "name": "stdout",
          "text": [
            "Saving predicted mask for image: DMI_OS_UPPER_REFLECTED_IR_23004364.JPG\n",
            "1/1 [==============================] - 2s 2s/step\n"
          ]
        },
        {
          "output_type": "stream",
          "name": "stderr",
          "text": [
            " 98%|█████████▊| 49/50 [01:40<00:02,  2.03s/it]"
          ]
        },
        {
          "output_type": "stream",
          "name": "stdout",
          "text": [
            "Saving predicted mask for image: DMI_OS_UPPER_REFLECTED_IR_23008400.JPG\n",
            "1/1 [==============================] - 2s 2s/step\n"
          ]
        },
        {
          "output_type": "stream",
          "name": "stderr",
          "text": [
            "100%|██████████| 50/50 [01:43<00:00,  2.06s/it]"
          ]
        },
        {
          "output_type": "stream",
          "name": "stdout",
          "text": [
            "Saving predicted mask for image: DMI_OS_UPPER_REFLECTED_IR_23033914.JPG\n"
          ]
        },
        {
          "output_type": "stream",
          "name": "stderr",
          "text": [
            "\n"
          ]
        }
      ]
    },
    {
      "cell_type": "code",
      "source": [
        "from google.colab.patches import cv2_imshow\n"
      ],
      "metadata": {
        "id": "3N4dPqp031lz"
      },
      "execution_count": null,
      "outputs": []
    },
    {
      "cell_type": "code",
      "source": [
        "import cv2\n",
        "import numpy as np\n",
        "import os\n",
        "\n",
        "# Define the paths to the original images, ground truth masks, and predicted masks.\n",
        "original_image_path = \"../content/drive/MyDrive/U-Net/test/images\"\n",
        "ground_truth_mask_path = \"../content/drive/MyDrive/U-Net/test/masks\"\n",
        "predicted_mask_path = \"../content/drive/MyDrive/U-Net/pred\"\n",
        "\n",
        "# Get the list of paths to the original images.\n",
        "original_image_paths = os.listdir(original_image_path)\n",
        "\n",
        "# Iterate over the original images.\n",
        "for image_path in original_image_paths:\n",
        "\n",
        "    # Read the original image.\n",
        "    original_image = cv2.imread(os.path.join(original_image_path, image_path), cv2.IMREAD_COLOR)\n",
        "\n",
        "    # Read the ground truth mask.\n",
        "    ground_truth_mask = cv2.imread(os.path.join(ground_truth_mask_path, image_path), cv2.IMREAD_GRAYSCALE)\n",
        "\n",
        "    # Read the predicted mask.\n",
        "    predicted_mask = cv2.imread(os.path.join(predicted_mask_path, image_path), cv2.IMREAD_GRAYSCALE)\n",
        "\n",
        "    # Display the original image, ground truth mask, and predicted mask.\n",
        "    cv2.imshow(\"Original image\", original_image_path)\n",
        "    cv2.imshow(\"Ground truth mask\", ground_truth_mask_path)\n",
        "    cv2.imshow(\"Predicted mask\", predicted_mask_path)\n",
        "\n",
        "    # Wait for key press.\n",
        "    cv2.waitKey(0)\n",
        "\n",
        "# Close all windows.\n",
        "cv2.destroyAllWindows()\n"
      ],
      "metadata": {
        "colab": {
          "base_uri": "https://localhost:8080/",
          "height": 426
        },
        "id": "7lZwnK6q4wGB",
        "outputId": "138e847f-2f6a-43d7-f713-549fb3c690bb"
      },
      "execution_count": null,
      "outputs": [
        {
          "output_type": "error",
          "ename": "DisabledFunctionError",
          "evalue": "ignored",
          "traceback": [
            "\u001b[0;31m---------------------------------------------------------------------------\u001b[0m",
            "\u001b[0;31mDisabledFunctionError\u001b[0m                     Traceback (most recent call last)",
            "\u001b[0;32m<ipython-input-43-805647fc88d0>\u001b[0m in \u001b[0;36m<cell line: 14>\u001b[0;34m()\u001b[0m\n\u001b[1;32m     24\u001b[0m \u001b[0;34m\u001b[0m\u001b[0m\n\u001b[1;32m     25\u001b[0m     \u001b[0;31m# Display the original image, ground truth mask, and predicted mask.\u001b[0m\u001b[0;34m\u001b[0m\u001b[0;34m\u001b[0m\u001b[0m\n\u001b[0;32m---> 26\u001b[0;31m     \u001b[0mcv2\u001b[0m\u001b[0;34m.\u001b[0m\u001b[0mimshow\u001b[0m\u001b[0;34m(\u001b[0m\u001b[0;34m\"Original image\"\u001b[0m\u001b[0;34m,\u001b[0m \u001b[0moriginal_image_path\u001b[0m\u001b[0;34m)\u001b[0m\u001b[0;34m\u001b[0m\u001b[0;34m\u001b[0m\u001b[0m\n\u001b[0m\u001b[1;32m     27\u001b[0m     \u001b[0mcv2\u001b[0m\u001b[0;34m.\u001b[0m\u001b[0mimshow\u001b[0m\u001b[0;34m(\u001b[0m\u001b[0;34m\"Ground truth mask\"\u001b[0m\u001b[0;34m,\u001b[0m \u001b[0mground_truth_mask_path\u001b[0m\u001b[0;34m)\u001b[0m\u001b[0;34m\u001b[0m\u001b[0;34m\u001b[0m\u001b[0m\n\u001b[1;32m     28\u001b[0m     \u001b[0mcv2\u001b[0m\u001b[0;34m.\u001b[0m\u001b[0mimshow\u001b[0m\u001b[0;34m(\u001b[0m\u001b[0;34m\"Predicted mask\"\u001b[0m\u001b[0;34m,\u001b[0m \u001b[0mpredicted_mask_path\u001b[0m\u001b[0;34m)\u001b[0m\u001b[0;34m\u001b[0m\u001b[0;34m\u001b[0m\u001b[0m\n",
            "\u001b[0;32m/usr/local/lib/python3.10/dist-packages/google/colab/_import_hooks/_cv2.py\u001b[0m in \u001b[0;36mwrapped\u001b[0;34m(*args, **kwargs)\u001b[0m\n\u001b[1;32m     46\u001b[0m   \u001b[0;32mdef\u001b[0m \u001b[0mwrapped\u001b[0m\u001b[0;34m(\u001b[0m\u001b[0;34m*\u001b[0m\u001b[0margs\u001b[0m\u001b[0;34m,\u001b[0m \u001b[0;34m**\u001b[0m\u001b[0mkwargs\u001b[0m\u001b[0;34m)\u001b[0m\u001b[0;34m:\u001b[0m\u001b[0;34m\u001b[0m\u001b[0;34m\u001b[0m\u001b[0m\n\u001b[1;32m     47\u001b[0m     \u001b[0;32mif\u001b[0m \u001b[0;32mnot\u001b[0m \u001b[0mos\u001b[0m\u001b[0;34m.\u001b[0m\u001b[0menviron\u001b[0m\u001b[0;34m.\u001b[0m\u001b[0mget\u001b[0m\u001b[0;34m(\u001b[0m\u001b[0menv_var\u001b[0m\u001b[0;34m,\u001b[0m \u001b[0;32mFalse\u001b[0m\u001b[0;34m)\u001b[0m\u001b[0;34m:\u001b[0m\u001b[0;34m\u001b[0m\u001b[0;34m\u001b[0m\u001b[0m\n\u001b[0;32m---> 48\u001b[0;31m       \u001b[0;32mraise\u001b[0m \u001b[0mDisabledFunctionError\u001b[0m\u001b[0;34m(\u001b[0m\u001b[0mmessage\u001b[0m\u001b[0;34m,\u001b[0m \u001b[0mname\u001b[0m \u001b[0;32mor\u001b[0m \u001b[0mfunc\u001b[0m\u001b[0;34m.\u001b[0m\u001b[0m__name__\u001b[0m\u001b[0;34m)\u001b[0m\u001b[0;34m\u001b[0m\u001b[0;34m\u001b[0m\u001b[0m\n\u001b[0m\u001b[1;32m     49\u001b[0m     \u001b[0;32mreturn\u001b[0m \u001b[0mfunc\u001b[0m\u001b[0;34m(\u001b[0m\u001b[0;34m*\u001b[0m\u001b[0margs\u001b[0m\u001b[0;34m,\u001b[0m \u001b[0;34m**\u001b[0m\u001b[0mkwargs\u001b[0m\u001b[0;34m)\u001b[0m\u001b[0;34m\u001b[0m\u001b[0;34m\u001b[0m\u001b[0m\n\u001b[1;32m     50\u001b[0m \u001b[0;34m\u001b[0m\u001b[0m\n",
            "\u001b[0;31mDisabledFunctionError\u001b[0m: cv2.imshow() is disabled in Colab, because it causes Jupyter sessions\nto crash; see https://github.com/jupyter/notebook/issues/3935.\nAs a substitution, consider using\n  from google.colab.patches import cv2_imshow\n"
          ],
          "errorDetails": {
            "actions": [
              {
                "action": "open_snippet",
                "actionText": "Search Snippets for cv2.imshow",
                "snippetFilter": "cv2.imshow"
              }
            ]
          }
        }
      ]
    }
  ]
}